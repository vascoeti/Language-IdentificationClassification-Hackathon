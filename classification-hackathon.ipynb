{
 "cells": [
  {
   "cell_type": "code",
   "execution_count": 1,
   "id": "ac213dea",
   "metadata": {
    "_cell_guid": "b1076dfc-b9ad-4769-8c92-a6c4dae69d19",
    "_uuid": "8f2839f25d086af736a60e9eeb907d3b93b6e0e5",
    "execution": {
     "iopub.execute_input": "2023-06-30T12:40:56.787055Z",
     "iopub.status.busy": "2023-06-30T12:40:56.786411Z",
     "iopub.status.idle": "2023-06-30T12:40:56.799253Z",
     "shell.execute_reply": "2023-06-30T12:40:56.798199Z"
    },
    "papermill": {
     "duration": 0.035193,
     "end_time": "2023-06-30T12:40:56.801371",
     "exception": false,
     "start_time": "2023-06-30T12:40:56.766178",
     "status": "completed"
    },
    "tags": []
   },
   "outputs": [
    {
     "name": "stdout",
     "output_type": "stream",
     "text": [
      "/kaggle/input/south-african-language-identification-hack-2023/sample_submission.csv\n",
      "/kaggle/input/south-african-language-identification-hack-2023/test_set.csv\n",
      "/kaggle/input/south-african-language-identification-hack-2023/train_set.csv\n"
     ]
    }
   ],
   "source": [
    "# This Python 3 environment comes with many helpful analytics libraries installed\n",
    "# It is defined by the kaggle/python Docker image: https://github.com/kaggle/docker-python\n",
    "# For example, here's several helpful packages to load\n",
    "\n",
    "import numpy as np # linear algebra\n",
    "import pandas as pd # data processing, CSV file I/O (e.g. pd.read_csv)\n",
    "\n",
    "# Input data files are available in the read-only \"../input/\" directory\n",
    "# For example, running this (by clicking run or pressing Shift+Enter) will list all files under the input directory\n",
    "\n",
    "import os\n",
    "for dirname, _, filenames in os.walk('/kaggle/input'):\n",
    "    for filename in filenames:\n",
    "        print(os.path.join(dirname, filename))\n",
    "\n",
    "# You can write up to 20GB to the current directory (/kaggle/working/) that gets preserved as output when you create a version using \"Save & Run All\" \n",
    "# You can also write temporary files to /kaggle/temp/, but they won't be saved outside of the current session"
   ]
  },
  {
   "cell_type": "markdown",
   "id": "1269df58",
   "metadata": {
    "papermill": {
     "duration": 0.017352,
     "end_time": "2023-06-30T12:40:56.836482",
     "exception": false,
     "start_time": "2023-06-30T12:40:56.819130",
     "status": "completed"
    },
    "tags": []
   },
   "source": [
    "# ****ExploreAI Academy Classification Hackathon****\n",
    "\n",
    "# ****Overview****\n"
   ]
  },
  {
   "cell_type": "markdown",
   "id": "0071f64c",
   "metadata": {
    "papermill": {
     "duration": 0.01781,
     "end_time": "2023-06-30T12:40:56.872075",
     "exception": false,
     "start_time": "2023-06-30T12:40:56.854265",
     "status": "completed"
    },
    "tags": []
   },
   "source": [
    "South Africa is a multicultural society that is characterised by its rich linguistic diversity. Language is an indispensable tool that can be used to deepen democracy and also contribute to the social, cultural, intellectual, economic and political life of the South African society.\n",
    "\n",
    "The country is multilingual with 11 official languages, each of which is guaranteed equal status. Most South Africans are multilingual and able to speak at least two or more of the official languages.\n",
    "\n",
    "\n",
    "From <a href=\"https://www.gov.za/about-sa/south-africas-people\">South African Government<a>\n",
    "    \n",
    "<img src=\"https://www.googleapis.com/download/storage/v1/b/kaggle-user-content/o/inbox%2F2205222%2F7f34544c1b1f61d1a5949bddacfd84a9%2FSouth_Africa_languages_2011.jpg?generation=1604393669339034&alt=media\" alt=\"language\"/>"
   ]
  },
  {
   "cell_type": "markdown",
   "id": "4505b0cf",
   "metadata": {
    "papermill": {
     "duration": 0.018611,
     "end_time": "2023-06-30T12:40:56.908623",
     "exception": false,
     "start_time": "2023-06-30T12:40:56.890012",
     "status": "completed"
    },
    "tags": []
   },
   "source": [
    "With such a multilingual population, it is only obvious that our systems and devices also communicate in multi-languages.\n",
    "\n",
    "In this challenge, you will take text which is in any of South Africa's 11 Official languages and identify which language the text is in. This is an example of NLP's Language Identification, the task of determining the natural language that a piece of text is written in.\n",
    "\n"
   ]
  },
  {
   "cell_type": "code",
   "execution_count": 2,
   "id": "92625a3c",
   "metadata": {
    "execution": {
     "iopub.execute_input": "2023-06-30T12:40:56.947898Z",
     "iopub.status.busy": "2023-06-30T12:40:56.947059Z",
     "iopub.status.idle": "2023-06-30T12:40:57.238580Z",
     "shell.execute_reply": "2023-06-30T12:40:57.237277Z"
    },
    "papermill": {
     "duration": 0.314384,
     "end_time": "2023-06-30T12:40:57.241678",
     "exception": false,
     "start_time": "2023-06-30T12:40:56.927294",
     "status": "completed"
    },
    "tags": []
   },
   "outputs": [],
   "source": [
    "df_sample = pd.read_csv('/kaggle/input/south-african-language-identification-hack-2023/sample_submission.csv')\n",
    "df_train = pd.read_csv('/kaggle/input/south-african-language-identification-hack-2023/train_set.csv')\n",
    "df_test = pd.read_csv('/kaggle/input/south-african-language-identification-hack-2023/test_set.csv')"
   ]
  },
  {
   "cell_type": "code",
   "execution_count": 3,
   "id": "5a15e5c6",
   "metadata": {
    "execution": {
     "iopub.execute_input": "2023-06-30T12:40:57.280730Z",
     "iopub.status.busy": "2023-06-30T12:40:57.280321Z",
     "iopub.status.idle": "2023-06-30T12:40:58.827838Z",
     "shell.execute_reply": "2023-06-30T12:40:58.826933Z"
    },
    "papermill": {
     "duration": 1.569225,
     "end_time": "2023-06-30T12:40:58.830289",
     "exception": false,
     "start_time": "2023-06-30T12:40:57.261064",
     "status": "completed"
    },
    "tags": []
   },
   "outputs": [],
   "source": [
    "import sklearn\n",
    "\n",
    "from sklearn.preprocessing import LabelEncoder\n",
    "from sklearn.model_selection import GridSearchCV\n",
    "from sklearn.ensemble import RandomForestClassifier, AdaBoostClassifier, GradientBoostingClassifier\n",
    "from sklearn.feature_extraction.text import CountVectorizer\n",
    "from sklearn.feature_extraction.text import TfidfVectorizer\n",
    "\n",
    "from sklearn.linear_model import Ridge\n",
    "from sklearn.model_selection import KFold\n",
    "from sklearn import linear_model\n",
    "from sklearn.model_selection import cross_val_score\n",
    "from sklearn.naive_bayes import MultinomialNB\n",
    "from sklearn.metrics import classification_report,confusion_matrix \n",
    "from sklearn.metrics import accuracy_score\n",
    "from sklearn.tree import DecisionTreeClassifier\n",
    "from sklearn.naive_bayes import MultinomialNB\n",
    "from sklearn.ensemble import RandomForestClassifier, AdaBoostClassifier, GradientBoostingClassifier\n",
    "\n",
    "from sklearn.naive_bayes import MultinomialNB\n",
    "from sklearn.model_selection import StratifiedKFold, cross_validate, train_test_split, cross_val_score, KFold\n",
    "from sklearn.preprocessing import StandardScaler, OneHotEncoder, LabelEncoder\n",
    "from sklearn.metrics import roc_curve, auc, classification_report, confusion_matrix, precision_score, recall_score,  accuracy_score, precision_recall_curve\n",
    "from sklearn.model_selection import train_test_split\n",
    "\n",
    "from sklearn.model_selection import StratifiedKFold, cross_validate, train_test_split, cross_val_score, KFold\n",
    "from sklearn.preprocessing import StandardScaler, OneHotEncoder, LabelEncoder\n",
    "from sklearn.metrics import roc_curve, auc, classification_report, confusion_matrix, precision_score, recall_score,  accuracy_score, precision_recall_curve\n"
   ]
  },
  {
   "cell_type": "code",
   "execution_count": 4,
   "id": "a83b2db8",
   "metadata": {
    "execution": {
     "iopub.execute_input": "2023-06-30T12:40:58.869433Z",
     "iopub.status.busy": "2023-06-30T12:40:58.868777Z",
     "iopub.status.idle": "2023-06-30T12:40:59.276664Z",
     "shell.execute_reply": "2023-06-30T12:40:59.275750Z"
    },
    "papermill": {
     "duration": 0.430392,
     "end_time": "2023-06-30T12:40:59.278985",
     "exception": false,
     "start_time": "2023-06-30T12:40:58.848593",
     "status": "completed"
    },
    "tags": []
   },
   "outputs": [],
   "source": [
    "import nltk\n",
    "from nltk.stem.porter import PorterStemmer\n",
    "from nltk.tokenize import TweetTokenizer\n",
    "from nltk.tokenize import word_tokenize \n",
    "from nltk.tokenize import word_tokenize\n",
    "from nltk.stem import WordNetLemmatizer\n",
    "from nltk.tokenize import sent_tokenize\n",
    "from nltk.corpus import stopwords\n"
   ]
  },
  {
   "cell_type": "code",
   "execution_count": 5,
   "id": "4e441b20",
   "metadata": {
    "execution": {
     "iopub.execute_input": "2023-06-30T12:40:59.317815Z",
     "iopub.status.busy": "2023-06-30T12:40:59.317490Z",
     "iopub.status.idle": "2023-06-30T12:40:59.623150Z",
     "shell.execute_reply": "2023-06-30T12:40:59.622195Z"
    },
    "papermill": {
     "duration": 0.327678,
     "end_time": "2023-06-30T12:40:59.625575",
     "exception": false,
     "start_time": "2023-06-30T12:40:59.297897",
     "status": "completed"
    },
    "tags": []
   },
   "outputs": [],
   "source": [
    "from PIL import Image\n",
    "from wordcloud import WordCloud, STOPWORDS, ImageColorGenerator\n",
    "import seaborn as sns\n",
    "import matplotlib.pyplot as plt\n",
    "\n",
    "import scipy\n",
    "\n",
    "import warnings\n",
    "warnings.filterwarnings('ignore')\n",
    "\n",
    "import re\n",
    "from collections import Counter"
   ]
  },
  {
   "cell_type": "code",
   "execution_count": 6,
   "id": "8e5e1f0c",
   "metadata": {
    "execution": {
     "iopub.execute_input": "2023-06-30T12:40:59.663197Z",
     "iopub.status.busy": "2023-06-30T12:40:59.662847Z",
     "iopub.status.idle": "2023-06-30T12:40:59.688675Z",
     "shell.execute_reply": "2023-06-30T12:40:59.688025Z"
    },
    "papermill": {
     "duration": 0.046114,
     "end_time": "2023-06-30T12:40:59.690433",
     "exception": false,
     "start_time": "2023-06-30T12:40:59.644319",
     "status": "completed"
    },
    "tags": []
   },
   "outputs": [
    {
     "data": {
      "text/html": [
       "<div>\n",
       "<style scoped>\n",
       "    .dataframe tbody tr th:only-of-type {\n",
       "        vertical-align: middle;\n",
       "    }\n",
       "\n",
       "    .dataframe tbody tr th {\n",
       "        vertical-align: top;\n",
       "    }\n",
       "\n",
       "    .dataframe thead th {\n",
       "        text-align: right;\n",
       "    }\n",
       "</style>\n",
       "<table border=\"1\" class=\"dataframe\">\n",
       "  <thead>\n",
       "    <tr style=\"text-align: right;\">\n",
       "      <th></th>\n",
       "      <th>index</th>\n",
       "      <th>lang_id</th>\n",
       "    </tr>\n",
       "  </thead>\n",
       "  <tbody>\n",
       "    <tr>\n",
       "      <th>0</th>\n",
       "      <td>1</td>\n",
       "      <td>tsn</td>\n",
       "    </tr>\n",
       "    <tr>\n",
       "      <th>1</th>\n",
       "      <td>2</td>\n",
       "      <td>nbl</td>\n",
       "    </tr>\n",
       "  </tbody>\n",
       "</table>\n",
       "</div>"
      ],
      "text/plain": [
       "   index lang_id\n",
       "0      1     tsn\n",
       "1      2     nbl"
      ]
     },
     "execution_count": 6,
     "metadata": {},
     "output_type": "execute_result"
    }
   ],
   "source": [
    "df_sample.head()"
   ]
  },
  {
   "cell_type": "code",
   "execution_count": 7,
   "id": "c8f97a6a",
   "metadata": {
    "execution": {
     "iopub.execute_input": "2023-06-30T12:40:59.729262Z",
     "iopub.status.busy": "2023-06-30T12:40:59.728495Z",
     "iopub.status.idle": "2023-06-30T12:40:59.736489Z",
     "shell.execute_reply": "2023-06-30T12:40:59.735812Z"
    },
    "papermill": {
     "duration": 0.029018,
     "end_time": "2023-06-30T12:40:59.738205",
     "exception": false,
     "start_time": "2023-06-30T12:40:59.709187",
     "status": "completed"
    },
    "tags": []
   },
   "outputs": [
    {
     "data": {
      "text/html": [
       "<div>\n",
       "<style scoped>\n",
       "    .dataframe tbody tr th:only-of-type {\n",
       "        vertical-align: middle;\n",
       "    }\n",
       "\n",
       "    .dataframe tbody tr th {\n",
       "        vertical-align: top;\n",
       "    }\n",
       "\n",
       "    .dataframe thead th {\n",
       "        text-align: right;\n",
       "    }\n",
       "</style>\n",
       "<table border=\"1\" class=\"dataframe\">\n",
       "  <thead>\n",
       "    <tr style=\"text-align: right;\">\n",
       "      <th></th>\n",
       "      <th>lang_id</th>\n",
       "      <th>text</th>\n",
       "    </tr>\n",
       "  </thead>\n",
       "  <tbody>\n",
       "    <tr>\n",
       "      <th>0</th>\n",
       "      <td>xho</td>\n",
       "      <td>umgaqo-siseko wenza amalungiselelo kumaziko ax...</td>\n",
       "    </tr>\n",
       "    <tr>\n",
       "      <th>1</th>\n",
       "      <td>xho</td>\n",
       "      <td>i-dha iya kuba nobulumko bokubeka umsebenzi na...</td>\n",
       "    </tr>\n",
       "    <tr>\n",
       "      <th>2</th>\n",
       "      <td>eng</td>\n",
       "      <td>the province of kwazulu-natal department of tr...</td>\n",
       "    </tr>\n",
       "    <tr>\n",
       "      <th>3</th>\n",
       "      <td>nso</td>\n",
       "      <td>o netefatša gore o ba file dilo ka moka tše le...</td>\n",
       "    </tr>\n",
       "    <tr>\n",
       "      <th>4</th>\n",
       "      <td>ven</td>\n",
       "      <td>khomishini ya ndinganyiso ya mbeu yo ewa maana...</td>\n",
       "    </tr>\n",
       "  </tbody>\n",
       "</table>\n",
       "</div>"
      ],
      "text/plain": [
       "  lang_id                                               text\n",
       "0     xho  umgaqo-siseko wenza amalungiselelo kumaziko ax...\n",
       "1     xho  i-dha iya kuba nobulumko bokubeka umsebenzi na...\n",
       "2     eng  the province of kwazulu-natal department of tr...\n",
       "3     nso  o netefatša gore o ba file dilo ka moka tše le...\n",
       "4     ven  khomishini ya ndinganyiso ya mbeu yo ewa maana..."
      ]
     },
     "execution_count": 7,
     "metadata": {},
     "output_type": "execute_result"
    }
   ],
   "source": [
    "df_train.head()"
   ]
  },
  {
   "cell_type": "code",
   "execution_count": 8,
   "id": "aa65cdd8",
   "metadata": {
    "execution": {
     "iopub.execute_input": "2023-06-30T12:40:59.775283Z",
     "iopub.status.busy": "2023-06-30T12:40:59.774737Z",
     "iopub.status.idle": "2023-06-30T12:40:59.782771Z",
     "shell.execute_reply": "2023-06-30T12:40:59.781841Z"
    },
    "papermill": {
     "duration": 0.029097,
     "end_time": "2023-06-30T12:40:59.784685",
     "exception": false,
     "start_time": "2023-06-30T12:40:59.755588",
     "status": "completed"
    },
    "tags": []
   },
   "outputs": [
    {
     "data": {
      "text/html": [
       "<div>\n",
       "<style scoped>\n",
       "    .dataframe tbody tr th:only-of-type {\n",
       "        vertical-align: middle;\n",
       "    }\n",
       "\n",
       "    .dataframe tbody tr th {\n",
       "        vertical-align: top;\n",
       "    }\n",
       "\n",
       "    .dataframe thead th {\n",
       "        text-align: right;\n",
       "    }\n",
       "</style>\n",
       "<table border=\"1\" class=\"dataframe\">\n",
       "  <thead>\n",
       "    <tr style=\"text-align: right;\">\n",
       "      <th></th>\n",
       "      <th>index</th>\n",
       "      <th>text</th>\n",
       "    </tr>\n",
       "  </thead>\n",
       "  <tbody>\n",
       "    <tr>\n",
       "      <th>0</th>\n",
       "      <td>1</td>\n",
       "      <td>Mmasepala, fa maemo a a kgethegileng a letlele...</td>\n",
       "    </tr>\n",
       "    <tr>\n",
       "      <th>1</th>\n",
       "      <td>2</td>\n",
       "      <td>Uzakwaziswa ngokufaneleko nakungafuneka eminye...</td>\n",
       "    </tr>\n",
       "    <tr>\n",
       "      <th>2</th>\n",
       "      <td>3</td>\n",
       "      <td>Tshivhumbeo tshi fana na ngano dza vhathu.</td>\n",
       "    </tr>\n",
       "    <tr>\n",
       "      <th>3</th>\n",
       "      <td>4</td>\n",
       "      <td>Kube inja nelikati betingevakala kutsi titsini...</td>\n",
       "    </tr>\n",
       "    <tr>\n",
       "      <th>4</th>\n",
       "      <td>5</td>\n",
       "      <td>Winste op buitelandse valuta.</td>\n",
       "    </tr>\n",
       "  </tbody>\n",
       "</table>\n",
       "</div>"
      ],
      "text/plain": [
       "   index                                               text\n",
       "0      1  Mmasepala, fa maemo a a kgethegileng a letlele...\n",
       "1      2  Uzakwaziswa ngokufaneleko nakungafuneka eminye...\n",
       "2      3         Tshivhumbeo tshi fana na ngano dza vhathu.\n",
       "3      4  Kube inja nelikati betingevakala kutsi titsini...\n",
       "4      5                      Winste op buitelandse valuta."
      ]
     },
     "execution_count": 8,
     "metadata": {},
     "output_type": "execute_result"
    }
   ],
   "source": [
    "df_test.head()"
   ]
  },
  {
   "cell_type": "markdown",
   "id": "88ad3c8f",
   "metadata": {
    "papermill": {
     "duration": 0.018074,
     "end_time": "2023-06-30T12:40:59.821450",
     "exception": false,
     "start_time": "2023-06-30T12:40:59.803376",
     "status": "completed"
    },
    "tags": []
   },
   "source": [
    "**getting all Data together.**"
   ]
  },
  {
   "cell_type": "code",
   "execution_count": 9,
   "id": "cf3d7a45",
   "metadata": {
    "execution": {
     "iopub.execute_input": "2023-06-30T12:40:59.861679Z",
     "iopub.status.busy": "2023-06-30T12:40:59.861259Z",
     "iopub.status.idle": "2023-06-30T12:40:59.871527Z",
     "shell.execute_reply": "2023-06-30T12:40:59.870660Z"
    },
    "papermill": {
     "duration": 0.03298,
     "end_time": "2023-06-30T12:40:59.873459",
     "exception": false,
     "start_time": "2023-06-30T12:40:59.840479",
     "status": "completed"
    },
    "tags": []
   },
   "outputs": [],
   "source": [
    "df = df_train.append(df_test, sort= False)"
   ]
  },
  {
   "cell_type": "code",
   "execution_count": 10,
   "id": "6e9d9b32",
   "metadata": {
    "execution": {
     "iopub.execute_input": "2023-06-30T12:40:59.913135Z",
     "iopub.status.busy": "2023-06-30T12:40:59.912801Z",
     "iopub.status.idle": "2023-06-30T12:40:59.926953Z",
     "shell.execute_reply": "2023-06-30T12:40:59.925978Z"
    },
    "papermill": {
     "duration": 0.036857,
     "end_time": "2023-06-30T12:40:59.929353",
     "exception": false,
     "start_time": "2023-06-30T12:40:59.892496",
     "status": "completed"
    },
    "tags": []
   },
   "outputs": [
    {
     "data": {
      "text/html": [
       "<div>\n",
       "<style scoped>\n",
       "    .dataframe tbody tr th:only-of-type {\n",
       "        vertical-align: middle;\n",
       "    }\n",
       "\n",
       "    .dataframe tbody tr th {\n",
       "        vertical-align: top;\n",
       "    }\n",
       "\n",
       "    .dataframe thead th {\n",
       "        text-align: right;\n",
       "    }\n",
       "</style>\n",
       "<table border=\"1\" class=\"dataframe\">\n",
       "  <thead>\n",
       "    <tr style=\"text-align: right;\">\n",
       "      <th></th>\n",
       "      <th>lang_id</th>\n",
       "      <th>text</th>\n",
       "      <th>index</th>\n",
       "    </tr>\n",
       "  </thead>\n",
       "  <tbody>\n",
       "    <tr>\n",
       "      <th>0</th>\n",
       "      <td>xho</td>\n",
       "      <td>umgaqo-siseko wenza amalungiselelo kumaziko ax...</td>\n",
       "      <td>NaN</td>\n",
       "    </tr>\n",
       "    <tr>\n",
       "      <th>1</th>\n",
       "      <td>xho</td>\n",
       "      <td>i-dha iya kuba nobulumko bokubeka umsebenzi na...</td>\n",
       "      <td>NaN</td>\n",
       "    </tr>\n",
       "    <tr>\n",
       "      <th>2</th>\n",
       "      <td>eng</td>\n",
       "      <td>the province of kwazulu-natal department of tr...</td>\n",
       "      <td>NaN</td>\n",
       "    </tr>\n",
       "    <tr>\n",
       "      <th>3</th>\n",
       "      <td>nso</td>\n",
       "      <td>o netefatša gore o ba file dilo ka moka tše le...</td>\n",
       "      <td>NaN</td>\n",
       "    </tr>\n",
       "    <tr>\n",
       "      <th>4</th>\n",
       "      <td>ven</td>\n",
       "      <td>khomishini ya ndinganyiso ya mbeu yo ewa maana...</td>\n",
       "      <td>NaN</td>\n",
       "    </tr>\n",
       "    <tr>\n",
       "      <th>...</th>\n",
       "      <td>...</td>\n",
       "      <td>...</td>\n",
       "      <td>...</td>\n",
       "    </tr>\n",
       "    <tr>\n",
       "      <th>5677</th>\n",
       "      <td>NaN</td>\n",
       "      <td>You mark your ballot in private.</td>\n",
       "      <td>5678.0</td>\n",
       "    </tr>\n",
       "    <tr>\n",
       "      <th>5678</th>\n",
       "      <td>NaN</td>\n",
       "      <td>Ge o ka kgetha ka bowena go se šomiše Mofani k...</td>\n",
       "      <td>5679.0</td>\n",
       "    </tr>\n",
       "    <tr>\n",
       "      <th>5679</th>\n",
       "      <td>NaN</td>\n",
       "      <td>E Ka kopo etsa kgetho ya hao ka hloko, hobane ...</td>\n",
       "      <td>5680.0</td>\n",
       "    </tr>\n",
       "    <tr>\n",
       "      <th>5680</th>\n",
       "      <td>NaN</td>\n",
       "      <td>TB ke bokudi ba PMB, mme Morero o tla lefella ...</td>\n",
       "      <td>5681.0</td>\n",
       "    </tr>\n",
       "    <tr>\n",
       "      <th>5681</th>\n",
       "      <td>NaN</td>\n",
       "      <td>Vakatjhela iwebhusayidi yethu ku-www.</td>\n",
       "      <td>5682.0</td>\n",
       "    </tr>\n",
       "  </tbody>\n",
       "</table>\n",
       "<p>38682 rows × 3 columns</p>\n",
       "</div>"
      ],
      "text/plain": [
       "     lang_id                                               text   index\n",
       "0        xho  umgaqo-siseko wenza amalungiselelo kumaziko ax...     NaN\n",
       "1        xho  i-dha iya kuba nobulumko bokubeka umsebenzi na...     NaN\n",
       "2        eng  the province of kwazulu-natal department of tr...     NaN\n",
       "3        nso  o netefatša gore o ba file dilo ka moka tše le...     NaN\n",
       "4        ven  khomishini ya ndinganyiso ya mbeu yo ewa maana...     NaN\n",
       "...      ...                                                ...     ...\n",
       "5677     NaN                   You mark your ballot in private.  5678.0\n",
       "5678     NaN  Ge o ka kgetha ka bowena go se šomiše Mofani k...  5679.0\n",
       "5679     NaN  E Ka kopo etsa kgetho ya hao ka hloko, hobane ...  5680.0\n",
       "5680     NaN  TB ke bokudi ba PMB, mme Morero o tla lefella ...  5681.0\n",
       "5681     NaN              Vakatjhela iwebhusayidi yethu ku-www.  5682.0\n",
       "\n",
       "[38682 rows x 3 columns]"
      ]
     },
     "execution_count": 10,
     "metadata": {},
     "output_type": "execute_result"
    }
   ],
   "source": [
    "df"
   ]
  },
  {
   "cell_type": "code",
   "execution_count": 11,
   "id": "1a1fbc10",
   "metadata": {
    "execution": {
     "iopub.execute_input": "2023-06-30T12:40:59.968548Z",
     "iopub.status.busy": "2023-06-30T12:40:59.968020Z",
     "iopub.status.idle": "2023-06-30T12:40:59.989063Z",
     "shell.execute_reply": "2023-06-30T12:40:59.988062Z"
    },
    "papermill": {
     "duration": 0.042854,
     "end_time": "2023-06-30T12:40:59.991301",
     "exception": false,
     "start_time": "2023-06-30T12:40:59.948447",
     "status": "completed"
    },
    "tags": []
   },
   "outputs": [
    {
     "data": {
      "text/html": [
       "<div>\n",
       "<style scoped>\n",
       "    .dataframe tbody tr th:only-of-type {\n",
       "        vertical-align: middle;\n",
       "    }\n",
       "\n",
       "    .dataframe tbody tr th {\n",
       "        vertical-align: top;\n",
       "    }\n",
       "\n",
       "    .dataframe thead th {\n",
       "        text-align: right;\n",
       "    }\n",
       "</style>\n",
       "<table border=\"1\" class=\"dataframe\">\n",
       "  <thead>\n",
       "    <tr style=\"text-align: right;\">\n",
       "      <th></th>\n",
       "      <th>index</th>\n",
       "    </tr>\n",
       "  </thead>\n",
       "  <tbody>\n",
       "    <tr>\n",
       "      <th>count</th>\n",
       "      <td>5682.000000</td>\n",
       "    </tr>\n",
       "    <tr>\n",
       "      <th>mean</th>\n",
       "      <td>2841.500000</td>\n",
       "    </tr>\n",
       "    <tr>\n",
       "      <th>std</th>\n",
       "      <td>1640.396446</td>\n",
       "    </tr>\n",
       "    <tr>\n",
       "      <th>min</th>\n",
       "      <td>1.000000</td>\n",
       "    </tr>\n",
       "    <tr>\n",
       "      <th>25%</th>\n",
       "      <td>1421.250000</td>\n",
       "    </tr>\n",
       "    <tr>\n",
       "      <th>50%</th>\n",
       "      <td>2841.500000</td>\n",
       "    </tr>\n",
       "    <tr>\n",
       "      <th>75%</th>\n",
       "      <td>4261.750000</td>\n",
       "    </tr>\n",
       "    <tr>\n",
       "      <th>max</th>\n",
       "      <td>5682.000000</td>\n",
       "    </tr>\n",
       "  </tbody>\n",
       "</table>\n",
       "</div>"
      ],
      "text/plain": [
       "             index\n",
       "count  5682.000000\n",
       "mean   2841.500000\n",
       "std    1640.396446\n",
       "min       1.000000\n",
       "25%    1421.250000\n",
       "50%    2841.500000\n",
       "75%    4261.750000\n",
       "max    5682.000000"
      ]
     },
     "execution_count": 11,
     "metadata": {},
     "output_type": "execute_result"
    }
   ],
   "source": [
    "df.describe()"
   ]
  },
  {
   "cell_type": "code",
   "execution_count": 12,
   "id": "5f500cd5",
   "metadata": {
    "execution": {
     "iopub.execute_input": "2023-06-30T12:41:00.033382Z",
     "iopub.status.busy": "2023-06-30T12:41:00.033020Z",
     "iopub.status.idle": "2023-06-30T12:41:00.089709Z",
     "shell.execute_reply": "2023-06-30T12:41:00.088451Z"
    },
    "papermill": {
     "duration": 0.08011,
     "end_time": "2023-06-30T12:41:00.091805",
     "exception": false,
     "start_time": "2023-06-30T12:41:00.011695",
     "status": "completed"
    },
    "tags": []
   },
   "outputs": [
    {
     "name": "stdout",
     "output_type": "stream",
     "text": [
      "     lang_id                                               text  index\n",
      "940      xho  xa umntu lowo ephuma kule ndawo yihlola-hlolen...    NaN\n",
      "1208     nbl  ngokwesekhtjheni yomthetho ophathelene nalokhu...    NaN\n",
      "1252     ssw  kwabelana ngemininingwane enhlanganweni kutakw...    NaN\n",
      "1304     xho  umntu ocela ukukhuselwa ngumbuso ngumntu obale...    NaN\n",
      "1460     ven  kha vha ḓivhe hezwi a vha nga ḓo ita ndingo ya...    NaN\n"
     ]
    }
   ],
   "source": [
    "duplicatedRow = df[df.duplicated()]\n",
    "print(duplicatedRow[:5])"
   ]
  },
  {
   "cell_type": "code",
   "execution_count": 13,
   "id": "0d073174",
   "metadata": {
    "execution": {
     "iopub.execute_input": "2023-06-30T12:41:00.132350Z",
     "iopub.status.busy": "2023-06-30T12:41:00.131577Z",
     "iopub.status.idle": "2023-06-30T12:41:00.136730Z",
     "shell.execute_reply": "2023-06-30T12:41:00.136007Z"
    },
    "papermill": {
     "duration": 0.027141,
     "end_time": "2023-06-30T12:41:00.138493",
     "exception": false,
     "start_time": "2023-06-30T12:41:00.111352",
     "status": "completed"
    },
    "tags": []
   },
   "outputs": [
    {
     "data": {
      "text/plain": [
       "(38682, 3)"
      ]
     },
     "execution_count": 13,
     "metadata": {},
     "output_type": "execute_result"
    }
   ],
   "source": [
    "df.shape"
   ]
  },
  {
   "cell_type": "code",
   "execution_count": 14,
   "id": "5eb9056f",
   "metadata": {
    "execution": {
     "iopub.execute_input": "2023-06-30T12:41:00.177017Z",
     "iopub.status.busy": "2023-06-30T12:41:00.176435Z",
     "iopub.status.idle": "2023-06-30T12:41:00.217166Z",
     "shell.execute_reply": "2023-06-30T12:41:00.215778Z"
    },
    "papermill": {
     "duration": 0.062514,
     "end_time": "2023-06-30T12:41:00.219467",
     "exception": false,
     "start_time": "2023-06-30T12:41:00.156953",
     "status": "completed"
    },
    "tags": []
   },
   "outputs": [
    {
     "name": "stdout",
     "output_type": "stream",
     "text": [
      "<class 'pandas.core.frame.DataFrame'>\n",
      "Int64Index: 38682 entries, 0 to 5681\n",
      "Data columns (total 3 columns):\n",
      " #   Column   Non-Null Count  Dtype  \n",
      "---  ------   --------------  -----  \n",
      " 0   lang_id  33000 non-null  object \n",
      " 1   text     38682 non-null  object \n",
      " 2   index    5682 non-null   float64\n",
      "dtypes: float64(1), object(2)\n",
      "memory usage: 1.2+ MB\n"
     ]
    }
   ],
   "source": [
    "df.info()"
   ]
  },
  {
   "cell_type": "code",
   "execution_count": 15,
   "id": "9886c9fc",
   "metadata": {
    "execution": {
     "iopub.execute_input": "2023-06-30T12:41:00.259941Z",
     "iopub.status.busy": "2023-06-30T12:41:00.259555Z",
     "iopub.status.idle": "2023-06-30T12:41:00.287646Z",
     "shell.execute_reply": "2023-06-30T12:41:00.286581Z"
    },
    "papermill": {
     "duration": 0.050868,
     "end_time": "2023-06-30T12:41:00.289462",
     "exception": false,
     "start_time": "2023-06-30T12:41:00.238594",
     "status": "completed"
    },
    "tags": []
   },
   "outputs": [
    {
     "data": {
      "text/plain": [
       "lang_id    0\n",
       "text       0\n",
       "dtype: int64"
      ]
     },
     "metadata": {},
     "output_type": "display_data"
    }
   ],
   "source": [
    "display(df_train.isnull().sum().sort_values(ascending=False))"
   ]
  },
  {
   "cell_type": "code",
   "execution_count": 16,
   "id": "a9728fef",
   "metadata": {
    "execution": {
     "iopub.execute_input": "2023-06-30T12:41:00.331258Z",
     "iopub.status.busy": "2023-06-30T12:41:00.330636Z",
     "iopub.status.idle": "2023-06-30T12:41:00.344519Z",
     "shell.execute_reply": "2023-06-30T12:41:00.343652Z"
    },
    "papermill": {
     "duration": 0.03742,
     "end_time": "2023-06-30T12:41:00.346683",
     "exception": false,
     "start_time": "2023-06-30T12:41:00.309263",
     "status": "completed"
    },
    "tags": []
   },
   "outputs": [
    {
     "data": {
      "text/html": [
       "<div>\n",
       "<style scoped>\n",
       "    .dataframe tbody tr th:only-of-type {\n",
       "        vertical-align: middle;\n",
       "    }\n",
       "\n",
       "    .dataframe tbody tr th {\n",
       "        vertical-align: top;\n",
       "    }\n",
       "\n",
       "    .dataframe thead th {\n",
       "        text-align: right;\n",
       "    }\n",
       "</style>\n",
       "<table border=\"1\" class=\"dataframe\">\n",
       "  <thead>\n",
       "    <tr style=\"text-align: right;\">\n",
       "      <th></th>\n",
       "      <th>lang_id</th>\n",
       "      <th>text</th>\n",
       "      <th>index</th>\n",
       "      <th>CleanText</th>\n",
       "    </tr>\n",
       "  </thead>\n",
       "  <tbody>\n",
       "    <tr>\n",
       "      <th>0</th>\n",
       "      <td>xho</td>\n",
       "      <td>umgaqo-siseko wenza amalungiselelo kumaziko ax...</td>\n",
       "      <td>NaN</td>\n",
       "      <td>umgaqo-siseko wenza amalungiselelo kumaziko ax...</td>\n",
       "    </tr>\n",
       "    <tr>\n",
       "      <th>1</th>\n",
       "      <td>xho</td>\n",
       "      <td>i-dha iya kuba nobulumko bokubeka umsebenzi na...</td>\n",
       "      <td>NaN</td>\n",
       "      <td>i-dha iya kuba nobulumko bokubeka umsebenzi na...</td>\n",
       "    </tr>\n",
       "    <tr>\n",
       "      <th>2</th>\n",
       "      <td>eng</td>\n",
       "      <td>the province of kwazulu-natal department of tr...</td>\n",
       "      <td>NaN</td>\n",
       "      <td>the province of kwazulu-natal department of tr...</td>\n",
       "    </tr>\n",
       "    <tr>\n",
       "      <th>3</th>\n",
       "      <td>nso</td>\n",
       "      <td>o netefatša gore o ba file dilo ka moka tše le...</td>\n",
       "      <td>NaN</td>\n",
       "      <td>o netefatša gore o ba file dilo ka moka tše le...</td>\n",
       "    </tr>\n",
       "    <tr>\n",
       "      <th>4</th>\n",
       "      <td>ven</td>\n",
       "      <td>khomishini ya ndinganyiso ya mbeu yo ewa maana...</td>\n",
       "      <td>NaN</td>\n",
       "      <td>khomishini ya ndinganyiso ya mbeu yo ewa maana...</td>\n",
       "    </tr>\n",
       "  </tbody>\n",
       "</table>\n",
       "</div>"
      ],
      "text/plain": [
       "  lang_id                                               text  index  \\\n",
       "0     xho  umgaqo-siseko wenza amalungiselelo kumaziko ax...    NaN   \n",
       "1     xho  i-dha iya kuba nobulumko bokubeka umsebenzi na...    NaN   \n",
       "2     eng  the province of kwazulu-natal department of tr...    NaN   \n",
       "3     nso  o netefatša gore o ba file dilo ka moka tše le...    NaN   \n",
       "4     ven  khomishini ya ndinganyiso ya mbeu yo ewa maana...    NaN   \n",
       "\n",
       "                                           CleanText  \n",
       "0  umgaqo-siseko wenza amalungiselelo kumaziko ax...  \n",
       "1  i-dha iya kuba nobulumko bokubeka umsebenzi na...  \n",
       "2  the province of kwazulu-natal department of tr...  \n",
       "3  o netefatša gore o ba file dilo ka moka tše le...  \n",
       "4  khomishini ya ndinganyiso ya mbeu yo ewa maana...  "
      ]
     },
     "metadata": {},
     "output_type": "display_data"
    }
   ],
   "source": [
    "df['CleanText'] = df['text'].copy()\n",
    "display(df.head(5))"
   ]
  },
  {
   "cell_type": "markdown",
   "id": "3da26f91",
   "metadata": {
    "papermill": {
     "duration": 0.018457,
     "end_time": "2023-06-30T12:41:00.385090",
     "exception": false,
     "start_time": "2023-06-30T12:41:00.366633",
     "status": "completed"
    },
    "tags": []
   },
   "source": [
    "# **Text Cleaining**"
   ]
  },
  {
   "cell_type": "code",
   "execution_count": 17,
   "id": "55c4f864",
   "metadata": {
    "execution": {
     "iopub.execute_input": "2023-06-30T12:41:00.424573Z",
     "iopub.status.busy": "2023-06-30T12:41:00.424257Z",
     "iopub.status.idle": "2023-06-30T12:41:00.431275Z",
     "shell.execute_reply": "2023-06-30T12:41:00.430460Z"
    },
    "papermill": {
     "duration": 0.02904,
     "end_time": "2023-06-30T12:41:00.433179",
     "exception": false,
     "start_time": "2023-06-30T12:41:00.404139",
     "status": "completed"
    },
    "tags": []
   },
   "outputs": [],
   "source": [
    "def before_lowercase(languages):\n",
    "    \n",
    "    languages = re.sub(r\" xho\", \" Isixhosa\", languages)\n",
    "    languages = re.sub(r\" nbl\", \" Ndebele\", languages)\n",
    "    languages = re.sub(r\" ssw\", \" Swati\", languages)\n",
    "    languages = re.sub(r\" ven\", \" Venda\", languages)\n",
    "    languages = re.sub(r\" sot\", \" Sotho\", languages)\n",
    "    languages = re.sub(r\" eng\", \" English\", languages)\n",
    "    languages = re.sub(r\" tsn\", \" Tsonga\", languages)\n",
    "    languages = re.sub(r\" nso\", \" Northern Sotho\", languages)\n",
    "    languages = re.sub(r\" zul\", \" IsiZulu\", languages)\n",
    "    languages = re.sub(r\" afr\", \" Afrikaans\", languages)\n",
    "    languages = re.sub(r\" tws\", \" Tswana\", languages)\n",
    "    return str(languages)"
   ]
  },
  {
   "cell_type": "code",
   "execution_count": 18,
   "id": "b7a6b85d",
   "metadata": {
    "execution": {
     "iopub.execute_input": "2023-06-30T12:41:00.474600Z",
     "iopub.status.busy": "2023-06-30T12:41:00.473859Z",
     "iopub.status.idle": "2023-06-30T12:41:01.191234Z",
     "shell.execute_reply": "2023-06-30T12:41:01.189764Z"
    },
    "papermill": {
     "duration": 0.740784,
     "end_time": "2023-06-30T12:41:01.194205",
     "exception": false,
     "start_time": "2023-06-30T12:41:00.453421",
     "status": "completed"
    },
    "tags": []
   },
   "outputs": [
    {
     "data": {
      "text/plain": [
       "0    umgaqo-siseko wenza amalungiselelo kumaziko ax...\n",
       "1    i-dha iya kuba nobulumko bokubeka umsebenzi na...\n",
       "2    the province of kwazulu-natal department of tr...\n",
       "3    o netefatša gore o ba file dilo ka moka tše le...\n",
       "4    khomishini ya ndinganyiso ya mbeu yo ewa maana...\n",
       "5    dinyakišišo tše tša go dirwa gabedi ka ngwaga ...\n",
       "6    kgetse nngwe le nngwe e e sa faposiwang mo tsh...\n",
       "7    mbadelo dze dza laelwa dzi do kwama mahatulele...\n",
       "8    maloko a dikhuduthamaga a ikarabela mongwe le ...\n",
       "9    fa le dirisiwa lebone le tshwanetse go bontsha...\n",
       "Name: CleanText, dtype: object"
      ]
     },
     "metadata": {},
     "output_type": "display_data"
    }
   ],
   "source": [
    "df['CleanText'] = df['CleanText'].apply(before_lowercase)\n",
    "display(df['CleanText'].head(10))"
   ]
  },
  {
   "cell_type": "markdown",
   "id": "b1822241",
   "metadata": {
    "papermill": {
     "duration": 0.018987,
     "end_time": "2023-06-30T12:41:01.234211",
     "exception": false,
     "start_time": "2023-06-30T12:41:01.215224",
     "status": "completed"
    },
    "tags": []
   },
   "source": [
    "# **Remove URL**"
   ]
  },
  {
   "cell_type": "code",
   "execution_count": 19,
   "id": "dd56ccd1",
   "metadata": {
    "execution": {
     "iopub.execute_input": "2023-06-30T12:41:01.274690Z",
     "iopub.status.busy": "2023-06-30T12:41:01.274023Z",
     "iopub.status.idle": "2023-06-30T12:41:01.452323Z",
     "shell.execute_reply": "2023-06-30T12:41:01.451387Z"
    },
    "papermill": {
     "duration": 0.201174,
     "end_time": "2023-06-30T12:41:01.454912",
     "exception": false,
     "start_time": "2023-06-30T12:41:01.253738",
     "status": "completed"
    },
    "tags": []
   },
   "outputs": [],
   "source": [
    "def remove_urls(text):\n",
    "    url_pattern = re.compile(r'https?://\\S+|www\\.\\S+')\n",
    "    return url_pattern.sub(r'link', text)\n",
    "\n",
    "from bs4 import BeautifulSoup\n",
    "#Function for removing html\n",
    "def html(text):\n",
    "    return BeautifulSoup(text, \"lxml\").text"
   ]
  },
  {
   "cell_type": "code",
   "execution_count": 20,
   "id": "a9e811b3",
   "metadata": {
    "execution": {
     "iopub.execute_input": "2023-06-30T12:41:01.496446Z",
     "iopub.status.busy": "2023-06-30T12:41:01.495806Z",
     "iopub.status.idle": "2023-06-30T12:41:09.168191Z",
     "shell.execute_reply": "2023-06-30T12:41:09.167048Z"
    },
    "papermill": {
     "duration": 7.695745,
     "end_time": "2023-06-30T12:41:09.170815",
     "exception": false,
     "start_time": "2023-06-30T12:41:01.475070",
     "status": "completed"
    },
    "tags": []
   },
   "outputs": [],
   "source": [
    "df['CleanText'] = df['CleanText'].apply(remove_urls)\n",
    "df['CleanText'] = df['CleanText'].apply(html)"
   ]
  },
  {
   "cell_type": "markdown",
   "id": "6f155eaf",
   "metadata": {
    "papermill": {
     "duration": 0.019102,
     "end_time": "2023-06-30T12:41:09.210223",
     "exception": false,
     "start_time": "2023-06-30T12:41:09.191121",
     "status": "completed"
    },
    "tags": []
   },
   "source": [
    "# **Lowercase**"
   ]
  },
  {
   "cell_type": "code",
   "execution_count": 21,
   "id": "b67c72a0",
   "metadata": {
    "execution": {
     "iopub.execute_input": "2023-06-30T12:41:09.252140Z",
     "iopub.status.busy": "2023-06-30T12:41:09.251332Z",
     "iopub.status.idle": "2023-06-30T12:41:09.308238Z",
     "shell.execute_reply": "2023-06-30T12:41:09.307127Z"
    },
    "papermill": {
     "duration": 0.080402,
     "end_time": "2023-06-30T12:41:09.310472",
     "exception": false,
     "start_time": "2023-06-30T12:41:09.230070",
     "status": "completed"
    },
    "tags": []
   },
   "outputs": [
    {
     "data": {
      "text/plain": [
       "0    umgaqo-siseko wenza amalungiselelo kumaziko ax...\n",
       "1    i-dha iya kuba nobulumko bokubeka umsebenzi na...\n",
       "2    the province of kwazulu-natal department of tr...\n",
       "3    o netefatša gore o ba file dilo ka moka tše le...\n",
       "4    khomishini ya ndinganyiso ya mbeu yo ewa maana...\n",
       "5    dinyakišišo tše tša go dirwa gabedi ka ngwaga ...\n",
       "6    kgetse nngwe le nngwe e e sa faposiwang mo tsh...\n",
       "7    mbadelo dze dza laelwa dzi do kwama mahatulele...\n",
       "8    maloko a dikhuduthamaga a ikarabela mongwe le ...\n",
       "9    fa le dirisiwa lebone le tshwanetse go bontsha...\n",
       "Name: CleanText, dtype: object"
      ]
     },
     "metadata": {},
     "output_type": "display_data"
    }
   ],
   "source": [
    "df['CleanText'] = df['CleanText'].str.lower()\n",
    "display(df['CleanText'].head(10))"
   ]
  },
  {
   "cell_type": "code",
   "execution_count": 22,
   "id": "bcf35e48",
   "metadata": {
    "execution": {
     "iopub.execute_input": "2023-06-30T12:41:09.350679Z",
     "iopub.status.busy": "2023-06-30T12:41:09.350308Z",
     "iopub.status.idle": "2023-06-30T12:41:10.416231Z",
     "shell.execute_reply": "2023-06-30T12:41:10.415381Z"
    },
    "papermill": {
     "duration": 1.088716,
     "end_time": "2023-06-30T12:41:10.418719",
     "exception": false,
     "start_time": "2023-06-30T12:41:09.330003",
     "status": "completed"
    },
    "tags": []
   },
   "outputs": [
    {
     "data": {
      "text/plain": [
       "0    umgaqo-siseko wenza amalungiselelo kumaziko ax...\n",
       "1    i-dha iya kuba nobulumko bokubeka umsebenzi na...\n",
       "2    the province of kwazulu-natal departmenot of t...\n",
       "3    o netefatša gore o ba file dilo ka moka tše le...\n",
       "4    khomishini ya ndinganyiso ya mbeu yo ewa maana...\n",
       "5    dinyakišišo tše tša go dirwa gabedi ka ngwaga ...\n",
       "6    kgetse nngwe le nngwe e e sa faposiwang mo tsh...\n",
       "7    mbadelo dze dza laelwa dzi do kwama mahatulele...\n",
       "8    maloko a dikhuduthamaga a ikarabela mongwe le ...\n",
       "9    fa le dirisiwa lebone le tshwanetse go bonotsh...\n",
       "Name: CleanText, dtype: object"
      ]
     },
     "metadata": {},
     "output_type": "display_data"
    }
   ],
   "source": [
    "char_list = [\"don\", \"ain\", \"ain't\", \"aren\", \"arent\", \"aren't\", \"cannot\", \"cant\", \"can't\", \"couldn\", \"couldnt\", \"couldn't\", \"didn\",\n",
    "               \"didn't\", \"doesn\", \"doesn't\", \"don\", \"don't\", \"hadn\", \"hadn't\", \"hasn\", \"hasnt\", \"hasn't\", \"haven\", \"haven't\", \"mightn\", \"mightn't\",\n",
    "               \"isn\", \"isn't\",  \"mustn\", \"mustn't\", \"needn\", \"needn't\", \"nt\", \"shouldn\", \"shouldn't\",  \"wasn\", \"wasnt\", \"wasn't\", \"don't\"]\n",
    "\n",
    "def before_lowercase(language):\n",
    "    language =  re.sub(r\"|\".join(char_list), \"not\", language) \n",
    "    return str(language)\n",
    "\n",
    "df['CleanText'] = df['CleanText'].apply(before_lowercase)\n",
    "display(df['CleanText'].head(10))"
   ]
  },
  {
   "cell_type": "markdown",
   "id": "8d5eb5f6",
   "metadata": {
    "papermill": {
     "duration": 0.01981,
     "end_time": "2023-06-30T12:41:10.458745",
     "exception": false,
     "start_time": "2023-06-30T12:41:10.438935",
     "status": "completed"
    },
    "tags": []
   },
   "source": [
    "**Stopwords**"
   ]
  },
  {
   "cell_type": "code",
   "execution_count": 23,
   "id": "55da9866",
   "metadata": {
    "execution": {
     "iopub.execute_input": "2023-06-30T12:41:10.500203Z",
     "iopub.status.busy": "2023-06-30T12:41:10.499606Z",
     "iopub.status.idle": "2023-06-30T12:41:10.545338Z",
     "shell.execute_reply": "2023-06-30T12:41:10.544673Z"
    },
    "papermill": {
     "duration": 0.069247,
     "end_time": "2023-06-30T12:41:10.547814",
     "exception": false,
     "start_time": "2023-06-30T12:41:10.478567",
     "status": "completed"
    },
    "tags": []
   },
   "outputs": [
    {
     "name": "stdout",
     "output_type": "stream",
     "text": [
      "1041\n"
     ]
    }
   ],
   "source": [
    "stopwords_List = [\"0o\", \"0s\", \"3a\", \"3b\", \"3d\", \"6b\", \"6o\", \"a\", \"a1\", \"a2\", \"a3\", \"a4\", \"ab\", \"able\", \"about\", \"above\", \"abst\", \"ac\", \"accordance\", \"according\", \"accordingly\", \n",
    "                     \"across\", \"act\", \"actually\", \"ad\", \"added\", \"adj\", \"ae\", \"af\", \"after\", \"afterwards\", \"ag\", \"again\", \"ah\", \"aj\", \"al\", \"all\",\n",
    "                      \"also\", \"although\", \"always\", \"am\", \"among\", \"amongst\", \"amoungst\",  \"an\", \"and\", \"announce\", \n",
    "                      \"ao\", \"ap\", \"apparently\", \"appear\",  \"appropriate\", \"to\",\n",
    "                     \"approximately\", \"ar\", \"are\",  \"arise\", \"around\", \"as\", \"a's\", \"aside\",  \"associated\", \"at\", \"au\", \"auth\", \"av\",  \"aw\", \"away\", \"ax\", \"ay\", \n",
    "                     \"az\", \"b\", \"b1\", \"b2\", \"b3\", \"ba\", \"back\", \"bc\", \"bd\", \"be\", \"became\", \"because\", \"become\", \"becomes\", \"becoming\", \"been\", \"before\", \"beforehand\", \"begin\", \"beginning\",\n",
    "                     \"beginnings\", \"begins\", \"behind\", \"being\",  \"below\", \"beside\", \"besides\", \"between\", \"beyond\", \"bi\", \"bill\", \"biol\", \"bj\", \"bk\", \"bl\", \"bn\", \"both\", \"bottom\", \n",
    "                     \"bp\", \"br\", \"brief\", \"briefly\", \"bs\", \"bt\", \"bu\", \"but\", \"bx\", \"by\", \"c\", \"c1\", \"c2\", \"c3\", \"ca\", \"call\", \"came\",  \"cc\", \"cd\", \"ce\", \n",
    "                      \"cf\", \"cg\", \"ch\", \"ci\", \"cit\", \"cj\", \"cl\", \"cm\", \"c'mon\", \"cn\", \"co\", \"com\", \"come\", \"comes\", \"con\", \"concerning\", \"consequently\",\n",
    "                     \"consider\", \"considering\", \"contain\", \"containing\", \"contains\", \"corresponding\", \"could\", \"course\", \"cp\", \"cq\", \"cr\", \"cry\", \"cs\", \"c's\", \"ct\", \"cu\", \"currently\",\n",
    "                     \"cv\", \"cx\", \"cy\", \"cz\", \"d\", \"d2\", \"da\", \"date\", \"dc\", \"dd\", \"de\", \"definitely\", \"describe\", \"described\", \"despite\", \"detail\", \"df\", \"di\", \"did\",  \"different\", \"dj\",\n",
    "                     \"dk\", \"dl\", \"do\", \"does\", \"doing\", \"downwards\", \"dp\", \"dr\", \"ds\", \"dt\", \"du\", \"due\", \"during\", \"dx\", \"dy\", \"e\", \"e2\", \"e3\", \"ea\", \"each\", \"ec\", \"ed\", \n",
    "                     \"edu\", \"ee\", \"ef\", \"effect\", \"eg\", \"ei\", \"eight\", \"eighty\", \"either\", \"ej\", \"el\", \"eleven\", \"else\", \"elsewhere\", \"em\", \"en\", \"end\", \"ending\", \"entirely\", \"eo\", \"ep\", \"eq\",\n",
    "                     \"er\", \"es\", \"especially\", \"est\", \"et\", \"et-al\", \"etc\", \"eu\", \"ev\", \"every\", \"everybody\", \"everyone\", \"everything\", \"everywhere\", \"ex\", \"exactly\", \"example\", \"ey\", \"f\", \"f2\",\n",
    "                     \"fa\", \"far\", \"fc\", \"few\", \"ff\", \"fi\", \"fifteen\", \"fifth\", \"fify\", \"fill\", \"find\", \"fire\", \"first\", \"five\", \"fix\", \"fj\", \"fl\", \"fn\", \"fo\", \"followed\", \"following\", \"follows\",\n",
    "                     \"for\", \"former\", \"formerly\", \"forth\", \"forty\", \"found\", \"four\", \"fr\", \"from\", \"front\", \"fs\", \"ft\", \"fu\", \"full\", \"further\", \"furthermore\", \"fy\", \"g\", \"ga\", \"gave\", \"ge\", \n",
    "                     \"get\", \"gets\", \"getting\", \"gi\", \"give\", \"given\", \"gives\", \"giving\", \"gj\", \"gl\", \"go\", \"goes\", \"going\", \"gone\", \"got\", \"gotten\", \"gr\", \"greetings\", \"gs\", \"gy\", \"h\", \"h2\", \n",
    "                     \"h3\", \"had\", \"happens\", \"hardly\", \"has\",  \"have\",  \"having\", \"he\", \"hed\", \"he'd\", \"he'll\", \"hello\", \"hence\", \"her\", \"here\", \"hereafter\", \"hereby\", \"herein\", \"heres\",\n",
    "                     \"here's\", \"hereupon\", \"hers\", \"herself\", \"hes\", \"he's\", \"hh\", \"hi\", \"hid\", \"him\", \"himself\", \"his\", \"hither\", \"hj\", \"ho\",  \"hopefully\", \"how\", \"howbeit\", \"however\", \n",
    "                     \"how's\", \"hr\", \"hs\", \"http\", \"hu\", \"hundred\", \"hy\", \"i\", \"i2\", \"i3\", \"i4\", \"i6\", \"i7\", \"i8\", \"ia\", \"ib\", \"ibid\", \"ic\", \"id\", \"i'd\", \"ie\", \"if\", \"ig\",  \"ih\", \"ii\", \"ij\",\n",
    "                     \"il\", \"i'll\", \"im\", \"i'm\", \"in\", \"inasmuch\", \"inc\", \"index\", \"indicate\", \"indicated\", \"indicates\", \"inner\", \"insofar\", \"interest\", \"into\", \"invention\",\n",
    "                     \"inward\", \"io\", \"ip\", \"iq\", \"ir\", \"is\",  \"it\", \"itd\", \"it'd\", \"it'll\", \"its\", \"it's\", \"itself\", \"iv\", \"i've\", \"ix\", \"iy\", \"iz\", \"j\", \"jj\", \"jr\", \"js\", \"jt\", \"ju\", \n",
    "                     \"k\", \"ke\", \"keep\", \"keeps\", \"kept\", \"kg\", \"kj\", \"km\", \"know\", \"known\", \"knows\", \"ko\", \"l\", \"l2\", \"la\", \"largely\",  \"lately\", \"later\", \"latter\", \"latterly\", \"lb\", \"lc\",\n",
    "                     \"le\", \"les\", \"lest\", \"let\", \"lets\", \"let's\", \"lf\", \"line\", \"little\", \"lj\", \"ll\", \"ll\", \"ln\", \"lo\", \"look\", \"looking\", \"looks\", \"los\", \"lr\", \"ls\", \"lt\", \"ltd\",\n",
    "                     \"m\", \"m2\", \"ma\", \"made\", \"mainly\", \"make\", \"makes\", \"me\", \"mean\", \"means\", \"meantime\", \"meanwhile\", \"merely\", \"mg\", \"mill\", \"million\", \"mine\", \n",
    "                     \"ml\", \"mn\", \"mo\", \"more\", \"moreover\", \"move\", \"mr\", \"mrs\", \"ms\", \"mt\", \"mu\", \"mug\",  \"my\", \"myself\", \"n\", \"n2\", \"na\", \"name\", \"namely\", \"nay\", \n",
    "                     \"nc\", \"nd\", \"ne\", \"near\", \"nearly\",\"new\", \"next\", \"ng\", \"ni\", \"nine\", \"ninety\", \"nj\", \"nl\", \"nn\", \"nos\", \"noted\",  \"novel\", \"now\", \"nr\", \"ns\",  \"ny\", \"o\", \"oa\", \"ob\", \n",
    "                     \"obtain\", \"obtained\", \"obviously\", \"oc\", \"od\", \"of\", \"off\", \"often\", \"og\", \"oh\", \"oi\", \"oj\", \"ol\", \"old\", \"om\", \"omitted\", \"on\", \"once\", \"one\", \"ones\",  \"onto\", \n",
    "                     \"oo\", \"op\", \"oq\", \"or\", \"ord\", \"os\", \"ot\", \"other\", \"others\",  \"ou\", \"ought\", \"our\", \"ours\", \"ourselves\",  \"overall\", \"ow\", \"owing\", \"own\", \"ox\", \"oz\", \"p\", \"p1\", \"p2\",\n",
    "                     \"p3\", \"page\", \"pagecount\", \"pages\", \"par\", \"part\", \"particular\", \"particularly\", \"pas\", \"past\", \"pc\", \"pd\", \"pe\", \"per\", \"pf\", \"ph\", \"pi\", \"pj\", \"pk\", \"pl\", \"placed\", \n",
    "                      \"plus\", \"pm\", \"pn\", \"po\", \"pp\", \"pq\", \"pr\", \"predominantly\", \"present\", \"presumably\", \"previously\",  \"promptly\", \"ps\", \"pt\", \"pu\", \"put\", \"py\", \"q\", \"qj\", \"qu\", \"que\",\n",
    "                      \"qv\", \"r\", \"r2\", \"ra\", \"ran\", \"rather\", \"rc\", \"rd\", \"re\", \"readily\",  \"ref\", \"refs\", \"regarding\",  \"related\", \"relatively\", \"research-articl\", \"respectively\",\n",
    "                      \"rf\", \"rh\", \"ri\", \"right\", \"rj\", \"rl\", \"rm\", \"rn\", \"ro\", \"rq\", \"rr\", \"rs\", \"rt\", \"ru\", \"run\", \"rv\", \"ry\", \"s\", \"s2\", \"sa\", \"said\", \"same\", \"saw\", \"say\", \"saying\", \"says\",\n",
    "                     \"sc\", \"sd\", \"se\", \"sec\", \"second\", \"secondly\", \"section\", \"see\", \"seeing\", \"seem\", \"seemed\", \"seeming\", \"seems\", \"seen\", \"self\", \"selves\", \"sensible\", \"sent\", \n",
    "                     \"seven\", \"several\", \"sf\", \"shall\", \"shan\", \"shan't\", \"she\", \"shed\", \"she'd\", \"she'll\", \"shes\", \"she's\", \"should\",  \"should've\",  \"si\", \"side\", \"significant\",\n",
    "                     \"significantly\", \"similar\", \"similarly\", \"since\", \"sincere\", \"six\", \"sixty\", \"sj\", \"sl\", \"slightly\", \"sm\", \"sn\", \"so\", \"some\", \"somebody\", \"somehow\", \"someone\",\n",
    "                     \"somethan\", \"something\", \"sometime\", \"sometimes\", \"somewhat\", \"somewhere\", \"soon\", \"sp\", \"specifically\", \"specified\", \"specify\", \"specifying\", \"sq\", \"sr\", \"ss\", \"st\",\n",
    "                      \"sub\", \"substantially\", \"sup\", \"sy\", \"system\", \"sz\", \"t\", \"t1\", \"t2\", \"t3\", \"take\", \"taken\", \"taking\", \"tb\", \"tc\", \"td\", \"te\", \"tell\", \"ten\", \"tends\", \"tf\", \"th\",  \"that\",\n",
    "                     \"that'll\", \"thats\", \"that's\", \"that've\", \"the\", \"their\", \"theirs\", \"them\", \"themselves\", \"then\", \"thence\", \"there\", \"thereafter\", \"thereby\", \"thered\", \"therefore\", \"therein\",\n",
    "                     \"there'll\", \"thereof\", \"therere\", \"theres\", \"there's\", \"thereto\", \"thereupon\", \"there've\", \"these\", \"they\", \"theyd\", \"they'd\", \"they'll\", \"theyre\", \"they're\", \"they've\",\n",
    "                     \"thickv\", \"thin\", \"think\", \"third\", \"this\", \"thorough\", \"thoroughly\", \"those\", \"thou\", \"though\", \"thoughh\", \"thousand\", \"three\", \"throug\", \"through\", \"throughout\", \"thru\", \n",
    "                     \"thus\", \"ti\", \"til\", \"tip\", \"tj\", \"tl\", \"tm\", \"tn\", \"to\",  \"too\", \"took\", \"top\", \"toward\", \"towards\", \"tp\", \"tq\", \"tr\",  \"ts\", \"t's\", \"tt\", \"tv\", \"twelve\", \"twenty\",\n",
    "                     \"twice\", \"two\", \"tx\", \"u\", \"u201d\", \"ue\", \"ui\", \"uj\", \"uk\", \"um\", \"un\", \"under\", \"unto\", \"uo\", \"up\", \"upon\", \"ups\", \"ur\", \"us\", \"use\", \"used\",  \"uses\", \"using\",\"ut\",\n",
    "                     \"v\", \"va\", \"value\", \"various\", \"vd\", \"ve\", \"ve\",  \"via\", \"viz\", \"vj\", \"vo\", \"vol\", \"vols\", \"volumtype\", \"vq\", \"vs\", \"vt\", \"vu\", \"w\", \"wa\", \"want\", \"wants\", \"was\",  \"way\", \"we\", \n",
    "                     \"wed\", \"we'd\",  \"went\", \"were\", \"we're\",  \"we've\", \"what\", \"whatever\", \"what'll\", \"whats\", \"what's\", \"when\", \"whence\", \"whenever\", \"when's\", \"where\", \"whereafter\",\n",
    "                     \"whereas\", \"whereby\", \"wherein\", \"wheres\", \"where's\", \"whereupon\", \"wherever\", \"whether\", \"which\", \"while\", \"whim\", \"whither\", \"who\", \"whod\", \"whoever\", \"whole\", \"who'll\",\n",
    "                     \"whom\", \"whomever\", \"whos\", \"who's\", \"whose\", \"why\", \"why's\", \"wi\", \"widely\", \"will\", \"willing\", \"with\", \"within\",  \"wo\",  \"words\", \"world\", \"would\",  \"www\", \"x\", \"x1\", \"x2\",\n",
    "                     \"x3\", \"xf\", \"xi\", \"xj\", \"xk\", \"xl\", \"xn\", \"xo\", \"xs\", \"xt\", \"xv\", \"xx\", \"y\", \"y2\", \"yes\", \"yet\", \"yj\", \"yl\", \"you\", \"youd\", \"you'd\", \"you'll\", \"your\", \"youre\", \"you're\", \"yours\",\n",
    "                     \"yourself\", \"yourselves\", \"you've\", \"yr\", \"ys\", \"yt\", \"z\", \"zero\", \"zi\", \"zz\",',', '.', '\"', ':', ')', '(', '!', '?', '|', ';', \"'\", '$', '&','/', '[', ']', '>', '%', '=', '#', '*', '+', \n",
    "                '\\\\', '•',  '~', '@', '£', '·', '_', '{', '}', '©', '^', '®', '`',  '<', '→', '°', '€', '™', '›', '♥', '←', '×', '§', '″', '′', 'Â', '█', '½', 'à', '…', '“', '★', '”', '–', '●', 'â', '►', '−',  \n",
    "                'è', '¸', '¾', 'Ã', '⋅', '‘', '∞', '∙', '）', '↓', '、', '│', '（', '»', \n",
    "                '¹', '≤', '‡', '√', '«', '»', '´', 'º', '¾', '¡', '§', '£', '₤']\n",
    "# for adding multiple words\n",
    "print(len(stopwords_List))"
   ]
  },
  {
   "cell_type": "code",
   "execution_count": 24,
   "id": "7ab76f81",
   "metadata": {
    "execution": {
     "iopub.execute_input": "2023-06-30T12:41:10.589476Z",
     "iopub.status.busy": "2023-06-30T12:41:10.589074Z",
     "iopub.status.idle": "2023-06-30T12:41:10.594401Z",
     "shell.execute_reply": "2023-06-30T12:41:10.593435Z"
    },
    "papermill": {
     "duration": 0.028674,
     "end_time": "2023-06-30T12:41:10.596410",
     "exception": false,
     "start_time": "2023-06-30T12:41:10.567736",
     "status": "completed"
    },
    "tags": []
   },
   "outputs": [],
   "source": [
    "def remove_swords(text,s_list):\n",
    "    words=[]\n",
    "    for i in text.split():\n",
    "        if i not in stopwords_List:\n",
    "            words.append(i)\n",
    "    return words"
   ]
  },
  {
   "cell_type": "code",
   "execution_count": 25,
   "id": "36d2f4c9",
   "metadata": {
    "execution": {
     "iopub.execute_input": "2023-06-30T12:41:10.639696Z",
     "iopub.status.busy": "2023-06-30T12:41:10.639317Z",
     "iopub.status.idle": "2023-06-30T12:41:28.482776Z",
     "shell.execute_reply": "2023-06-30T12:41:28.481687Z"
    },
    "papermill": {
     "duration": 17.867692,
     "end_time": "2023-06-30T12:41:28.485295",
     "exception": false,
     "start_time": "2023-06-30T12:41:10.617603",
     "status": "completed"
    },
    "tags": []
   },
   "outputs": [],
   "source": [
    "wrd=[]\n",
    "for texts in df['CleanText']:\n",
    "    \n",
    "    wrd.append(remove_swords(texts ,stopwords_List))"
   ]
  },
  {
   "cell_type": "code",
   "execution_count": 26,
   "id": "db10bf40",
   "metadata": {
    "execution": {
     "iopub.execute_input": "2023-06-30T12:41:28.529069Z",
     "iopub.status.busy": "2023-06-30T12:41:28.528704Z",
     "iopub.status.idle": "2023-06-30T12:41:28.550102Z",
     "shell.execute_reply": "2023-06-30T12:41:28.549018Z"
    },
    "papermill": {
     "duration": 0.04547,
     "end_time": "2023-06-30T12:41:28.552005",
     "exception": false,
     "start_time": "2023-06-30T12:41:28.506535",
     "status": "completed"
    },
    "tags": []
   },
   "outputs": [
    {
     "data": {
      "text/plain": [
       "0    [umgaqo-siseko, wenza, amalungiselelo, kumazik...\n",
       "1    [i-dha, iya, kuba, nobulumko, bokubeka, umsebe...\n",
       "2    [province, kwazulu-natal, departmenot, transpo...\n",
       "3    [netefatša, gore, file, dilo, ka, moka, tše, d...\n",
       "4    [khomishini, ya, ndinganyiso, ya, mbeu, yo, ew...\n",
       "Name: CleanTexts, dtype: object"
      ]
     },
     "execution_count": 26,
     "metadata": {},
     "output_type": "execute_result"
    }
   ],
   "source": [
    "df['CleanTexts'] = wrd\n",
    "df['CleanTexts'].head()"
   ]
  },
  {
   "cell_type": "code",
   "execution_count": 27,
   "id": "0527739f",
   "metadata": {
    "execution": {
     "iopub.execute_input": "2023-06-30T12:41:28.594806Z",
     "iopub.status.busy": "2023-06-30T12:41:28.594226Z",
     "iopub.status.idle": "2023-06-30T12:41:28.674622Z",
     "shell.execute_reply": "2023-06-30T12:41:28.673730Z"
    },
    "papermill": {
     "duration": 0.104968,
     "end_time": "2023-06-30T12:41:28.676971",
     "exception": false,
     "start_time": "2023-06-30T12:41:28.572003",
     "status": "completed"
    },
    "tags": []
   },
   "outputs": [
    {
     "data": {
      "text/plain": [
       "0       umgaqo-siseko wenza amalungiselelo kumaziko ax...\n",
       "1       i-dha iya kuba nobulumko bokubeka umsebenzi na...\n",
       "2       province kwazulu-natal departmenot transport i...\n",
       "3       netefatša gore file dilo ka moka tše dumelelan...\n",
       "4       khomishini ya ndinganyiso ya mbeu yo ewa maana...\n",
       "                              ...                        \n",
       "5677                                 mark ballot private.\n",
       "5678    ka kgetha ka bowena šomiše mofani ka tirelo yo...\n",
       "5679    ka kopo etsa kgetho ya hao ka hloko, hobane ha...\n",
       "5680    bokudi pmb, mme morero tla lefella tlhahlobo y...\n",
       "5681                vakatjhela iwebhusayidi yethu ku-www.\n",
       "Name: CleanText, Length: 38682, dtype: object"
      ]
     },
     "execution_count": 27,
     "metadata": {},
     "output_type": "execute_result"
    }
   ],
   "source": [
    "def combine_text(input):\n",
    "    combined = ' '.join(input)\n",
    "    return combined\n",
    "df['CleanText'] = df['CleanTexts'].apply(combine_text)\n",
    "df['CleanText']"
   ]
  },
  {
   "cell_type": "markdown",
   "id": "99363a4c",
   "metadata": {
    "papermill": {
     "duration": 0.02053,
     "end_time": "2023-06-30T12:41:28.718288",
     "exception": false,
     "start_time": "2023-06-30T12:41:28.697758",
     "status": "completed"
    },
    "tags": []
   },
   "source": [
    "**Remove Special Characters**"
   ]
  },
  {
   "cell_type": "code",
   "execution_count": 28,
   "id": "ae831270",
   "metadata": {
    "execution": {
     "iopub.execute_input": "2023-06-30T12:41:28.762390Z",
     "iopub.status.busy": "2023-06-30T12:41:28.761398Z",
     "iopub.status.idle": "2023-06-30T12:41:28.779919Z",
     "shell.execute_reply": "2023-06-30T12:41:28.779024Z"
    },
    "papermill": {
     "duration": 0.042918,
     "end_time": "2023-06-30T12:41:28.782321",
     "exception": false,
     "start_time": "2023-06-30T12:41:28.739403",
     "status": "completed"
    },
    "tags": []
   },
   "outputs": [],
   "source": [
    "def clean(language): \n",
    "            \n",
    "    # Special characters\n",
    "    language = re.sub(r\"\\x89Û_\", \"\", language)\n",
    "    language = re.sub(r\"\\x89ÛÒ\", \"\", language)\n",
    "    language = re.sub(r\"\\x89ÛÓ\", \"\", language)\n",
    "    language = re.sub(r\"\\x89ÛÏWhen\", \"When\", language)\n",
    "    language = re.sub(r\"\\x89ÛÏ\", \"\", language)\n",
    "    language = re.sub(r\"China\\x89Ûªs\", \"China's\", language)\n",
    "    language = re.sub(r\"let\\x89Ûªs\", \"let's\", language)\n",
    "    language = re.sub(r\"\\x89Û÷\", \"\", language)\n",
    "    language = re.sub(r\"\\x89Ûª\", \"\", language)\n",
    "    language = re.sub(r\"\\x89Û\\x9d\", \"\", language)\n",
    "    language = re.sub(r\"å_\", \"\", language)\n",
    "    language = re.sub(r\"\\x89Û¢\", \"\", language)\n",
    "    language = re.sub(r\"\\x89Û¢åÊ\", \"\", language)\n",
    "    language = re.sub(r\"fromåÊwounds\", \"from wounds\", language)\n",
    "    language = re.sub(r\"åÊ\", \"\", language)\n",
    "    language = re.sub(r\"åÈ\", \"\", language)\n",
    "    language = re.sub(r\"Ì©\", \"e\", language)\n",
    "    language = re.sub(r\"å¨\", \"\", language)\n",
    "    language = re.sub(r\"åÇ\", \"\", language)\n",
    "    language = re.sub(r\"åÀ\", \"\", language)\n",
    "    language = re.sub(r'\\b[\\w\\-.]+?@\\w+?\\.\\w{2,4}\\b', 'mentioned', language)\n",
    "    language = re.sub(r'(http[s]?\\S+)|(\\w+\\.[A-Za-z]{2,4}\\S*)', 'referance', language)\n",
    "    language = re.sub(r'£|\\$', 'money', language)\n",
    "    language = re.sub(r'\\b(\\+\\d{1,2}\\s)?\\d?[\\-(.]?\\d{3}\\)?[\\s.-]?\\d{3}[\\s.-]?\\d{4}\\b', ' ', language)\n",
    "    language = re.sub(r'\\d+(\\.\\d+)?', ' ', language)\n",
    "    language = re.sub(r'[^\\w\\d\\s]', ' ', language)\n",
    "    language = re.sub(r'\\s+', ' ', language)\n",
    "    language = re.sub(r'^\\s+|\\s+?$', '', language.lower())\n",
    "    # Urls\n",
    "    language = re.sub(r\"https?:\\/\\/t.co\\/[A-Za-z0-9]+\", \"\", language)\n",
    "        \n",
    "    # Words with punctuations and special characters\n",
    "    punctuations = '@#!?+&*[]-%.:/();$=><|{}^' + \"'`\"\n",
    "    for p in punctuations:\n",
    "        language = language.replace(p, f' {p} ')\n",
    "        \n",
    "    # ... and ..\n",
    "    language = language.replace('...', ' ... ')\n",
    "    if '...' not in language:\n",
    "        language = language.replace('..', ' ... ') \n",
    "        \n",
    "    \n",
    "        \n",
    "        \n",
    "    return str(language)\n",
    "    "
   ]
  },
  {
   "cell_type": "code",
   "execution_count": 29,
   "id": "84be7d79",
   "metadata": {
    "execution": {
     "iopub.execute_input": "2023-06-30T12:41:28.826429Z",
     "iopub.status.busy": "2023-06-30T12:41:28.825388Z",
     "iopub.status.idle": "2023-06-30T12:41:36.476565Z",
     "shell.execute_reply": "2023-06-30T12:41:36.475575Z"
    },
    "papermill": {
     "duration": 7.674913,
     "end_time": "2023-06-30T12:41:36.478803",
     "exception": false,
     "start_time": "2023-06-30T12:41:28.803890",
     "status": "completed"
    },
    "tags": []
   },
   "outputs": [
    {
     "data": {
      "text/plain": [
       "0     umgaqo siseko wenza amalungiselelo kumaziko ax...\n",
       "1     i dha iya kuba nobulumko bokubeka umsebenzi na...\n",
       "2     province kwazulu natal departmenot transport i...\n",
       "3     netefatša gore file dilo ka moka tše dumelelan...\n",
       "4     khomishini ya ndinganyiso ya mbeu yo ewa maana...\n",
       "5     dinyakišišo tše tša dirwa gabedi ka ngwaga tla...\n",
       "6     kgetse nngwe nngwe faposiwang tshekong ya ka t...\n",
       "7     mbadelo dze dza laelwa dzi kwama mahatulele ap...\n",
       "8     maloko dikhuduthamaga ikarabela mongwe mongwe ...\n",
       "9     dirisiwa lebone tshwanetse bonotsha lesedi ben...\n",
       "10    lapho inarha yangeqadi ingenwe ngokungasimthet...\n",
       "11    yo dovha hafhu ya khwaṱhisedza uri vhe muya wa...\n",
       "12    i tip offs anonymous wusizo locingo oluzimele ...\n",
       "13    tekulima lokufaka ekhatsi yonkhe imisebenoti y...\n",
       "14    noma yiliphi ilungu lombutho wezokuvikela elin...\n",
       "Name: CleanText, dtype: object"
      ]
     },
     "metadata": {},
     "output_type": "display_data"
    }
   ],
   "source": [
    "df['CleanText'] = df['CleanText'].apply(clean)\n",
    "display(df['CleanText'].head(15))"
   ]
  },
  {
   "cell_type": "markdown",
   "id": "e0a38088",
   "metadata": {
    "papermill": {
     "duration": 0.020461,
     "end_time": "2023-06-30T12:41:36.520375",
     "exception": false,
     "start_time": "2023-06-30T12:41:36.499914",
     "status": "completed"
    },
    "tags": []
   },
   "source": [
    "****Remove Punctuations****"
   ]
  },
  {
   "cell_type": "code",
   "execution_count": 30,
   "id": "fce3aab0",
   "metadata": {
    "execution": {
     "iopub.execute_input": "2023-06-30T12:41:36.564125Z",
     "iopub.status.busy": "2023-06-30T12:41:36.563581Z",
     "iopub.status.idle": "2023-06-30T12:41:36.571186Z",
     "shell.execute_reply": "2023-06-30T12:41:36.570434Z"
    },
    "papermill": {
     "duration": 0.031895,
     "end_time": "2023-06-30T12:41:36.573042",
     "exception": false,
     "start_time": "2023-06-30T12:41:36.541147",
     "status": "completed"
    },
    "tags": []
   },
   "outputs": [
    {
     "data": {
      "text/plain": [
       "'this is my first hackathon'"
      ]
     },
     "execution_count": 30,
     "metadata": {},
     "output_type": "execute_result"
    }
   ],
   "source": [
    "import string\n",
    "regular_punct = list(string.punctuation)\n",
    "#all_punct = list(set(regular_punct+ my_stopwords ))\n",
    "def remove_punctuation(text,punct_list):\n",
    "    for punc in punct_list:\n",
    "        if punc in text:\n",
    "            text = text.replace(punc, ' ')\n",
    "    return text.strip()\n",
    "text =\" this is my first hackathon..\"\n",
    "remove_punctuation(text ,regular_punct)"
   ]
  },
  {
   "cell_type": "markdown",
   "id": "d25f817f",
   "metadata": {
    "papermill": {
     "duration": 0.021163,
     "end_time": "2023-06-30T12:41:36.615035",
     "exception": false,
     "start_time": "2023-06-30T12:41:36.593872",
     "status": "completed"
    },
    "tags": []
   },
   "source": [
    "# **Explore the Data**"
   ]
  },
  {
   "cell_type": "code",
   "execution_count": 31,
   "id": "c65985b6",
   "metadata": {
    "execution": {
     "iopub.execute_input": "2023-06-30T12:41:36.660497Z",
     "iopub.status.busy": "2023-06-30T12:41:36.660107Z",
     "iopub.status.idle": "2023-06-30T12:41:40.656087Z",
     "shell.execute_reply": "2023-06-30T12:41:40.655087Z"
    },
    "papermill": {
     "duration": 4.021359,
     "end_time": "2023-06-30T12:41:40.658501",
     "exception": false,
     "start_time": "2023-06-30T12:41:36.637142",
     "status": "completed"
    },
    "tags": []
   },
   "outputs": [
    {
     "data": {
      "text/html": [
       "<div>\n",
       "<style scoped>\n",
       "    .dataframe tbody tr th:only-of-type {\n",
       "        vertical-align: middle;\n",
       "    }\n",
       "\n",
       "    .dataframe tbody tr th {\n",
       "        vertical-align: top;\n",
       "    }\n",
       "\n",
       "    .dataframe thead th {\n",
       "        text-align: right;\n",
       "    }\n",
       "</style>\n",
       "<table border=\"1\" class=\"dataframe\">\n",
       "  <thead>\n",
       "    <tr style=\"text-align: right;\">\n",
       "      <th></th>\n",
       "      <th>lang_id</th>\n",
       "      <th>afr</th>\n",
       "      <th>eng</th>\n",
       "      <th>nbl</th>\n",
       "      <th>nso</th>\n",
       "      <th>sot</th>\n",
       "      <th>ssw</th>\n",
       "      <th>tsn</th>\n",
       "      <th>tso</th>\n",
       "      <th>ven</th>\n",
       "      <th>xho</th>\n",
       "      <th>zul</th>\n",
       "    </tr>\n",
       "  </thead>\n",
       "  <tbody>\n",
       "    <tr>\n",
       "      <th rowspan=\"4\" valign=\"top\">text</th>\n",
       "      <th>count</th>\n",
       "      <td>3000</td>\n",
       "      <td>3000</td>\n",
       "      <td>3000</td>\n",
       "      <td>3000</td>\n",
       "      <td>3000</td>\n",
       "      <td>3000</td>\n",
       "      <td>3000</td>\n",
       "      <td>3000</td>\n",
       "      <td>3000</td>\n",
       "      <td>3000</td>\n",
       "      <td>3000</td>\n",
       "    </tr>\n",
       "    <tr>\n",
       "      <th>unique</th>\n",
       "      <td>2641</td>\n",
       "      <td>2998</td>\n",
       "      <td>2362</td>\n",
       "      <td>2873</td>\n",
       "      <td>2833</td>\n",
       "      <td>2426</td>\n",
       "      <td>2869</td>\n",
       "      <td>2758</td>\n",
       "      <td>2605</td>\n",
       "      <td>2659</td>\n",
       "      <td>2924</td>\n",
       "    </tr>\n",
       "    <tr>\n",
       "      <th>top</th>\n",
       "      <td>wanvoeding is n ernstige probleem in suid-afri...</td>\n",
       "      <td>provincial revenue includes budgeted equitable...</td>\n",
       "      <td>ngokwesekhtjheni yomthetho ophathelene nalokhu...</td>\n",
       "      <td>bolwetši bo phatlalala ka phetelo ya lerothiny...</td>\n",
       "      <td>tip-offs anonymous ke tshebeletso ya mohala wa...</td>\n",
       "      <td>lesifo sisabalala ngematfonsi ematse k k uma n...</td>\n",
       "      <td>diforomo tsa kopo di ka tsewa gongwe go isiwa ...</td>\n",
       "      <td>ku ya hi xiyenge xa xa nawu u ni mfanelo yo ko...</td>\n",
       "      <td>vhabebi vhanu vha tea u ṋekana nga vhuṱanzi ha...</td>\n",
       "      <td>ukuthintelwa kweempawu ezibonisa ukungalungi k...</td>\n",
       "      <td>i-tip-offs anonymous wusizo locingo oluzimele ...</td>\n",
       "    </tr>\n",
       "    <tr>\n",
       "      <th>freq</th>\n",
       "      <td>5</td>\n",
       "      <td>2</td>\n",
       "      <td>17</td>\n",
       "      <td>4</td>\n",
       "      <td>6</td>\n",
       "      <td>5</td>\n",
       "      <td>9</td>\n",
       "      <td>10</td>\n",
       "      <td>8</td>\n",
       "      <td>6</td>\n",
       "      <td>5</td>\n",
       "    </tr>\n",
       "    <tr>\n",
       "      <th rowspan=\"4\" valign=\"top\">CleanText</th>\n",
       "      <th>count</th>\n",
       "      <td>3000</td>\n",
       "      <td>3000</td>\n",
       "      <td>3000</td>\n",
       "      <td>3000</td>\n",
       "      <td>3000</td>\n",
       "      <td>3000</td>\n",
       "      <td>3000</td>\n",
       "      <td>3000</td>\n",
       "      <td>3000</td>\n",
       "      <td>3000</td>\n",
       "      <td>3000</td>\n",
       "    </tr>\n",
       "    <tr>\n",
       "      <th>unique</th>\n",
       "      <td>2635</td>\n",
       "      <td>2993</td>\n",
       "      <td>2356</td>\n",
       "      <td>2869</td>\n",
       "      <td>2826</td>\n",
       "      <td>2415</td>\n",
       "      <td>2865</td>\n",
       "      <td>2751</td>\n",
       "      <td>2603</td>\n",
       "      <td>2657</td>\n",
       "      <td>2923</td>\n",
       "    </tr>\n",
       "    <tr>\n",
       "      <th>top</th>\n",
       "      <td>dit waarskynlik meer van toepassing groot onde...</td>\n",
       "      <td>amendmenot amended</td>\n",
       "      <td>ngokwesekhtjheni yomthetho ophathelene nalokhu...</td>\n",
       "      <td>sebopego phethagetšego sengwalwana botelele bj...</td>\n",
       "      <td>tip offs anonymous tshebeletso ya mohala fonof...</td>\n",
       "      <td>lesifo sisabalala ngematfonsi ematse uma ngabe...</td>\n",
       "      <td>diforomo tsa kopo ka tsewa gongwe isiwa kwa yu...</td>\n",
       "      <td>ku ya xiyenge xa xa nawu mfanelo yo kombela ku...</td>\n",
       "      <td>vhabebi vhanu vha tea ṋekana nga vhuṱanzi ha v...</td>\n",
       "      <td>ukuthinotelwa kweempawu ezibonisa ukungalungi ...</td>\n",
       "      <td>i tip offs anonymous wusizo locingo oluzimele ...</td>\n",
       "    </tr>\n",
       "    <tr>\n",
       "      <th>freq</th>\n",
       "      <td>5</td>\n",
       "      <td>3</td>\n",
       "      <td>17</td>\n",
       "      <td>4</td>\n",
       "      <td>6</td>\n",
       "      <td>5</td>\n",
       "      <td>9</td>\n",
       "      <td>10</td>\n",
       "      <td>8</td>\n",
       "      <td>6</td>\n",
       "      <td>5</td>\n",
       "    </tr>\n",
       "    <tr>\n",
       "      <th rowspan=\"4\" valign=\"top\">CleanTexts</th>\n",
       "      <th>count</th>\n",
       "      <td>3000</td>\n",
       "      <td>3000</td>\n",
       "      <td>3000</td>\n",
       "      <td>3000</td>\n",
       "      <td>3000</td>\n",
       "      <td>3000</td>\n",
       "      <td>3000</td>\n",
       "      <td>3000</td>\n",
       "      <td>3000</td>\n",
       "      <td>3000</td>\n",
       "      <td>3000</td>\n",
       "    </tr>\n",
       "    <tr>\n",
       "      <th>unique</th>\n",
       "      <td>2636</td>\n",
       "      <td>2993</td>\n",
       "      <td>2357</td>\n",
       "      <td>2869</td>\n",
       "      <td>2826</td>\n",
       "      <td>2421</td>\n",
       "      <td>2865</td>\n",
       "      <td>2752</td>\n",
       "      <td>2603</td>\n",
       "      <td>2658</td>\n",
       "      <td>2923</td>\n",
       "    </tr>\n",
       "    <tr>\n",
       "      <th>top</th>\n",
       "      <td>[wanvoeding, ernstige, probleem, suid-afrika, ...</td>\n",
       "      <td>[amendmenot, amended]</td>\n",
       "      <td>[ngokwesekhtjheni, yomthetho, ophathelene, nal...</td>\n",
       "      <td>[sebopego, phethagetšego, sengwalwana, botelel...</td>\n",
       "      <td>[tip-offs, anonymous, tshebeletso, ya, mohala,...</td>\n",
       "      <td>[lesifo, sisabalala, ngematfonsi, ematse, uma,...</td>\n",
       "      <td>[diforomo, tsa, kopo, ka, tsewa, gongwe, isiwa...</td>\n",
       "      <td>[ku, ya, xiyenge, xa, xa, nawu, mfanelo, yo, k...</td>\n",
       "      <td>[vhabebi, vhanu, vha, tea, ṋekana, nga, vhuṱan...</td>\n",
       "      <td>[ukuthinotelwa, kweempawu, ezibonisa, ukungalu...</td>\n",
       "      <td>[i-tip-offs, anonymous, wusizo, locingo, oluzi...</td>\n",
       "    </tr>\n",
       "    <tr>\n",
       "      <th>freq</th>\n",
       "      <td>5</td>\n",
       "      <td>3</td>\n",
       "      <td>17</td>\n",
       "      <td>4</td>\n",
       "      <td>6</td>\n",
       "      <td>5</td>\n",
       "      <td>9</td>\n",
       "      <td>10</td>\n",
       "      <td>8</td>\n",
       "      <td>6</td>\n",
       "      <td>5</td>\n",
       "    </tr>\n",
       "  </tbody>\n",
       "</table>\n",
       "</div>"
      ],
      "text/plain": [
       "lang_id                                                          afr  \\\n",
       "text       count                                                3000   \n",
       "           unique                                               2641   \n",
       "           top     wanvoeding is n ernstige probleem in suid-afri...   \n",
       "           freq                                                    5   \n",
       "CleanText  count                                                3000   \n",
       "           unique                                               2635   \n",
       "           top     dit waarskynlik meer van toepassing groot onde...   \n",
       "           freq                                                    5   \n",
       "CleanTexts count                                                3000   \n",
       "           unique                                               2636   \n",
       "           top     [wanvoeding, ernstige, probleem, suid-afrika, ...   \n",
       "           freq                                                    5   \n",
       "\n",
       "lang_id                                                          eng  \\\n",
       "text       count                                                3000   \n",
       "           unique                                               2998   \n",
       "           top     provincial revenue includes budgeted equitable...   \n",
       "           freq                                                    2   \n",
       "CleanText  count                                                3000   \n",
       "           unique                                               2993   \n",
       "           top                                    amendmenot amended   \n",
       "           freq                                                    3   \n",
       "CleanTexts count                                                3000   \n",
       "           unique                                               2993   \n",
       "           top                                 [amendmenot, amended]   \n",
       "           freq                                                    3   \n",
       "\n",
       "lang_id                                                          nbl  \\\n",
       "text       count                                                3000   \n",
       "           unique                                               2362   \n",
       "           top     ngokwesekhtjheni yomthetho ophathelene nalokhu...   \n",
       "           freq                                                   17   \n",
       "CleanText  count                                                3000   \n",
       "           unique                                               2356   \n",
       "           top     ngokwesekhtjheni yomthetho ophathelene nalokhu...   \n",
       "           freq                                                   17   \n",
       "CleanTexts count                                                3000   \n",
       "           unique                                               2357   \n",
       "           top     [ngokwesekhtjheni, yomthetho, ophathelene, nal...   \n",
       "           freq                                                   17   \n",
       "\n",
       "lang_id                                                          nso  \\\n",
       "text       count                                                3000   \n",
       "           unique                                               2873   \n",
       "           top     bolwetši bo phatlalala ka phetelo ya lerothiny...   \n",
       "           freq                                                    4   \n",
       "CleanText  count                                                3000   \n",
       "           unique                                               2869   \n",
       "           top     sebopego phethagetšego sengwalwana botelele bj...   \n",
       "           freq                                                    4   \n",
       "CleanTexts count                                                3000   \n",
       "           unique                                               2869   \n",
       "           top     [sebopego, phethagetšego, sengwalwana, botelel...   \n",
       "           freq                                                    4   \n",
       "\n",
       "lang_id                                                          sot  \\\n",
       "text       count                                                3000   \n",
       "           unique                                               2833   \n",
       "           top     tip-offs anonymous ke tshebeletso ya mohala wa...   \n",
       "           freq                                                    6   \n",
       "CleanText  count                                                3000   \n",
       "           unique                                               2826   \n",
       "           top     tip offs anonymous tshebeletso ya mohala fonof...   \n",
       "           freq                                                    6   \n",
       "CleanTexts count                                                3000   \n",
       "           unique                                               2826   \n",
       "           top     [tip-offs, anonymous, tshebeletso, ya, mohala,...   \n",
       "           freq                                                    6   \n",
       "\n",
       "lang_id                                                          ssw  \\\n",
       "text       count                                                3000   \n",
       "           unique                                               2426   \n",
       "           top     lesifo sisabalala ngematfonsi ematse k k uma n...   \n",
       "           freq                                                    5   \n",
       "CleanText  count                                                3000   \n",
       "           unique                                               2415   \n",
       "           top     lesifo sisabalala ngematfonsi ematse uma ngabe...   \n",
       "           freq                                                    5   \n",
       "CleanTexts count                                                3000   \n",
       "           unique                                               2421   \n",
       "           top     [lesifo, sisabalala, ngematfonsi, ematse, uma,...   \n",
       "           freq                                                    5   \n",
       "\n",
       "lang_id                                                          tsn  \\\n",
       "text       count                                                3000   \n",
       "           unique                                               2869   \n",
       "           top     diforomo tsa kopo di ka tsewa gongwe go isiwa ...   \n",
       "           freq                                                    9   \n",
       "CleanText  count                                                3000   \n",
       "           unique                                               2865   \n",
       "           top     diforomo tsa kopo ka tsewa gongwe isiwa kwa yu...   \n",
       "           freq                                                    9   \n",
       "CleanTexts count                                                3000   \n",
       "           unique                                               2865   \n",
       "           top     [diforomo, tsa, kopo, ka, tsewa, gongwe, isiwa...   \n",
       "           freq                                                    9   \n",
       "\n",
       "lang_id                                                          tso  \\\n",
       "text       count                                                3000   \n",
       "           unique                                               2758   \n",
       "           top     ku ya hi xiyenge xa xa nawu u ni mfanelo yo ko...   \n",
       "           freq                                                   10   \n",
       "CleanText  count                                                3000   \n",
       "           unique                                               2751   \n",
       "           top     ku ya xiyenge xa xa nawu mfanelo yo kombela ku...   \n",
       "           freq                                                   10   \n",
       "CleanTexts count                                                3000   \n",
       "           unique                                               2752   \n",
       "           top     [ku, ya, xiyenge, xa, xa, nawu, mfanelo, yo, k...   \n",
       "           freq                                                   10   \n",
       "\n",
       "lang_id                                                          ven  \\\n",
       "text       count                                                3000   \n",
       "           unique                                               2605   \n",
       "           top     vhabebi vhanu vha tea u ṋekana nga vhuṱanzi ha...   \n",
       "           freq                                                    8   \n",
       "CleanText  count                                                3000   \n",
       "           unique                                               2603   \n",
       "           top     vhabebi vhanu vha tea ṋekana nga vhuṱanzi ha v...   \n",
       "           freq                                                    8   \n",
       "CleanTexts count                                                3000   \n",
       "           unique                                               2603   \n",
       "           top     [vhabebi, vhanu, vha, tea, ṋekana, nga, vhuṱan...   \n",
       "           freq                                                    8   \n",
       "\n",
       "lang_id                                                          xho  \\\n",
       "text       count                                                3000   \n",
       "           unique                                               2659   \n",
       "           top     ukuthintelwa kweempawu ezibonisa ukungalungi k...   \n",
       "           freq                                                    6   \n",
       "CleanText  count                                                3000   \n",
       "           unique                                               2657   \n",
       "           top     ukuthinotelwa kweempawu ezibonisa ukungalungi ...   \n",
       "           freq                                                    6   \n",
       "CleanTexts count                                                3000   \n",
       "           unique                                               2658   \n",
       "           top     [ukuthinotelwa, kweempawu, ezibonisa, ukungalu...   \n",
       "           freq                                                    6   \n",
       "\n",
       "lang_id                                                          zul  \n",
       "text       count                                                3000  \n",
       "           unique                                               2924  \n",
       "           top     i-tip-offs anonymous wusizo locingo oluzimele ...  \n",
       "           freq                                                    5  \n",
       "CleanText  count                                                3000  \n",
       "           unique                                               2923  \n",
       "           top     i tip offs anonymous wusizo locingo oluzimele ...  \n",
       "           freq                                                    5  \n",
       "CleanTexts count                                                3000  \n",
       "           unique                                               2923  \n",
       "           top     [i-tip-offs, anonymous, wusizo, locingo, oluzi...  \n",
       "           freq                                                    5  "
      ]
     },
     "execution_count": 31,
     "metadata": {},
     "output_type": "execute_result"
    }
   ],
   "source": [
    "df.groupby('lang_id').describe(include=['O']).T"
   ]
  },
  {
   "cell_type": "code",
   "execution_count": 32,
   "id": "b098e66e",
   "metadata": {
    "execution": {
     "iopub.execute_input": "2023-06-30T12:41:40.704623Z",
     "iopub.status.busy": "2023-06-30T12:41:40.704037Z",
     "iopub.status.idle": "2023-06-30T12:41:40.893932Z",
     "shell.execute_reply": "2023-06-30T12:41:40.892908Z"
    },
    "papermill": {
     "duration": 0.21557,
     "end_time": "2023-06-30T12:41:40.896172",
     "exception": false,
     "start_time": "2023-06-30T12:41:40.680602",
     "status": "completed"
    },
    "tags": []
   },
   "outputs": [
    {
     "data": {
      "text/html": [
       "<style type=\"text/css\">\n",
       "#T_13f77_row0_col1, #T_13f77_row1_col1, #T_13f77_row2_col1, #T_13f77_row3_col1, #T_13f77_row4_col1, #T_13f77_row5_col1, #T_13f77_row6_col1, #T_13f77_row7_col1, #T_13f77_row8_col1, #T_13f77_row9_col1, #T_13f77_row10_col1 {\n",
       "  background-color: #fcfbfd;\n",
       "  color: #000000;\n",
       "}\n",
       "</style>\n",
       "<table id=\"T_13f77\">\n",
       "  <thead>\n",
       "    <tr>\n",
       "      <th class=\"blank level0\" >&nbsp;</th>\n",
       "      <th id=\"T_13f77_level0_col0\" class=\"col_heading level0 col0\" >lang_id</th>\n",
       "      <th id=\"T_13f77_level0_col1\" class=\"col_heading level0 col1\" >CleanText</th>\n",
       "    </tr>\n",
       "  </thead>\n",
       "  <tbody>\n",
       "    <tr>\n",
       "      <th id=\"T_13f77_level0_row0\" class=\"row_heading level0 row0\" >0</th>\n",
       "      <td id=\"T_13f77_row0_col0\" class=\"data row0 col0\" >afr</td>\n",
       "      <td id=\"T_13f77_row0_col1\" class=\"data row0 col1\" >3000</td>\n",
       "    </tr>\n",
       "    <tr>\n",
       "      <th id=\"T_13f77_level0_row1\" class=\"row_heading level0 row1\" >1</th>\n",
       "      <td id=\"T_13f77_row1_col0\" class=\"data row1 col0\" >eng</td>\n",
       "      <td id=\"T_13f77_row1_col1\" class=\"data row1 col1\" >3000</td>\n",
       "    </tr>\n",
       "    <tr>\n",
       "      <th id=\"T_13f77_level0_row2\" class=\"row_heading level0 row2\" >2</th>\n",
       "      <td id=\"T_13f77_row2_col0\" class=\"data row2 col0\" >nbl</td>\n",
       "      <td id=\"T_13f77_row2_col1\" class=\"data row2 col1\" >3000</td>\n",
       "    </tr>\n",
       "    <tr>\n",
       "      <th id=\"T_13f77_level0_row3\" class=\"row_heading level0 row3\" >3</th>\n",
       "      <td id=\"T_13f77_row3_col0\" class=\"data row3 col0\" >nso</td>\n",
       "      <td id=\"T_13f77_row3_col1\" class=\"data row3 col1\" >3000</td>\n",
       "    </tr>\n",
       "    <tr>\n",
       "      <th id=\"T_13f77_level0_row4\" class=\"row_heading level0 row4\" >4</th>\n",
       "      <td id=\"T_13f77_row4_col0\" class=\"data row4 col0\" >sot</td>\n",
       "      <td id=\"T_13f77_row4_col1\" class=\"data row4 col1\" >3000</td>\n",
       "    </tr>\n",
       "    <tr>\n",
       "      <th id=\"T_13f77_level0_row5\" class=\"row_heading level0 row5\" >5</th>\n",
       "      <td id=\"T_13f77_row5_col0\" class=\"data row5 col0\" >ssw</td>\n",
       "      <td id=\"T_13f77_row5_col1\" class=\"data row5 col1\" >3000</td>\n",
       "    </tr>\n",
       "    <tr>\n",
       "      <th id=\"T_13f77_level0_row6\" class=\"row_heading level0 row6\" >6</th>\n",
       "      <td id=\"T_13f77_row6_col0\" class=\"data row6 col0\" >tsn</td>\n",
       "      <td id=\"T_13f77_row6_col1\" class=\"data row6 col1\" >3000</td>\n",
       "    </tr>\n",
       "    <tr>\n",
       "      <th id=\"T_13f77_level0_row7\" class=\"row_heading level0 row7\" >7</th>\n",
       "      <td id=\"T_13f77_row7_col0\" class=\"data row7 col0\" >tso</td>\n",
       "      <td id=\"T_13f77_row7_col1\" class=\"data row7 col1\" >3000</td>\n",
       "    </tr>\n",
       "    <tr>\n",
       "      <th id=\"T_13f77_level0_row8\" class=\"row_heading level0 row8\" >8</th>\n",
       "      <td id=\"T_13f77_row8_col0\" class=\"data row8 col0\" >ven</td>\n",
       "      <td id=\"T_13f77_row8_col1\" class=\"data row8 col1\" >3000</td>\n",
       "    </tr>\n",
       "    <tr>\n",
       "      <th id=\"T_13f77_level0_row9\" class=\"row_heading level0 row9\" >9</th>\n",
       "      <td id=\"T_13f77_row9_col0\" class=\"data row9 col0\" >xho</td>\n",
       "      <td id=\"T_13f77_row9_col1\" class=\"data row9 col1\" >3000</td>\n",
       "    </tr>\n",
       "    <tr>\n",
       "      <th id=\"T_13f77_level0_row10\" class=\"row_heading level0 row10\" >10</th>\n",
       "      <td id=\"T_13f77_row10_col0\" class=\"data row10 col0\" >zul</td>\n",
       "      <td id=\"T_13f77_row10_col1\" class=\"data row10 col1\" >3000</td>\n",
       "    </tr>\n",
       "  </tbody>\n",
       "</table>\n"
      ],
      "text/plain": [
       "<pandas.io.formats.style.Styler at 0x7d30e63f7490>"
      ]
     },
     "execution_count": 32,
     "metadata": {},
     "output_type": "execute_result"
    }
   ],
   "source": [
    "temp = df.groupby('lang_id').count()['CleanText'].reset_index().sort_values(by='CleanText',ascending=False)\n",
    "temp.style.background_gradient(cmap='Purples')"
   ]
  },
  {
   "cell_type": "code",
   "execution_count": 33,
   "id": "afc82699",
   "metadata": {
    "execution": {
     "iopub.execute_input": "2023-06-30T12:41:40.943622Z",
     "iopub.status.busy": "2023-06-30T12:41:40.942949Z",
     "iopub.status.idle": "2023-06-30T12:41:41.333414Z",
     "shell.execute_reply": "2023-06-30T12:41:41.332376Z"
    },
    "papermill": {
     "duration": 0.416702,
     "end_time": "2023-06-30T12:41:41.335515",
     "exception": false,
     "start_time": "2023-06-30T12:41:40.918813",
     "status": "completed"
    },
    "tags": []
   },
   "outputs": [
    {
     "data": {
      "text/plain": [
       "<Axes: xlabel='lang_id', ylabel='count'>"
      ]
     },
     "execution_count": 33,
     "metadata": {},
     "output_type": "execute_result"
    },
    {
     "data": {
      "image/png": "[encoded data removed]",
      "text/plain": [
       "<Figure size 1200x600 with 1 Axes>"
      ]
     },
     "metadata": {},
     "output_type": "display_data"
    }
   ],
   "source": [
    "plt.figure(figsize=(12,6))\n",
    "sns.countplot(x='lang_id',data=df)"
   ]
  },
  {
   "cell_type": "code",
   "execution_count": 34,
   "id": "06acfe5a",
   "metadata": {
    "execution": {
     "iopub.execute_input": "2023-06-30T12:41:41.382581Z",
     "iopub.status.busy": "2023-06-30T12:41:41.382162Z",
     "iopub.status.idle": "2023-06-30T12:41:41.725347Z",
     "shell.execute_reply": "2023-06-30T12:41:41.724030Z"
    },
    "papermill": {
     "duration": 0.36914,
     "end_time": "2023-06-30T12:41:41.727855",
     "exception": false,
     "start_time": "2023-06-30T12:41:41.358715",
     "status": "completed"
    },
    "tags": []
   },
   "outputs": [
    {
     "data": {
      "image/png": "[encoded data removed]",
      "text/plain": [
       "<Figure size 900x600 with 1 Axes>"
      ]
     },
     "metadata": {},
     "output_type": "display_data"
    }
   ],
   "source": [
    "plt.figure(figsize=(9,6))\n",
    "sns.countplot(y=df.lang_id, order = df.lang_id.value_counts().iloc[:25].index)\n",
    "plt.title('Top Language')\n",
    "plt.show()"
   ]
  },
  {
   "cell_type": "code",
   "execution_count": 35,
   "id": "95c47adb",
   "metadata": {
    "execution": {
     "iopub.execute_input": "2023-06-30T12:41:41.779327Z",
     "iopub.status.busy": "2023-06-30T12:41:41.778930Z",
     "iopub.status.idle": "2023-06-30T12:41:42.095916Z",
     "shell.execute_reply": "2023-06-30T12:41:42.094698Z"
    },
    "papermill": {
     "duration": 0.345234,
     "end_time": "2023-06-30T12:41:42.098083",
     "exception": false,
     "start_time": "2023-06-30T12:41:41.752849",
     "status": "completed"
    },
    "tags": []
   },
   "outputs": [
    {
     "data": {
      "text/html": [
       "<div>\n",
       "<style scoped>\n",
       "    .dataframe tbody tr th:only-of-type {\n",
       "        vertical-align: middle;\n",
       "    }\n",
       "\n",
       "    .dataframe tbody tr th {\n",
       "        vertical-align: top;\n",
       "    }\n",
       "\n",
       "    .dataframe thead th {\n",
       "        text-align: right;\n",
       "    }\n",
       "</style>\n",
       "<table border=\"1\" class=\"dataframe\">\n",
       "  <thead>\n",
       "    <tr style=\"text-align: right;\">\n",
       "      <th></th>\n",
       "      <th>lang_id</th>\n",
       "      <th>text</th>\n",
       "      <th>index</th>\n",
       "      <th>CleanText</th>\n",
       "      <th>CleanTexts</th>\n",
       "    </tr>\n",
       "  </thead>\n",
       "  <tbody>\n",
       "    <tr>\n",
       "      <th>28963</th>\n",
       "      <td>ven</td>\n",
       "      <td>muthu muṅwe na muṅwe we a itwa muaro wa u shan...</td>\n",
       "      <td>NaN</td>\n",
       "      <td>muthu muṅwe muṅwe itwa muaro shandukisa mbeu k...</td>\n",
       "      <td>[muthu, muṅwe, muṅwe, itwa, muaro, shandukisa,...</td>\n",
       "    </tr>\n",
       "    <tr>\n",
       "      <th>29270</th>\n",
       "      <td>nbl</td>\n",
       "      <td>zitlolise emnyangweni wezabasebenzi njengomunt...</td>\n",
       "      <td>NaN</td>\n",
       "      <td>zitlolise emnyangweni wezabasebenzi njengomuno...</td>\n",
       "      <td>[zitlolise, emnyangweni, wezabasebenzi, njengo...</td>\n",
       "    </tr>\n",
       "  </tbody>\n",
       "</table>\n",
       "</div>"
      ],
      "text/plain": [
       "      lang_id                                               text  index  \\\n",
       "28963     ven  muthu muṅwe na muṅwe we a itwa muaro wa u shan...    NaN   \n",
       "29270     nbl  zitlolise emnyangweni wezabasebenzi njengomunt...    NaN   \n",
       "\n",
       "                                               CleanText  \\\n",
       "28963  muthu muṅwe muṅwe itwa muaro shandukisa mbeu k...   \n",
       "29270  zitlolise emnyangweni wezabasebenzi njengomuno...   \n",
       "\n",
       "                                              CleanTexts  \n",
       "28963  [muthu, muṅwe, muṅwe, itwa, muaro, shandukisa,...  \n",
       "29270  [zitlolise, emnyangweni, wezabasebenzi, njengo...  "
      ]
     },
     "metadata": {},
     "output_type": "display_data"
    },
    {
     "name": "stdout",
     "output_type": "stream",
     "text": [
      "\n",
      "Languags\n",
      "------------------------------------------------------------------------\n"
     ]
    },
    {
     "data": {
      "image/png": "[encoded data removed]",
      "text/plain": [
       "<Figure size 640x480 with 1 Axes>"
      ]
     },
     "metadata": {},
     "output_type": "display_data"
    }
   ],
   "source": [
    "display(df.sample(2))\n",
    "\n",
    "print ( '\\nLanguags\\n------------------------------------------------------------------------')\n",
    "df['lang_id'].hist() ;"
   ]
  },
  {
   "cell_type": "code",
   "execution_count": 36,
   "id": "e71ab27e",
   "metadata": {
    "execution": {
     "iopub.execute_input": "2023-06-30T12:41:42.147325Z",
     "iopub.status.busy": "2023-06-30T12:41:42.146930Z",
     "iopub.status.idle": "2023-06-30T12:41:42.858577Z",
     "shell.execute_reply": "2023-06-30T12:41:42.857433Z"
    },
    "papermill": {
     "duration": 0.73892,
     "end_time": "2023-06-30T12:41:42.860856",
     "exception": false,
     "start_time": "2023-06-30T12:41:42.121936",
     "status": "completed"
    },
    "tags": []
   },
   "outputs": [
    {
     "data": {
      "text/plain": [
       "[('ya', 32636),\n",
       " ('ka', 20967),\n",
       " ('die', 11345),\n",
       " ('ku', 9843),\n",
       " ('nga', 7910),\n",
       " ('ha', 5412),\n",
       " ('tsa', 5384),\n",
       " ('van', 5383),\n",
       " ('vha', 5038),\n",
       " ('tse', 4021)]"
      ]
     },
     "execution_count": 36,
     "metadata": {},
     "output_type": "execute_result"
    }
   ],
   "source": [
    "from collections import Counter\n",
    "cnt = Counter()\n",
    "for text in df[\"CleanText\"].values:\n",
    "    for word in text.split():\n",
    "        cnt[word] += 1\n",
    "        \n",
    "cnt.most_common(10)"
   ]
  },
  {
   "cell_type": "code",
   "execution_count": 37,
   "id": "61dfde90",
   "metadata": {
    "execution": {
     "iopub.execute_input": "2023-06-30T12:41:42.911280Z",
     "iopub.status.busy": "2023-06-30T12:41:42.910894Z",
     "iopub.status.idle": "2023-06-30T12:41:42.917401Z",
     "shell.execute_reply": "2023-06-30T12:41:42.916616Z"
    },
    "papermill": {
     "duration": 0.034068,
     "end_time": "2023-06-30T12:41:42.919596",
     "exception": false,
     "start_time": "2023-06-30T12:41:42.885528",
     "status": "completed"
    },
    "tags": []
   },
   "outputs": [],
   "source": [
    "def get_n_words(corpus, direction, n):\n",
    "    vec = CountVectorizer().fit(corpus)\n",
    "    bag_of_words = vec.transform(corpus)\n",
    "    sum_words = bag_of_words.sum(axis=0) \n",
    "    words_freq = [(word, sum_words[0, idx]) for word, idx in vec.vocabulary_.items()]\n",
    "    if direction == \"top\":\n",
    "        words_freq =sorted(words_freq, key = lambda x: x[1], reverse=True)\n",
    "    else:\n",
    "        words_freq =sorted(words_freq, key = lambda x: x[1], reverse=False)\n",
    "    return words_freq[:n]"
   ]
  },
  {
   "cell_type": "code",
   "execution_count": 38,
   "id": "992b0919",
   "metadata": {
    "execution": {
     "iopub.execute_input": "2023-06-30T12:41:42.969474Z",
     "iopub.status.busy": "2023-06-30T12:41:42.968849Z",
     "iopub.status.idle": "2023-06-30T12:41:50.810056Z",
     "shell.execute_reply": "2023-06-30T12:41:50.808857Z"
    },
    "papermill": {
     "duration": 7.868644,
     "end_time": "2023-06-30T12:41:50.812599",
     "exception": false,
     "start_time": "2023-06-30T12:41:42.943955",
     "status": "completed"
    },
    "tags": []
   },
   "outputs": [],
   "source": [
    "from sklearn.feature_extraction.text import CountVectorizer\n",
    "common_words = get_n_words(df['CleanText'], \"top\", 15)\n",
    "rare_words = get_n_words(df['CleanText'], \"bottom\", 15)"
   ]
  },
  {
   "cell_type": "code",
   "execution_count": 39,
   "id": "a1d9e691",
   "metadata": {
    "execution": {
     "iopub.execute_input": "2023-06-30T12:41:50.862219Z",
     "iopub.status.busy": "2023-06-30T12:41:50.861331Z",
     "iopub.status.idle": "2023-06-30T12:41:51.264072Z",
     "shell.execute_reply": "2023-06-30T12:41:51.262644Z"
    },
    "papermill": {
     "duration": 0.430893,
     "end_time": "2023-06-30T12:41:51.266737",
     "exception": false,
     "start_time": "2023-06-30T12:41:50.835844",
     "status": "completed"
    },
    "tags": []
   },
   "outputs": [
    {
     "data": {
      "image/png": "[encoded data removed]",
      "text/plain": [
       "<Figure size 1500x1000 with 1 Axes>"
      ]
     },
     "metadata": {},
     "output_type": "display_data"
    }
   ],
   "source": [
    "common_words = dict(common_words)\n",
    "names = list(common_words.keys())\n",
    "values = list(common_words.values())\n",
    "plt.subplots(figsize = (15,10))\n",
    "bars = plt.bar(range(len(common_words)),values,tick_label=names)\n",
    "plt.title('15 most common words:')\n",
    "for bar in bars:\n",
    "    yval = bar.get_height()\n",
    "    plt.text(bar.get_x(), yval + .01, yval)\n",
    "plt.show()"
   ]
  },
  {
   "cell_type": "markdown",
   "id": "2be0c924",
   "metadata": {
    "papermill": {
     "duration": 0.022795,
     "end_time": "2023-06-30T12:41:51.314765",
     "exception": false,
     "start_time": "2023-06-30T12:41:51.291970",
     "status": "completed"
    },
    "tags": []
   },
   "source": [
    "**Tokenize**"
   ]
  },
  {
   "cell_type": "code",
   "execution_count": 40,
   "id": "ff8436e1",
   "metadata": {
    "execution": {
     "iopub.execute_input": "2023-06-30T12:41:51.364717Z",
     "iopub.status.busy": "2023-06-30T12:41:51.363967Z",
     "iopub.status.idle": "2023-06-30T12:42:06.431698Z",
     "shell.execute_reply": "2023-06-30T12:42:06.430569Z"
    },
    "papermill": {
     "duration": 15.095696,
     "end_time": "2023-06-30T12:42:06.433901",
     "exception": false,
     "start_time": "2023-06-30T12:41:51.338205",
     "status": "completed"
    },
    "tags": []
   },
   "outputs": [
    {
     "data": {
      "text/plain": [
       "0    [umgaqo, siseko, wenza, amalungiselelo, kumazi...\n",
       "1    [i, dha, iya, kuba, nobulumko, bokubeka, umseb...\n",
       "2    [province, kwazulu, natal, departmenot, transp...\n",
       "3    [netefatša, gore, file, dilo, ka, moka, tše, d...\n",
       "4    [khomishini, ya, ndinganyiso, ya, mbeu, yo, ew...\n",
       "Name: CleanText, dtype: object"
      ]
     },
     "metadata": {},
     "output_type": "display_data"
    }
   ],
   "source": [
    "df['CleanText'] = df['CleanText'].apply(word_tokenize)\n",
    "display(df['CleanText'].head(5))"
   ]
  },
  {
   "cell_type": "markdown",
   "id": "d111cef4",
   "metadata": {
    "papermill": {
     "duration": 0.025199,
     "end_time": "2023-06-30T12:42:06.484469",
     "exception": false,
     "start_time": "2023-06-30T12:42:06.459270",
     "status": "completed"
    },
    "tags": []
   },
   "source": [
    "**Lemmatizer**"
   ]
  },
  {
   "cell_type": "code",
   "execution_count": 41,
   "id": "459599dc",
   "metadata": {
    "execution": {
     "iopub.execute_input": "2023-06-30T12:42:06.535587Z",
     "iopub.status.busy": "2023-06-30T12:42:06.535173Z",
     "iopub.status.idle": "2023-06-30T12:42:06.540336Z",
     "shell.execute_reply": "2023-06-30T12:42:06.539404Z"
    },
    "papermill": {
     "duration": 0.033594,
     "end_time": "2023-06-30T12:42:06.542579",
     "exception": false,
     "start_time": "2023-06-30T12:42:06.508985",
     "status": "completed"
    },
    "tags": []
   },
   "outputs": [],
   "source": [
    "lem = WordNetLemmatizer()\n",
    "def lemma_wordnet(input):\n",
    "    return [lem.lemmatize(i) for i in input]\n",
    " "
   ]
  },
  {
   "cell_type": "code",
   "execution_count": 42,
   "id": "8451d564",
   "metadata": {
    "execution": {
     "iopub.execute_input": "2023-06-30T12:42:06.594985Z",
     "iopub.status.busy": "2023-06-30T12:42:06.594449Z",
     "iopub.status.idle": "2023-06-30T12:42:06.602802Z",
     "shell.execute_reply": "2023-06-30T12:42:06.601695Z"
    },
    "papermill": {
     "duration": 0.036887,
     "end_time": "2023-06-30T12:42:06.604743",
     "exception": false,
     "start_time": "2023-06-30T12:42:06.567856",
     "status": "completed"
    },
    "tags": []
   },
   "outputs": [
    {
     "data": {
      "text/plain": [
       "0    [umgaqo, siseko, wenza, amalungiselelo, kumazi...\n",
       "1    [i, dha, iya, kuba, nobulumko, bokubeka, umseb...\n",
       "2    [province, kwazulu, natal, departmenot, transp...\n",
       "3    [netefatša, gore, file, dilo, ka, moka, tše, d...\n",
       "4    [khomishini, ya, ndinganyiso, ya, mbeu, yo, ew...\n",
       "Name: CleanText, dtype: object"
      ]
     },
     "metadata": {},
     "output_type": "display_data"
    }
   ],
   "source": [
    "display(df['CleanText'].head(5))"
   ]
  },
  {
   "cell_type": "code",
   "execution_count": 43,
   "id": "ee23c73f",
   "metadata": {
    "execution": {
     "iopub.execute_input": "2023-06-30T12:42:06.657872Z",
     "iopub.status.busy": "2023-06-30T12:42:06.657192Z",
     "iopub.status.idle": "2023-06-30T12:42:06.762915Z",
     "shell.execute_reply": "2023-06-30T12:42:06.761983Z"
    },
    "papermill": {
     "duration": 0.134934,
     "end_time": "2023-06-30T12:42:06.765228",
     "exception": false,
     "start_time": "2023-06-30T12:42:06.630294",
     "status": "completed"
    },
    "tags": []
   },
   "outputs": [
    {
     "data": {
      "text/plain": [
       "0       umgaqo siseko wenza amalungiselelo kumaziko ax...\n",
       "1       i dha iya kuba nobulumko bokubeka umsebenzi na...\n",
       "2       province kwazulu natal departmenot transport i...\n",
       "3       netefatša gore file dilo ka moka tše dumelelan...\n",
       "4       khomishini ya ndinganyiso ya mbeu yo ewa maana...\n",
       "                              ...                        \n",
       "5677                                  mark ballot private\n",
       "5678    ka kgetha ka bowena šomiše mofani ka tirelo yo...\n",
       "5679    ka kopo etsa kgetho ya hao ka hloko hobane ha ...\n",
       "5680    bokudi pmb mme morero tla lefella tlhahlobo ya...\n",
       "5681                 vakatjhela iwebhusayidi yethu ku www\n",
       "Name: CleanText, Length: 38682, dtype: object"
      ]
     },
     "execution_count": 43,
     "metadata": {},
     "output_type": "execute_result"
    }
   ],
   "source": [
    "def combine_text(input):\n",
    "    combined = ' '.join(input)\n",
    "    return combined\n",
    "df['CleanText'] = df['CleanText'].apply(combine_text)\n",
    "df['CleanText']"
   ]
  },
  {
   "cell_type": "code",
   "execution_count": 44,
   "id": "1c37d9d3",
   "metadata": {
    "execution": {
     "iopub.execute_input": "2023-06-30T12:42:06.815445Z",
     "iopub.status.busy": "2023-06-30T12:42:06.815069Z",
     "iopub.status.idle": "2023-06-30T12:42:07.153081Z",
     "shell.execute_reply": "2023-06-30T12:42:07.152144Z"
    },
    "papermill": {
     "duration": 0.366136,
     "end_time": "2023-06-30T12:42:07.155542",
     "exception": false,
     "start_time": "2023-06-30T12:42:06.789406",
     "status": "completed"
    },
    "tags": []
   },
   "outputs": [],
   "source": [
    "import re\n",
    "\n",
    "# Text cleaning function\n",
    "def clean_text(text):\n",
    "    # Remove non-alphabetic characters\n",
    "    text = re.sub(r'[^a-zA-Z\\s]', '', text)\n",
    "    # Convert to lowercase\n",
    "    text = text.lower()\n",
    "    return text\n",
    "\n",
    "# Apply text cleaning to the training and test data\n",
    "df_train['text'] = df_train['text'].apply(clean_text)\n",
    "df_test['text'] = df_test['text'].apply(clean_text)\n"
   ]
  },
  {
   "cell_type": "code",
   "execution_count": 45,
   "id": "538b15c2",
   "metadata": {
    "execution": {
     "iopub.execute_input": "2023-06-30T12:42:07.207881Z",
     "iopub.status.busy": "2023-06-30T12:42:07.207252Z",
     "iopub.status.idle": "2023-06-30T12:42:07.211339Z",
     "shell.execute_reply": "2023-06-30T12:42:07.210653Z"
    },
    "papermill": {
     "duration": 0.032486,
     "end_time": "2023-06-30T12:42:07.213344",
     "exception": false,
     "start_time": "2023-06-30T12:42:07.180858",
     "status": "completed"
    },
    "tags": []
   },
   "outputs": [],
   "source": [
    "train_texts = df_train['text']\n",
    "train_labels = df_train['lang_id']\n",
    "test_texts = df_test['text']"
   ]
  },
  {
   "cell_type": "code",
   "execution_count": 46,
   "id": "b5f147cf",
   "metadata": {
    "execution": {
     "iopub.execute_input": "2023-06-30T12:42:07.263883Z",
     "iopub.status.busy": "2023-06-30T12:42:07.263262Z",
     "iopub.status.idle": "2023-06-30T12:42:07.267154Z",
     "shell.execute_reply": "2023-06-30T12:42:07.266467Z"
    },
    "papermill": {
     "duration": 0.031896,
     "end_time": "2023-06-30T12:42:07.268996",
     "exception": false,
     "start_time": "2023-06-30T12:42:07.237100",
     "status": "completed"
    },
    "tags": []
   },
   "outputs": [],
   "source": [
    "vectorizer = CountVectorizer()"
   ]
  },
  {
   "cell_type": "code",
   "execution_count": 47,
   "id": "8e3b9a8a",
   "metadata": {
    "execution": {
     "iopub.execute_input": "2023-06-30T12:42:07.319162Z",
     "iopub.status.busy": "2023-06-30T12:42:07.318587Z",
     "iopub.status.idle": "2023-06-30T12:42:09.315621Z",
     "shell.execute_reply": "2023-06-30T12:42:09.314557Z"
    },
    "papermill": {
     "duration": 2.024614,
     "end_time": "2023-06-30T12:42:09.317945",
     "exception": false,
     "start_time": "2023-06-30T12:42:07.293331",
     "status": "completed"
    },
    "tags": []
   },
   "outputs": [],
   "source": [
    "train_features = vectorizer.fit_transform(train_texts)"
   ]
  },
  {
   "cell_type": "code",
   "execution_count": 48,
   "id": "52d4b671",
   "metadata": {
    "execution": {
     "iopub.execute_input": "2023-06-30T12:42:09.372263Z",
     "iopub.status.busy": "2023-06-30T12:42:09.371883Z",
     "iopub.status.idle": "2023-06-30T12:42:09.568479Z",
     "shell.execute_reply": "2023-06-30T12:42:09.567375Z"
    },
    "papermill": {
     "duration": 0.226519,
     "end_time": "2023-06-30T12:42:09.571201",
     "exception": false,
     "start_time": "2023-06-30T12:42:09.344682",
     "status": "completed"
    },
    "tags": []
   },
   "outputs": [],
   "source": [
    "# Transform the test data\n",
    "test_features = vectorizer.transform(test_texts)"
   ]
  },
  {
   "cell_type": "code",
   "execution_count": 49,
   "id": "b88e2c9a",
   "metadata": {
    "execution": {
     "iopub.execute_input": "2023-06-30T12:42:09.622002Z",
     "iopub.status.busy": "2023-06-30T12:42:09.621171Z",
     "iopub.status.idle": "2023-06-30T12:42:09.635979Z",
     "shell.execute_reply": "2023-06-30T12:42:09.635068Z"
    },
    "papermill": {
     "duration": 0.042176,
     "end_time": "2023-06-30T12:42:09.638219",
     "exception": false,
     "start_time": "2023-06-30T12:42:09.596043",
     "status": "completed"
    },
    "tags": []
   },
   "outputs": [],
   "source": [
    "# Split the training data into training and validation sets\n",
    "X_train, X_val, y_train, y_val = train_test_split(train_features, train_labels, test_size=0.2, random_state=42)"
   ]
  },
  {
   "cell_type": "code",
   "execution_count": 50,
   "id": "88a10cfb",
   "metadata": {
    "execution": {
     "iopub.execute_input": "2023-06-30T12:42:09.689227Z",
     "iopub.status.busy": "2023-06-30T12:42:09.688867Z",
     "iopub.status.idle": "2023-06-30T12:42:13.257231Z",
     "shell.execute_reply": "2023-06-30T12:42:13.256164Z"
    },
    "papermill": {
     "duration": 3.596234,
     "end_time": "2023-06-30T12:42:13.259453",
     "exception": false,
     "start_time": "2023-06-30T12:42:09.663219",
     "status": "completed"
    },
    "tags": []
   },
   "outputs": [
    {
     "data": {
      "text/html": [
       "<style>#sk-container-id-1 {color: black;background-color: white;}#sk-container-id-1 pre{padding: 0;}#sk-container-id-1 div.sk-toggleable {background-color: white;}#sk-container-id-1 label.sk-toggleable__label {cursor: pointer;display: block;width: 100%;margin-bottom: 0;padding: 0.3em;box-sizing: border-box;text-align: center;}#sk-container-id-1 label.sk-toggleable__label-arrow:before {content: \"▸\";float: left;margin-right: 0.25em;color: #696969;}#sk-container-id-1 label.sk-toggleable__label-arrow:hover:before {color: black;}#sk-container-id-1 div.sk-estimator:hover label.sk-toggleable__label-arrow:before {color: black;}#sk-container-id-1 div.sk-toggleable__content {max-height: 0;max-width: 0;overflow: hidden;text-align: left;background-color: #f0f8ff;}#sk-container-id-1 div.sk-toggleable__content pre {margin: 0.2em;color: black;border-radius: 0.25em;background-color: #f0f8ff;}#sk-container-id-1 input.sk-toggleable__control:checked~div.sk-toggleable__content {max-height: 200px;max-width: 100%;overflow: auto;}#sk-container-id-1 input.sk-toggleable__control:checked~label.sk-toggleable__label-arrow:before {content: \"▾\";}#sk-container-id-1 div.sk-estimator input.sk-toggleable__control:checked~label.sk-toggleable__label {background-color: #d4ebff;}#sk-container-id-1 div.sk-label input.sk-toggleable__control:checked~label.sk-toggleable__label {background-color: #d4ebff;}#sk-container-id-1 input.sk-hidden--visually {border: 0;clip: rect(1px 1px 1px 1px);clip: rect(1px, 1px, 1px, 1px);height: 1px;margin: -1px;overflow: hidden;padding: 0;position: absolute;width: 1px;}#sk-container-id-1 div.sk-estimator {font-family: monospace;background-color: #f0f8ff;border: 1px dotted black;border-radius: 0.25em;box-sizing: border-box;margin-bottom: 0.5em;}#sk-container-id-1 div.sk-estimator:hover {background-color: #d4ebff;}#sk-container-id-1 div.sk-parallel-item::after {content: \"\";width: 100%;border-bottom: 1px solid gray;flex-grow: 1;}#sk-container-id-1 div.sk-label:hover label.sk-toggleable__label {background-color: #d4ebff;}#sk-container-id-1 div.sk-serial::before {content: \"\";position: absolute;border-left: 1px solid gray;box-sizing: border-box;top: 0;bottom: 0;left: 50%;z-index: 0;}#sk-container-id-1 div.sk-serial {display: flex;flex-direction: column;align-items: center;background-color: white;padding-right: 0.2em;padding-left: 0.2em;position: relative;}#sk-container-id-1 div.sk-item {position: relative;z-index: 1;}#sk-container-id-1 div.sk-parallel {display: flex;align-items: stretch;justify-content: center;background-color: white;position: relative;}#sk-container-id-1 div.sk-item::before, #sk-container-id-1 div.sk-parallel-item::before {content: \"\";position: absolute;border-left: 1px solid gray;box-sizing: border-box;top: 0;bottom: 0;left: 50%;z-index: -1;}#sk-container-id-1 div.sk-parallel-item {display: flex;flex-direction: column;z-index: 1;position: relative;background-color: white;}#sk-container-id-1 div.sk-parallel-item:first-child::after {align-self: flex-end;width: 50%;}#sk-container-id-1 div.sk-parallel-item:last-child::after {align-self: flex-start;width: 50%;}#sk-container-id-1 div.sk-parallel-item:only-child::after {width: 0;}#sk-container-id-1 div.sk-dashed-wrapped {border: 1px dashed gray;margin: 0 0.4em 0.5em 0.4em;box-sizing: border-box;padding-bottom: 0.4em;background-color: white;}#sk-container-id-1 div.sk-label label {font-family: monospace;font-weight: bold;display: inline-block;line-height: 1.2em;}#sk-container-id-1 div.sk-label-container {text-align: center;}#sk-container-id-1 div.sk-container {/* jupyter's `normalize.less` sets `[hidden] { display: none; }` but bootstrap.min.css set `[hidden] { display: none !important; }` so we also need the `!important` here to be able to override the default hidden behavior on the sphinx rendered scikit-learn.org. See: https://github.com/scikit-learn/scikit-learn/issues/21755 */display: inline-block !important;position: relative;}#sk-container-id-1 div.sk-text-repr-fallback {display: none;}</style><div id=\"sk-container-id-1\" class=\"sk-top-container\"><div class=\"sk-text-repr-fallback\"><pre>LinearSVC()</pre><b>In a Jupyter environment, please rerun this cell to show the HTML representation or trust the notebook. <br />On GitHub, the HTML representation is unable to render, please try loading this page with nbviewer.org.</b></div><div class=\"sk-container\" hidden><div class=\"sk-item\"><div class=\"sk-estimator sk-toggleable\"><input class=\"sk-toggleable__control sk-hidden--visually\" id=\"sk-estimator-id-1\" type=\"checkbox\" checked><label for=\"sk-estimator-id-1\" class=\"sk-toggleable__label sk-toggleable__label-arrow\">LinearSVC</label><div class=\"sk-toggleable__content\"><pre>LinearSVC()</pre></div></div></div></div></div>"
      ],
      "text/plain": [
       "LinearSVC()"
      ]
     },
     "execution_count": 50,
     "metadata": {},
     "output_type": "execute_result"
    }
   ],
   "source": [
    "from sklearn.svm import LinearSVC\n",
    "\n",
    "classifier = LinearSVC()\n",
    "classifier.fit(X_train, y_train)"
   ]
  },
  {
   "cell_type": "code",
   "execution_count": 51,
   "id": "8d821863",
   "metadata": {
    "execution": {
     "iopub.execute_input": "2023-06-30T12:42:13.311976Z",
     "iopub.status.busy": "2023-06-30T12:42:13.311044Z",
     "iopub.status.idle": "2023-06-30T12:42:13.321840Z",
     "shell.execute_reply": "2023-06-30T12:42:13.320867Z"
    },
    "papermill": {
     "duration": 0.039286,
     "end_time": "2023-06-30T12:42:13.324252",
     "exception": false,
     "start_time": "2023-06-30T12:42:13.284966",
     "status": "completed"
    },
    "tags": []
   },
   "outputs": [],
   "source": [
    "# Predict the labels for the validation set\n",
    "val_predictions = classifier.predict(X_val)"
   ]
  },
  {
   "cell_type": "code",
   "execution_count": 52,
   "id": "f9c3c41a",
   "metadata": {
    "execution": {
     "iopub.execute_input": "2023-06-30T12:42:13.378269Z",
     "iopub.status.busy": "2023-06-30T12:42:13.377932Z",
     "iopub.status.idle": "2023-06-30T12:42:13.458593Z",
     "shell.execute_reply": "2023-06-30T12:42:13.457554Z"
    },
    "papermill": {
     "duration": 0.110999,
     "end_time": "2023-06-30T12:42:13.461280",
     "exception": false,
     "start_time": "2023-06-30T12:42:13.350281",
     "status": "completed"
    },
    "tags": []
   },
   "outputs": [],
   "source": [
    "from sklearn.metrics import f1_score\n",
    "f1 = f1_score(y_val, val_predictions, average='weighted')"
   ]
  },
  {
   "cell_type": "code",
   "execution_count": 53,
   "id": "a28e104a",
   "metadata": {
    "execution": {
     "iopub.execute_input": "2023-06-30T12:42:13.513553Z",
     "iopub.status.busy": "2023-06-30T12:42:13.512952Z",
     "iopub.status.idle": "2023-06-30T12:42:13.518586Z",
     "shell.execute_reply": "2023-06-30T12:42:13.517118Z"
    },
    "papermill": {
     "duration": 0.034072,
     "end_time": "2023-06-30T12:42:13.520439",
     "exception": false,
     "start_time": "2023-06-30T12:42:13.486367",
     "status": "completed"
    },
    "tags": []
   },
   "outputs": [
    {
     "name": "stdout",
     "output_type": "stream",
     "text": [
      "F1 Score: 0.9959112429631596\n"
     ]
    }
   ],
   "source": [
    "print(\"F1 Score:\", f1)"
   ]
  },
  {
   "cell_type": "code",
   "execution_count": 54,
   "id": "9b63f55e",
   "metadata": {
    "execution": {
     "iopub.execute_input": "2023-06-30T12:42:13.571372Z",
     "iopub.status.busy": "2023-06-30T12:42:13.570740Z",
     "iopub.status.idle": "2023-06-30T12:42:13.764658Z",
     "shell.execute_reply": "2023-06-30T12:42:13.763788Z"
    },
    "papermill": {
     "duration": 0.222252,
     "end_time": "2023-06-30T12:42:13.767177",
     "exception": false,
     "start_time": "2023-06-30T12:42:13.544925",
     "status": "completed"
    },
    "tags": []
   },
   "outputs": [],
   "source": [
    "X_test = df_test['text']\n",
    "X_test_vectorized = vectorizer.transform(X_test)"
   ]
  },
  {
   "cell_type": "code",
   "execution_count": 55,
   "id": "86c9de61",
   "metadata": {
    "execution": {
     "iopub.execute_input": "2023-06-30T12:42:13.820187Z",
     "iopub.status.busy": "2023-06-30T12:42:13.819210Z",
     "iopub.status.idle": "2023-06-30T12:42:13.826664Z",
     "shell.execute_reply": "2023-06-30T12:42:13.826016Z"
    },
    "papermill": {
     "duration": 0.03511,
     "end_time": "2023-06-30T12:42:13.828414",
     "exception": false,
     "start_time": "2023-06-30T12:42:13.793304",
     "status": "completed"
    },
    "tags": []
   },
   "outputs": [],
   "source": [
    "# Predict on the test set\n",
    "y_test_pred = classifier.predict(X_test_vectorized)"
   ]
  },
  {
   "cell_type": "code",
   "execution_count": 56,
   "id": "2b424726",
   "metadata": {
    "execution": {
     "iopub.execute_input": "2023-06-30T12:42:13.879339Z",
     "iopub.status.busy": "2023-06-30T12:42:13.878306Z",
     "iopub.status.idle": "2023-06-30T12:42:13.902344Z",
     "shell.execute_reply": "2023-06-30T12:42:13.901265Z"
    },
    "papermill": {
     "duration": 0.051603,
     "end_time": "2023-06-30T12:42:13.904568",
     "exception": false,
     "start_time": "2023-06-30T12:42:13.852965",
     "status": "completed"
    },
    "tags": []
   },
   "outputs": [],
   "source": [
    "submission_df = pd.DataFrame({'index': df_test.index, 'lang_id': y_test_pred})\n",
    "submission_df.to_csv('submission.csv', index=False)"
   ]
  },
  {
   "cell_type": "code",
   "execution_count": 57,
   "id": "fafad2db",
   "metadata": {
    "execution": {
     "iopub.execute_input": "2023-06-30T12:42:13.955026Z",
     "iopub.status.busy": "2023-06-30T12:42:13.953987Z",
     "iopub.status.idle": "2023-06-30T12:42:13.964590Z",
     "shell.execute_reply": "2023-06-30T12:42:13.963694Z"
    },
    "papermill": {
     "duration": 0.037898,
     "end_time": "2023-06-30T12:42:13.966502",
     "exception": false,
     "start_time": "2023-06-30T12:42:13.928604",
     "status": "completed"
    },
    "tags": []
   },
   "outputs": [
    {
     "data": {
      "text/html": [
       "<div>\n",
       "<style scoped>\n",
       "    .dataframe tbody tr th:only-of-type {\n",
       "        vertical-align: middle;\n",
       "    }\n",
       "\n",
       "    .dataframe tbody tr th {\n",
       "        vertical-align: top;\n",
       "    }\n",
       "\n",
       "    .dataframe thead th {\n",
       "        text-align: right;\n",
       "    }\n",
       "</style>\n",
       "<table border=\"1\" class=\"dataframe\">\n",
       "  <thead>\n",
       "    <tr style=\"text-align: right;\">\n",
       "      <th></th>\n",
       "      <th>index</th>\n",
       "      <th>lang_id</th>\n",
       "    </tr>\n",
       "  </thead>\n",
       "  <tbody>\n",
       "    <tr>\n",
       "      <th>0</th>\n",
       "      <td>0</td>\n",
       "      <td>tsn</td>\n",
       "    </tr>\n",
       "    <tr>\n",
       "      <th>1</th>\n",
       "      <td>1</td>\n",
       "      <td>nbl</td>\n",
       "    </tr>\n",
       "    <tr>\n",
       "      <th>2</th>\n",
       "      <td>2</td>\n",
       "      <td>ven</td>\n",
       "    </tr>\n",
       "    <tr>\n",
       "      <th>3</th>\n",
       "      <td>3</td>\n",
       "      <td>ssw</td>\n",
       "    </tr>\n",
       "    <tr>\n",
       "      <th>4</th>\n",
       "      <td>4</td>\n",
       "      <td>ssw</td>\n",
       "    </tr>\n",
       "    <tr>\n",
       "      <th>...</th>\n",
       "      <td>...</td>\n",
       "      <td>...</td>\n",
       "    </tr>\n",
       "    <tr>\n",
       "      <th>5677</th>\n",
       "      <td>5677</td>\n",
       "      <td>xho</td>\n",
       "    </tr>\n",
       "    <tr>\n",
       "      <th>5678</th>\n",
       "      <td>5678</td>\n",
       "      <td>nso</td>\n",
       "    </tr>\n",
       "    <tr>\n",
       "      <th>5679</th>\n",
       "      <td>5679</td>\n",
       "      <td>sot</td>\n",
       "    </tr>\n",
       "    <tr>\n",
       "      <th>5680</th>\n",
       "      <td>5680</td>\n",
       "      <td>sot</td>\n",
       "    </tr>\n",
       "    <tr>\n",
       "      <th>5681</th>\n",
       "      <td>5681</td>\n",
       "      <td>ssw</td>\n",
       "    </tr>\n",
       "  </tbody>\n",
       "</table>\n",
       "<p>5682 rows × 2 columns</p>\n",
       "</div>"
      ],
      "text/plain": [
       "      index lang_id\n",
       "0         0     tsn\n",
       "1         1     nbl\n",
       "2         2     ven\n",
       "3         3     ssw\n",
       "4         4     ssw\n",
       "...     ...     ...\n",
       "5677   5677     xho\n",
       "5678   5678     nso\n",
       "5679   5679     sot\n",
       "5680   5680     sot\n",
       "5681   5681     ssw\n",
       "\n",
       "[5682 rows x 2 columns]"
      ]
     },
     "execution_count": 57,
     "metadata": {},
     "output_type": "execute_result"
    }
   ],
   "source": [
    "submission_df"
   ]
  }
 ],
 "metadata": {
  "kernelspec": {
   "display_name": "Python 3",
   "language": "python",
   "name": "python3"
  },
  "language_info": {
   "codemirror_mode": {
    "name": "ipython",
    "version": 3
   },
   "file_extension": ".py",
   "mimetype": "text/x-python",
   "name": "python",
   "nbconvert_exporter": "python",
   "pygments_lexer": "ipython3",
   "version": "3.10.10"
  },
  "papermill": {
   "default_parameters": {},
   "duration": 88.921899,
   "end_time": "2023-06-30T12:42:15.013276",
   "environment_variables": {},
   "exception": null,
   "input_path": "__notebook__.ipynb",
   "output_path": "__notebook__.ipynb",
   "parameters": {},
   "start_time": "2023-06-30T12:40:46.091377",
   "version": "2.4.0"
  }
 },
 "nbformat": 4,
 "nbformat_minor": 5
}
