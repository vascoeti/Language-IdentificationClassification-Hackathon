{
 "cells": [
  {
   "cell_type": "code",
   "execution_count": 1,
   "id": "9530a2cc",
   "metadata": {
    "_cell_guid": "b1076dfc-b9ad-4769-8c92-a6c4dae69d19",
    "_uuid": "8f2839f25d086af736a60e9eeb907d3b93b6e0e5",
    "execution": {
     "iopub.execute_input": "2023-06-24T15:21:07.988448Z",
     "iopub.status.busy": "2023-06-24T15:21:07.988018Z",
     "iopub.status.idle": "2023-06-24T15:21:08.002473Z",
     "shell.execute_reply": "2023-06-24T15:21:08.001423Z"
    },
    "papermill": {
     "duration": 0.035235,
     "end_time": "2023-06-24T15:21:08.005333",
     "exception": false,
     "start_time": "2023-06-24T15:21:07.970098",
     "status": "completed"
    },
    "tags": []
   },
   "outputs": [
    {
     "name": "stdout",
     "output_type": "stream",
     "text": [
      "/kaggle/input/south-african-language-identification-hack-2023/sample_submission.csv\n",
      "/kaggle/input/south-african-language-identification-hack-2023/test_set.csv\n",
      "/kaggle/input/south-african-language-identification-hack-2023/train_set.csv\n"
     ]
    }
   ],
   "source": [
    "# This Python 3 environment comes with many helpful analytics libraries installed\n",
    "# It is defined by the kaggle/python Docker image: https://github.com/kaggle/docker-python\n",
    "# For example, here's several helpful packages to load\n",
    "\n",
    "import numpy as np # linear algebra\n",
    "import pandas as pd # data processing, CSV file I/O (e.g. pd.read_csv)\n",
    "\n",
    "# Input data files are available in the read-only \"../input/\" directory\n",
    "# For example, running this (by clicking run or pressing Shift+Enter) will list all files under the input directory\n",
    "\n",
    "import os\n",
    "for dirname, _, filenames in os.walk('/kaggle/input'):\n",
    "    for filename in filenames:\n",
    "        print(os.path.join(dirname, filename))\n",
    "\n",
    "# You can write up to 20GB to the current directory (/kaggle/working/) that gets preserved as output when you create a version using \"Save & Run All\" \n",
    "# You can also write temporary files to /kaggle/temp/, but they won't be saved outside of the current session"
   ]
  },
  {
   "cell_type": "markdown",
   "id": "f09a66b1",
   "metadata": {
    "papermill": {
     "duration": 0.013815,
     "end_time": "2023-06-24T15:21:08.033707",
     "exception": false,
     "start_time": "2023-06-24T15:21:08.019892",
     "status": "completed"
    },
    "tags": []
   },
   "source": [
    "# ****ExploreAI Academy Classification Hackathon****\n",
    "\n",
    "# ****Overview****\n"
   ]
  },
  {
   "cell_type": "markdown",
   "id": "884cac93",
   "metadata": {
    "papermill": {
     "duration": 0.013897,
     "end_time": "2023-06-24T15:21:08.062329",
     "exception": false,
     "start_time": "2023-06-24T15:21:08.048432",
     "status": "completed"
    },
    "tags": []
   },
   "source": [
    "South Africa is a multicultural society that is characterised by its rich linguistic diversity. Language is an indispensable tool that can be used to deepen democracy and also contribute to the social, cultural, intellectual, economic and political life of the South African society.\n",
    "\n",
    "The country is multilingual with 11 official languages, each of which is guaranteed equal status. Most South Africans are multilingual and able to speak at least two or more of the official languages.\n",
    "\n",
    "\n",
    "From <a href=\"https://www.gov.za/about-sa/south-africas-people\">South African Government<a>\n",
    "    \n",
    "<img src=\"https://www.googleapis.com/download/storage/v1/b/kaggle-user-content/o/inbox%2F2205222%2F7f34544c1b1f61d1a5949bddacfd84a9%2FSouth_Africa_languages_2011.jpg?generation=1604393669339034&alt=media\" alt=\"language\"/>"
   ]
  },
  {
   "cell_type": "markdown",
   "id": "2267ee11",
   "metadata": {
    "papermill": {
     "duration": 0.013995,
     "end_time": "2023-06-24T15:21:08.090105",
     "exception": false,
     "start_time": "2023-06-24T15:21:08.076110",
     "status": "completed"
    },
    "tags": []
   },
   "source": [
    "With such a multilingual population, it is only obvious that our systems and devices also communicate in multi-languages.\n",
    "\n",
    "In this challenge, you will take text which is in any of South Africa's 11 Official languages and identify which language the text is in. This is an example of NLP's Language Identification, the task of determining the natural language that a piece of text is written in.\n",
    "\n"
   ]
  },
  {
   "cell_type": "code",
   "execution_count": 2,
   "id": "2d6a6cdf",
   "metadata": {
    "execution": {
     "iopub.execute_input": "2023-06-24T15:21:08.119782Z",
     "iopub.status.busy": "2023-06-24T15:21:08.119106Z",
     "iopub.status.idle": "2023-06-24T15:21:08.484252Z",
     "shell.execute_reply": "2023-06-24T15:21:08.483095Z"
    },
    "papermill": {
     "duration": 0.383211,
     "end_time": "2023-06-24T15:21:08.487089",
     "exception": false,
     "start_time": "2023-06-24T15:21:08.103878",
     "status": "completed"
    },
    "tags": []
   },
   "outputs": [],
   "source": [
    "df_sample = pd.read_csv('/kaggle/input/south-african-language-identification-hack-2023/sample_submission.csv')\n",
    "df_train = pd.read_csv('/kaggle/input/south-african-language-identification-hack-2023/test_set.csv')\n",
    "df_test = pd.read_csv('/kaggle/input/south-african-language-identification-hack-2023/train_set.csv')"
   ]
  },
  {
   "cell_type": "markdown",
   "id": "50a042e4",
   "metadata": {
    "papermill": {
     "duration": 0.01405,
     "end_time": "2023-06-24T15:21:08.514913",
     "exception": false,
     "start_time": "2023-06-24T15:21:08.500863",
     "status": "completed"
    },
    "tags": []
   },
   "source": [
    "1. ****Data Exploration:**** Begin by understanding the provided datasets. You have three datasets: df_sample, df_train, and df_test. df_sample contains the sample submissions with index and the target language ID (lang_id). df_train contains the training data with index and the text in different languages. df_test contains the test data with text only. Familiarize yourself with the structure and content of these datasets.\n",
    "     \n",
    "2. ****Data Preprocessing:**** Clean and preprocess the text data. This step may include removing special characters, converting text to lowercase, and handling any language-specific preprocessing steps. Consider tokenization, stemming, or lemmatization techniques if necessary. It's important to ensure that the text data is in a suitable format for model training.\n",
    "3. ***Feature Extraction:*** Convert the text data into numerical features that can be used by machine learning algorithms. Common techniques for text classification include Bag-of-Words (BoW), TF-IDF (Term Frequency-Inverse Document Frequency), and word embeddings such as Word2Vec or GloVe. Choose a suitable method based on the nature of the problem and the available resources.\n",
    "4. **Model Training:** Select an appropriate machine learning algorithm or deep learning architecture to train on the preprocessed and feature-extracted data. Some popular models for text classification include Naive Bayes, Support Vector Machines (SVM), Random Forest, and deep learning models like Recurrent Neural Networks (RNN) or Transformer-based models such as BERT.\n",
    "5. **Model Evaluation:** Split the training data into training and validation sets to evaluate the performance of your model. Use the F1-score as the evaluation metric, which combines precision and recall. Adjust the model hyperparameters or experiment with different models to achieve better performance. Remember to avoid overfitting by monitoring the model's performance on the validation set.\n",
    "6. **Prediction and Submission:** Once you have trained and fine-tuned your model, use it to predict the language for the test data (df_test). Generate the submission file with the predicted language IDs for each index. The submission file should follow the specified format, with columns for index and lang_id.\n",
    "7. **Iterate and Improve:** If your initial model does not perform well, consider iterating on the previous steps. Experiment with different preprocessing techniques, feature extraction methods, or model architectures. Fine-tune hyperparameters, try ensemble techniques, or implement advanced methods to improve your model's performance."
   ]
  },
  {
   "cell_type": "code",
   "execution_count": 3,
   "id": "0c68718a",
   "metadata": {
    "execution": {
     "iopub.execute_input": "2023-06-24T15:21:08.545861Z",
     "iopub.status.busy": "2023-06-24T15:21:08.545317Z",
     "iopub.status.idle": "2023-06-24T15:21:10.517864Z",
     "shell.execute_reply": "2023-06-24T15:21:10.516881Z"
    },
    "papermill": {
     "duration": 1.991811,
     "end_time": "2023-06-24T15:21:10.520576",
     "exception": false,
     "start_time": "2023-06-24T15:21:08.528765",
     "status": "completed"
    },
    "tags": []
   },
   "outputs": [],
   "source": [
    "import sklearn\n",
    "\n",
    "from sklearn.preprocessing import LabelEncoder\n",
    "from sklearn.model_selection import GridSearchCV\n",
    "from sklearn.ensemble import RandomForestClassifier, AdaBoostClassifier, GradientBoostingClassifier\n",
    "from sklearn.feature_extraction.text import CountVectorizer\n",
    "from sklearn.feature_extraction.text import TfidfVectorizer\n",
    "from sklearn.feature_extraction.text import HashingVectorizer\n",
    "from sklearn.linear_model import Ridge\n",
    "from sklearn.model_selection import KFold\n",
    "from sklearn import linear_model\n",
    "from sklearn.model_selection import cross_val_score\n",
    "from sklearn.naive_bayes import MultinomialNB\n",
    "from sklearn.metrics import classification_report,confusion_matrix \n",
    "from sklearn.metrics import accuracy_score\n",
    "from sklearn.tree import DecisionTreeClassifier\n",
    "from sklearn.naive_bayes import MultinomialNB\n",
    "from sklearn.ensemble import RandomForestClassifier, AdaBoostClassifier, GradientBoostingClassifier\n",
    "from sklearn.tree import DecisionTreeClassifier\n",
    "from sklearn.naive_bayes import MultinomialNB\n",
    "from sklearn.model_selection import StratifiedKFold, cross_validate, train_test_split, cross_val_score, KFold\n",
    "from sklearn.preprocessing import StandardScaler, OneHotEncoder, LabelEncoder\n",
    "from sklearn.metrics import roc_curve, auc, classification_report, confusion_matrix, precision_score, recall_score,  accuracy_score, precision_recall_curve\n",
    "from sklearn.model_selection import train_test_split\n",
    "from sklearn.neighbors import KNeighborsClassifier\n",
    "from sklearn.model_selection import StratifiedKFold, cross_validate, train_test_split, cross_val_score, KFold\n",
    "from sklearn.preprocessing import StandardScaler, OneHotEncoder, LabelEncoder\n",
    "from sklearn.metrics import roc_curve, auc, classification_report, confusion_matrix, precision_score, recall_score,  accuracy_score, precision_recall_curve"
   ]
  },
  {
   "cell_type": "code",
   "execution_count": 4,
   "id": "f7217985",
   "metadata": {
    "execution": {
     "iopub.execute_input": "2023-06-24T15:21:10.551282Z",
     "iopub.status.busy": "2023-06-24T15:21:10.550844Z",
     "iopub.status.idle": "2023-06-24T15:21:11.082713Z",
     "shell.execute_reply": "2023-06-24T15:21:11.081580Z"
    },
    "papermill": {
     "duration": 0.551085,
     "end_time": "2023-06-24T15:21:11.085569",
     "exception": false,
     "start_time": "2023-06-24T15:21:10.534484",
     "status": "completed"
    },
    "tags": []
   },
   "outputs": [],
   "source": [
    "import nltk\n",
    "from nltk.stem.porter import PorterStemmer\n",
    "from nltk.tokenize import TweetTokenizer\n",
    "from nltk.tokenize import word_tokenize \n",
    "from nltk.tokenize import word_tokenize\n",
    "from nltk.stem import WordNetLemmatizer\n",
    "from nltk.tokenize import sent_tokenize\n",
    "from nltk.corpus import stopwords"
   ]
  },
  {
   "cell_type": "code",
   "execution_count": 5,
   "id": "6fad38e5",
   "metadata": {
    "execution": {
     "iopub.execute_input": "2023-06-24T15:21:11.115585Z",
     "iopub.status.busy": "2023-06-24T15:21:11.115201Z",
     "iopub.status.idle": "2023-06-24T15:21:11.501319Z",
     "shell.execute_reply": "2023-06-24T15:21:11.500123Z"
    },
    "papermill": {
     "duration": 0.404394,
     "end_time": "2023-06-24T15:21:11.504119",
     "exception": false,
     "start_time": "2023-06-24T15:21:11.099725",
     "status": "completed"
    },
    "tags": []
   },
   "outputs": [],
   "source": [
    "from PIL import Image\n",
    "from wordcloud import WordCloud, STOPWORDS, ImageColorGenerator\n",
    "import seaborn as sns\n",
    "import matplotlib.pyplot as plt\n",
    "\n",
    "import scipy\n",
    "\n",
    "import warnings\n",
    "warnings.filterwarnings('ignore')\n",
    "\n",
    "import re\n",
    "from collections import Counter"
   ]
  },
  {
   "cell_type": "code",
   "execution_count": 6,
   "id": "a91a3c7f",
   "metadata": {
    "execution": {
     "iopub.execute_input": "2023-06-24T15:21:11.534926Z",
     "iopub.status.busy": "2023-06-24T15:21:11.534483Z",
     "iopub.status.idle": "2023-06-24T15:21:11.565561Z",
     "shell.execute_reply": "2023-06-24T15:21:11.563663Z"
    },
    "papermill": {
     "duration": 0.050624,
     "end_time": "2023-06-24T15:21:11.568572",
     "exception": false,
     "start_time": "2023-06-24T15:21:11.517948",
     "status": "completed"
    },
    "tags": []
   },
   "outputs": [
    {
     "data": {
      "text/html": [
       "<div>\n",
       "<style scoped>\n",
       "    .dataframe tbody tr th:only-of-type {\n",
       "        vertical-align: middle;\n",
       "    }\n",
       "\n",
       "    .dataframe tbody tr th {\n",
       "        vertical-align: top;\n",
       "    }\n",
       "\n",
       "    .dataframe thead th {\n",
       "        text-align: right;\n",
       "    }\n",
       "</style>\n",
       "<table border=\"1\" class=\"dataframe\">\n",
       "  <thead>\n",
       "    <tr style=\"text-align: right;\">\n",
       "      <th></th>\n",
       "      <th>index</th>\n",
       "      <th>lang_id</th>\n",
       "    </tr>\n",
       "  </thead>\n",
       "  <tbody>\n",
       "    <tr>\n",
       "      <th>0</th>\n",
       "      <td>1</td>\n",
       "      <td>tsn</td>\n",
       "    </tr>\n",
       "    <tr>\n",
       "      <th>1</th>\n",
       "      <td>2</td>\n",
       "      <td>nbl</td>\n",
       "    </tr>\n",
       "  </tbody>\n",
       "</table>\n",
       "</div>"
      ],
      "text/plain": [
       "   index lang_id\n",
       "0      1     tsn\n",
       "1      2     nbl"
      ]
     },
     "execution_count": 6,
     "metadata": {},
     "output_type": "execute_result"
    }
   ],
   "source": [
    "df_sample.head()"
   ]
  },
  {
   "cell_type": "code",
   "execution_count": 7,
   "id": "be21f9ff",
   "metadata": {
    "execution": {
     "iopub.execute_input": "2023-06-24T15:21:11.602347Z",
     "iopub.status.busy": "2023-06-24T15:21:11.601918Z",
     "iopub.status.idle": "2023-06-24T15:21:11.612910Z",
     "shell.execute_reply": "2023-06-24T15:21:11.611667Z"
    },
    "papermill": {
     "duration": 0.029626,
     "end_time": "2023-06-24T15:21:11.615350",
     "exception": false,
     "start_time": "2023-06-24T15:21:11.585724",
     "status": "completed"
    },
    "tags": []
   },
   "outputs": [
    {
     "data": {
      "text/html": [
       "<div>\n",
       "<style scoped>\n",
       "    .dataframe tbody tr th:only-of-type {\n",
       "        vertical-align: middle;\n",
       "    }\n",
       "\n",
       "    .dataframe tbody tr th {\n",
       "        vertical-align: top;\n",
       "    }\n",
       "\n",
       "    .dataframe thead th {\n",
       "        text-align: right;\n",
       "    }\n",
       "</style>\n",
       "<table border=\"1\" class=\"dataframe\">\n",
       "  <thead>\n",
       "    <tr style=\"text-align: right;\">\n",
       "      <th></th>\n",
       "      <th>index</th>\n",
       "      <th>text</th>\n",
       "    </tr>\n",
       "  </thead>\n",
       "  <tbody>\n",
       "    <tr>\n",
       "      <th>0</th>\n",
       "      <td>1</td>\n",
       "      <td>Mmasepala, fa maemo a a kgethegileng a letlele...</td>\n",
       "    </tr>\n",
       "    <tr>\n",
       "      <th>1</th>\n",
       "      <td>2</td>\n",
       "      <td>Uzakwaziswa ngokufaneleko nakungafuneka eminye...</td>\n",
       "    </tr>\n",
       "    <tr>\n",
       "      <th>2</th>\n",
       "      <td>3</td>\n",
       "      <td>Tshivhumbeo tshi fana na ngano dza vhathu.</td>\n",
       "    </tr>\n",
       "    <tr>\n",
       "      <th>3</th>\n",
       "      <td>4</td>\n",
       "      <td>Kube inja nelikati betingevakala kutsi titsini...</td>\n",
       "    </tr>\n",
       "    <tr>\n",
       "      <th>4</th>\n",
       "      <td>5</td>\n",
       "      <td>Winste op buitelandse valuta.</td>\n",
       "    </tr>\n",
       "  </tbody>\n",
       "</table>\n",
       "</div>"
      ],
      "text/plain": [
       "   index                                               text\n",
       "0      1  Mmasepala, fa maemo a a kgethegileng a letlele...\n",
       "1      2  Uzakwaziswa ngokufaneleko nakungafuneka eminye...\n",
       "2      3         Tshivhumbeo tshi fana na ngano dza vhathu.\n",
       "3      4  Kube inja nelikati betingevakala kutsi titsini...\n",
       "4      5                      Winste op buitelandse valuta."
      ]
     },
     "execution_count": 7,
     "metadata": {},
     "output_type": "execute_result"
    }
   ],
   "source": [
    "df_train.head()"
   ]
  },
  {
   "cell_type": "code",
   "execution_count": 8,
   "id": "7b671a2a",
   "metadata": {
    "execution": {
     "iopub.execute_input": "2023-06-24T15:21:11.648927Z",
     "iopub.status.busy": "2023-06-24T15:21:11.648500Z",
     "iopub.status.idle": "2023-06-24T15:21:11.659303Z",
     "shell.execute_reply": "2023-06-24T15:21:11.658240Z"
    },
    "papermill": {
     "duration": 0.029854,
     "end_time": "2023-06-24T15:21:11.661559",
     "exception": false,
     "start_time": "2023-06-24T15:21:11.631705",
     "status": "completed"
    },
    "tags": []
   },
   "outputs": [
    {
     "data": {
      "text/html": [
       "<div>\n",
       "<style scoped>\n",
       "    .dataframe tbody tr th:only-of-type {\n",
       "        vertical-align: middle;\n",
       "    }\n",
       "\n",
       "    .dataframe tbody tr th {\n",
       "        vertical-align: top;\n",
       "    }\n",
       "\n",
       "    .dataframe thead th {\n",
       "        text-align: right;\n",
       "    }\n",
       "</style>\n",
       "<table border=\"1\" class=\"dataframe\">\n",
       "  <thead>\n",
       "    <tr style=\"text-align: right;\">\n",
       "      <th></th>\n",
       "      <th>lang_id</th>\n",
       "      <th>text</th>\n",
       "    </tr>\n",
       "  </thead>\n",
       "  <tbody>\n",
       "    <tr>\n",
       "      <th>0</th>\n",
       "      <td>xho</td>\n",
       "      <td>umgaqo-siseko wenza amalungiselelo kumaziko ax...</td>\n",
       "    </tr>\n",
       "    <tr>\n",
       "      <th>1</th>\n",
       "      <td>xho</td>\n",
       "      <td>i-dha iya kuba nobulumko bokubeka umsebenzi na...</td>\n",
       "    </tr>\n",
       "    <tr>\n",
       "      <th>2</th>\n",
       "      <td>eng</td>\n",
       "      <td>the province of kwazulu-natal department of tr...</td>\n",
       "    </tr>\n",
       "    <tr>\n",
       "      <th>3</th>\n",
       "      <td>nso</td>\n",
       "      <td>o netefatša gore o ba file dilo ka moka tše le...</td>\n",
       "    </tr>\n",
       "    <tr>\n",
       "      <th>4</th>\n",
       "      <td>ven</td>\n",
       "      <td>khomishini ya ndinganyiso ya mbeu yo ewa maana...</td>\n",
       "    </tr>\n",
       "  </tbody>\n",
       "</table>\n",
       "</div>"
      ],
      "text/plain": [
       "  lang_id                                               text\n",
       "0     xho  umgaqo-siseko wenza amalungiselelo kumaziko ax...\n",
       "1     xho  i-dha iya kuba nobulumko bokubeka umsebenzi na...\n",
       "2     eng  the province of kwazulu-natal department of tr...\n",
       "3     nso  o netefatša gore o ba file dilo ka moka tše le...\n",
       "4     ven  khomishini ya ndinganyiso ya mbeu yo ewa maana..."
      ]
     },
     "execution_count": 8,
     "metadata": {},
     "output_type": "execute_result"
    }
   ],
   "source": [
    "df_test.head()"
   ]
  },
  {
   "cell_type": "markdown",
   "id": "36bf8eaf",
   "metadata": {
    "papermill": {
     "duration": 0.014293,
     "end_time": "2023-06-24T15:21:11.690365",
     "exception": false,
     "start_time": "2023-06-24T15:21:11.676072",
     "status": "completed"
    },
    "tags": []
   },
   "source": [
    "**getting all Data together.**"
   ]
  },
  {
   "cell_type": "code",
   "execution_count": 9,
   "id": "065e0544",
   "metadata": {
    "execution": {
     "iopub.execute_input": "2023-06-24T15:21:11.720973Z",
     "iopub.status.busy": "2023-06-24T15:21:11.720578Z",
     "iopub.status.idle": "2023-06-24T15:21:11.731971Z",
     "shell.execute_reply": "2023-06-24T15:21:11.731066Z"
    },
    "papermill": {
     "duration": 0.029962,
     "end_time": "2023-06-24T15:21:11.734733",
     "exception": false,
     "start_time": "2023-06-24T15:21:11.704771",
     "status": "completed"
    },
    "tags": []
   },
   "outputs": [],
   "source": [
    "df = df_train.append(df_test, sort= False)"
   ]
  },
  {
   "cell_type": "code",
   "execution_count": 10,
   "id": "0a43c5d4",
   "metadata": {
    "execution": {
     "iopub.execute_input": "2023-06-24T15:21:11.766007Z",
     "iopub.status.busy": "2023-06-24T15:21:11.765575Z",
     "iopub.status.idle": "2023-06-24T15:21:11.781450Z",
     "shell.execute_reply": "2023-06-24T15:21:11.780341Z"
    },
    "papermill": {
     "duration": 0.0347,
     "end_time": "2023-06-24T15:21:11.783990",
     "exception": false,
     "start_time": "2023-06-24T15:21:11.749290",
     "status": "completed"
    },
    "tags": []
   },
   "outputs": [
    {
     "data": {
      "text/html": [
       "<div>\n",
       "<style scoped>\n",
       "    .dataframe tbody tr th:only-of-type {\n",
       "        vertical-align: middle;\n",
       "    }\n",
       "\n",
       "    .dataframe tbody tr th {\n",
       "        vertical-align: top;\n",
       "    }\n",
       "\n",
       "    .dataframe thead th {\n",
       "        text-align: right;\n",
       "    }\n",
       "</style>\n",
       "<table border=\"1\" class=\"dataframe\">\n",
       "  <thead>\n",
       "    <tr style=\"text-align: right;\">\n",
       "      <th></th>\n",
       "      <th>index</th>\n",
       "      <th>text</th>\n",
       "      <th>lang_id</th>\n",
       "    </tr>\n",
       "  </thead>\n",
       "  <tbody>\n",
       "    <tr>\n",
       "      <th>0</th>\n",
       "      <td>1.0</td>\n",
       "      <td>Mmasepala, fa maemo a a kgethegileng a letlele...</td>\n",
       "      <td>NaN</td>\n",
       "    </tr>\n",
       "    <tr>\n",
       "      <th>1</th>\n",
       "      <td>2.0</td>\n",
       "      <td>Uzakwaziswa ngokufaneleko nakungafuneka eminye...</td>\n",
       "      <td>NaN</td>\n",
       "    </tr>\n",
       "    <tr>\n",
       "      <th>2</th>\n",
       "      <td>3.0</td>\n",
       "      <td>Tshivhumbeo tshi fana na ngano dza vhathu.</td>\n",
       "      <td>NaN</td>\n",
       "    </tr>\n",
       "    <tr>\n",
       "      <th>3</th>\n",
       "      <td>4.0</td>\n",
       "      <td>Kube inja nelikati betingevakala kutsi titsini...</td>\n",
       "      <td>NaN</td>\n",
       "    </tr>\n",
       "    <tr>\n",
       "      <th>4</th>\n",
       "      <td>5.0</td>\n",
       "      <td>Winste op buitelandse valuta.</td>\n",
       "      <td>NaN</td>\n",
       "    </tr>\n",
       "    <tr>\n",
       "      <th>...</th>\n",
       "      <td>...</td>\n",
       "      <td>...</td>\n",
       "      <td>...</td>\n",
       "    </tr>\n",
       "    <tr>\n",
       "      <th>32995</th>\n",
       "      <td>NaN</td>\n",
       "      <td>popo ya dipolateforomo tse ke go tlisa boetele...</td>\n",
       "      <td>tsn</td>\n",
       "    </tr>\n",
       "    <tr>\n",
       "      <th>32996</th>\n",
       "      <td>NaN</td>\n",
       "      <td>modise mosadi na o ntse o sa utlwe hore thaban...</td>\n",
       "      <td>sot</td>\n",
       "    </tr>\n",
       "    <tr>\n",
       "      <th>32997</th>\n",
       "      <td>NaN</td>\n",
       "      <td>closing date for the submission of completed t...</td>\n",
       "      <td>eng</td>\n",
       "    </tr>\n",
       "    <tr>\n",
       "      <th>32998</th>\n",
       "      <td>NaN</td>\n",
       "      <td>nawuphina umntu ofunyenwe enetyala phantsi kwa...</td>\n",
       "      <td>xho</td>\n",
       "    </tr>\n",
       "    <tr>\n",
       "      <th>32999</th>\n",
       "      <td>NaN</td>\n",
       "      <td>mafapha a mang le ona a lokela ho etsa ditlale...</td>\n",
       "      <td>sot</td>\n",
       "    </tr>\n",
       "  </tbody>\n",
       "</table>\n",
       "<p>38682 rows × 3 columns</p>\n",
       "</div>"
      ],
      "text/plain": [
       "       index                                               text lang_id\n",
       "0        1.0  Mmasepala, fa maemo a a kgethegileng a letlele...     NaN\n",
       "1        2.0  Uzakwaziswa ngokufaneleko nakungafuneka eminye...     NaN\n",
       "2        3.0         Tshivhumbeo tshi fana na ngano dza vhathu.     NaN\n",
       "3        4.0  Kube inja nelikati betingevakala kutsi titsini...     NaN\n",
       "4        5.0                      Winste op buitelandse valuta.     NaN\n",
       "...      ...                                                ...     ...\n",
       "32995    NaN  popo ya dipolateforomo tse ke go tlisa boetele...     tsn\n",
       "32996    NaN  modise mosadi na o ntse o sa utlwe hore thaban...     sot\n",
       "32997    NaN  closing date for the submission of completed t...     eng\n",
       "32998    NaN  nawuphina umntu ofunyenwe enetyala phantsi kwa...     xho\n",
       "32999    NaN  mafapha a mang le ona a lokela ho etsa ditlale...     sot\n",
       "\n",
       "[38682 rows x 3 columns]"
      ]
     },
     "execution_count": 10,
     "metadata": {},
     "output_type": "execute_result"
    }
   ],
   "source": [
    "df"
   ]
  },
  {
   "cell_type": "code",
   "execution_count": 11,
   "id": "932a3006",
   "metadata": {
    "execution": {
     "iopub.execute_input": "2023-06-24T15:21:11.817184Z",
     "iopub.status.busy": "2023-06-24T15:21:11.816726Z",
     "iopub.status.idle": "2023-06-24T15:21:11.841909Z",
     "shell.execute_reply": "2023-06-24T15:21:11.840683Z"
    },
    "papermill": {
     "duration": 0.04528,
     "end_time": "2023-06-24T15:21:11.844637",
     "exception": false,
     "start_time": "2023-06-24T15:21:11.799357",
     "status": "completed"
    },
    "tags": []
   },
   "outputs": [
    {
     "data": {
      "text/html": [
       "<div>\n",
       "<style scoped>\n",
       "    .dataframe tbody tr th:only-of-type {\n",
       "        vertical-align: middle;\n",
       "    }\n",
       "\n",
       "    .dataframe tbody tr th {\n",
       "        vertical-align: top;\n",
       "    }\n",
       "\n",
       "    .dataframe thead th {\n",
       "        text-align: right;\n",
       "    }\n",
       "</style>\n",
       "<table border=\"1\" class=\"dataframe\">\n",
       "  <thead>\n",
       "    <tr style=\"text-align: right;\">\n",
       "      <th></th>\n",
       "      <th>index</th>\n",
       "    </tr>\n",
       "  </thead>\n",
       "  <tbody>\n",
       "    <tr>\n",
       "      <th>count</th>\n",
       "      <td>5682.000000</td>\n",
       "    </tr>\n",
       "    <tr>\n",
       "      <th>mean</th>\n",
       "      <td>2841.500000</td>\n",
       "    </tr>\n",
       "    <tr>\n",
       "      <th>std</th>\n",
       "      <td>1640.396446</td>\n",
       "    </tr>\n",
       "    <tr>\n",
       "      <th>min</th>\n",
       "      <td>1.000000</td>\n",
       "    </tr>\n",
       "    <tr>\n",
       "      <th>25%</th>\n",
       "      <td>1421.250000</td>\n",
       "    </tr>\n",
       "    <tr>\n",
       "      <th>50%</th>\n",
       "      <td>2841.500000</td>\n",
       "    </tr>\n",
       "    <tr>\n",
       "      <th>75%</th>\n",
       "      <td>4261.750000</td>\n",
       "    </tr>\n",
       "    <tr>\n",
       "      <th>max</th>\n",
       "      <td>5682.000000</td>\n",
       "    </tr>\n",
       "  </tbody>\n",
       "</table>\n",
       "</div>"
      ],
      "text/plain": [
       "             index\n",
       "count  5682.000000\n",
       "mean   2841.500000\n",
       "std    1640.396446\n",
       "min       1.000000\n",
       "25%    1421.250000\n",
       "50%    2841.500000\n",
       "75%    4261.750000\n",
       "max    5682.000000"
      ]
     },
     "execution_count": 11,
     "metadata": {},
     "output_type": "execute_result"
    }
   ],
   "source": [
    "df.describe()"
   ]
  },
  {
   "cell_type": "markdown",
   "id": "6032a8bc",
   "metadata": {
    "papermill": {
     "duration": 0.014546,
     "end_time": "2023-06-24T15:21:11.874512",
     "exception": false,
     "start_time": "2023-06-24T15:21:11.859966",
     "status": "completed"
    },
    "tags": []
   },
   "source": [
    "**remove dublicated rows**"
   ]
  },
  {
   "cell_type": "code",
   "execution_count": 12,
   "id": "9cd3f1ac",
   "metadata": {
    "execution": {
     "iopub.execute_input": "2023-06-24T15:21:11.906195Z",
     "iopub.status.busy": "2023-06-24T15:21:11.905728Z",
     "iopub.status.idle": "2023-06-24T15:21:11.968965Z",
     "shell.execute_reply": "2023-06-24T15:21:11.967688Z"
    },
    "papermill": {
     "duration": 0.082695,
     "end_time": "2023-06-24T15:21:11.972075",
     "exception": false,
     "start_time": "2023-06-24T15:21:11.889380",
     "status": "completed"
    },
    "tags": []
   },
   "outputs": [
    {
     "name": "stdout",
     "output_type": "stream",
     "text": [
      "      index                                               text lang_id\n",
      "940     NaN  xa umntu lowo ephuma kule ndawo yihlola-hlolen...     xho\n",
      "1208    NaN  ngokwesekhtjheni yomthetho ophathelene nalokhu...     nbl\n",
      "1252    NaN  kwabelana ngemininingwane enhlanganweni kutakw...     ssw\n",
      "1304    NaN  umntu ocela ukukhuselwa ngumbuso ngumntu obale...     xho\n",
      "1460    NaN  kha vha ḓivhe hezwi a vha nga ḓo ita ndingo ya...     ven\n"
     ]
    }
   ],
   "source": [
    "duplicatedRow = df[df.duplicated()]\n",
    "print(duplicatedRow[:5])"
   ]
  },
  {
   "cell_type": "code",
   "execution_count": 13,
   "id": "e2cd9963",
   "metadata": {
    "execution": {
     "iopub.execute_input": "2023-06-24T15:21:12.005586Z",
     "iopub.status.busy": "2023-06-24T15:21:12.004694Z",
     "iopub.status.idle": "2023-06-24T15:21:12.012052Z",
     "shell.execute_reply": "2023-06-24T15:21:12.011059Z"
    },
    "papermill": {
     "duration": 0.026744,
     "end_time": "2023-06-24T15:21:12.014380",
     "exception": false,
     "start_time": "2023-06-24T15:21:11.987636",
     "status": "completed"
    },
    "tags": []
   },
   "outputs": [
    {
     "data": {
      "text/plain": [
       "(38682, 3)"
      ]
     },
     "execution_count": 13,
     "metadata": {},
     "output_type": "execute_result"
    }
   ],
   "source": [
    "df.shape"
   ]
  },
  {
   "cell_type": "code",
   "execution_count": 14,
   "id": "f046cd58",
   "metadata": {
    "execution": {
     "iopub.execute_input": "2023-06-24T15:21:12.047010Z",
     "iopub.status.busy": "2023-06-24T15:21:12.046609Z",
     "iopub.status.idle": "2023-06-24T15:21:12.094191Z",
     "shell.execute_reply": "2023-06-24T15:21:12.093044Z"
    },
    "papermill": {
     "duration": 0.067138,
     "end_time": "2023-06-24T15:21:12.096802",
     "exception": false,
     "start_time": "2023-06-24T15:21:12.029664",
     "status": "completed"
    },
    "tags": []
   },
   "outputs": [
    {
     "name": "stdout",
     "output_type": "stream",
     "text": [
      "<class 'pandas.core.frame.DataFrame'>\n",
      "Int64Index: 38682 entries, 0 to 32999\n",
      "Data columns (total 3 columns):\n",
      " #   Column   Non-Null Count  Dtype  \n",
      "---  ------   --------------  -----  \n",
      " 0   index    5682 non-null   float64\n",
      " 1   text     38682 non-null  object \n",
      " 2   lang_id  33000 non-null  object \n",
      "dtypes: float64(1), object(2)\n",
      "memory usage: 1.2+ MB\n"
     ]
    }
   ],
   "source": [
    "df.info()"
   ]
  },
  {
   "cell_type": "code",
   "execution_count": 15,
   "id": "971838ce",
   "metadata": {
    "execution": {
     "iopub.execute_input": "2023-06-24T15:21:12.132707Z",
     "iopub.status.busy": "2023-06-24T15:21:12.131441Z",
     "iopub.status.idle": "2023-06-24T15:21:12.145332Z",
     "shell.execute_reply": "2023-06-24T15:21:12.144159Z"
    },
    "papermill": {
     "duration": 0.035333,
     "end_time": "2023-06-24T15:21:12.148096",
     "exception": false,
     "start_time": "2023-06-24T15:21:12.112763",
     "status": "completed"
    },
    "tags": []
   },
   "outputs": [
    {
     "data": {
      "text/plain": [
       "index    0\n",
       "text     0\n",
       "dtype: int64"
      ]
     },
     "metadata": {},
     "output_type": "display_data"
    }
   ],
   "source": [
    "display(df_train.isnull().sum().sort_values(ascending=False))"
   ]
  },
  {
   "cell_type": "markdown",
   "id": "109e83b9",
   "metadata": {
    "papermill": {
     "duration": 0.015676,
     "end_time": "2023-06-24T15:21:12.179959",
     "exception": false,
     "start_time": "2023-06-24T15:21:12.164283",
     "status": "completed"
    },
    "tags": []
   },
   "source": [
    "**filling missing values**"
   ]
  },
  {
   "cell_type": "code",
   "execution_count": 16,
   "id": "ba24d69d",
   "metadata": {
    "execution": {
     "iopub.execute_input": "2023-06-24T15:21:12.214789Z",
     "iopub.status.busy": "2023-06-24T15:21:12.213886Z",
     "iopub.status.idle": "2023-06-24T15:21:12.225857Z",
     "shell.execute_reply": "2023-06-24T15:21:12.224442Z"
    },
    "papermill": {
     "duration": 0.032741,
     "end_time": "2023-06-24T15:21:12.228708",
     "exception": false,
     "start_time": "2023-06-24T15:21:12.195967",
     "status": "completed"
    },
    "tags": []
   },
   "outputs": [],
   "source": [
    "df['lang_id'].fillna(value='unknown', inplace=True)"
   ]
  },
  {
   "cell_type": "code",
   "execution_count": 17,
   "id": "291f04b2",
   "metadata": {
    "execution": {
     "iopub.execute_input": "2023-06-24T15:21:12.262749Z",
     "iopub.status.busy": "2023-06-24T15:21:12.262110Z",
     "iopub.status.idle": "2023-06-24T15:21:12.276921Z",
     "shell.execute_reply": "2023-06-24T15:21:12.275966Z"
    },
    "papermill": {
     "duration": 0.034584,
     "end_time": "2023-06-24T15:21:12.279669",
     "exception": false,
     "start_time": "2023-06-24T15:21:12.245085",
     "status": "completed"
    },
    "tags": []
   },
   "outputs": [
    {
     "data": {
      "text/html": [
       "<div>\n",
       "<style scoped>\n",
       "    .dataframe tbody tr th:only-of-type {\n",
       "        vertical-align: middle;\n",
       "    }\n",
       "\n",
       "    .dataframe tbody tr th {\n",
       "        vertical-align: top;\n",
       "    }\n",
       "\n",
       "    .dataframe thead th {\n",
       "        text-align: right;\n",
       "    }\n",
       "</style>\n",
       "<table border=\"1\" class=\"dataframe\">\n",
       "  <thead>\n",
       "    <tr style=\"text-align: right;\">\n",
       "      <th></th>\n",
       "      <th>index</th>\n",
       "      <th>text</th>\n",
       "      <th>lang_id</th>\n",
       "      <th>CleanText</th>\n",
       "    </tr>\n",
       "  </thead>\n",
       "  <tbody>\n",
       "    <tr>\n",
       "      <th>0</th>\n",
       "      <td>1.0</td>\n",
       "      <td>Mmasepala, fa maemo a a kgethegileng a letlele...</td>\n",
       "      <td>unknown</td>\n",
       "      <td>Mmasepala, fa maemo a a kgethegileng a letlele...</td>\n",
       "    </tr>\n",
       "    <tr>\n",
       "      <th>1</th>\n",
       "      <td>2.0</td>\n",
       "      <td>Uzakwaziswa ngokufaneleko nakungafuneka eminye...</td>\n",
       "      <td>unknown</td>\n",
       "      <td>Uzakwaziswa ngokufaneleko nakungafuneka eminye...</td>\n",
       "    </tr>\n",
       "    <tr>\n",
       "      <th>2</th>\n",
       "      <td>3.0</td>\n",
       "      <td>Tshivhumbeo tshi fana na ngano dza vhathu.</td>\n",
       "      <td>unknown</td>\n",
       "      <td>Tshivhumbeo tshi fana na ngano dza vhathu.</td>\n",
       "    </tr>\n",
       "    <tr>\n",
       "      <th>3</th>\n",
       "      <td>4.0</td>\n",
       "      <td>Kube inja nelikati betingevakala kutsi titsini...</td>\n",
       "      <td>unknown</td>\n",
       "      <td>Kube inja nelikati betingevakala kutsi titsini...</td>\n",
       "    </tr>\n",
       "    <tr>\n",
       "      <th>4</th>\n",
       "      <td>5.0</td>\n",
       "      <td>Winste op buitelandse valuta.</td>\n",
       "      <td>unknown</td>\n",
       "      <td>Winste op buitelandse valuta.</td>\n",
       "    </tr>\n",
       "  </tbody>\n",
       "</table>\n",
       "</div>"
      ],
      "text/plain": [
       "   index                                               text  lang_id  \\\n",
       "0    1.0  Mmasepala, fa maemo a a kgethegileng a letlele...  unknown   \n",
       "1    2.0  Uzakwaziswa ngokufaneleko nakungafuneka eminye...  unknown   \n",
       "2    3.0         Tshivhumbeo tshi fana na ngano dza vhathu.  unknown   \n",
       "3    4.0  Kube inja nelikati betingevakala kutsi titsini...  unknown   \n",
       "4    5.0                      Winste op buitelandse valuta.  unknown   \n",
       "\n",
       "                                           CleanText  \n",
       "0  Mmasepala, fa maemo a a kgethegileng a letlele...  \n",
       "1  Uzakwaziswa ngokufaneleko nakungafuneka eminye...  \n",
       "2         Tshivhumbeo tshi fana na ngano dza vhathu.  \n",
       "3  Kube inja nelikati betingevakala kutsi titsini...  \n",
       "4                      Winste op buitelandse valuta.  "
      ]
     },
     "metadata": {},
     "output_type": "display_data"
    }
   ],
   "source": [
    "df['CleanText'] = df['text'].copy()\n",
    "display(df.head(5))"
   ]
  },
  {
   "cell_type": "code",
   "execution_count": 18,
   "id": "350a44a4",
   "metadata": {
    "execution": {
     "iopub.execute_input": "2023-06-24T15:21:12.316815Z",
     "iopub.status.busy": "2023-06-24T15:21:12.316405Z",
     "iopub.status.idle": "2023-06-24T15:21:12.677210Z",
     "shell.execute_reply": "2023-06-24T15:21:12.676263Z"
    },
    "papermill": {
     "duration": 0.383302,
     "end_time": "2023-06-24T15:21:12.679911",
     "exception": false,
     "start_time": "2023-06-24T15:21:12.296609",
     "status": "completed"
    },
    "tags": []
   },
   "outputs": [
    {
     "data": {
      "text/plain": [
       "<Axes: >"
      ]
     },
     "execution_count": 18,
     "metadata": {},
     "output_type": "execute_result"
    },
    {
     "data": {
      "image/png": "[encoded data removed]",
      "text/plain": [
       "<Figure size 900x900 with 2 Axes>"
      ]
     },
     "metadata": {},
     "output_type": "display_data"
    }
   ],
   "source": [
    "words = df.corr()\n",
    "plt.figure(figsize=(9,9))\n",
    "sns.heatmap(words, linewidth=.5, annot=True, fmt=\".2f\", annot_kws={\"size\":10}, cmap=\"viridis\", vmin =0, vmax=1)"
   ]
  },
  {
   "cell_type": "markdown",
   "id": "9a3d1f0d",
   "metadata": {
    "papermill": {
     "duration": 0.015858,
     "end_time": "2023-06-24T15:21:12.712806",
     "exception": false,
     "start_time": "2023-06-24T15:21:12.696948",
     "status": "completed"
    },
    "tags": []
   },
   "source": [
    "# **Text Cleaining**"
   ]
  },
  {
   "cell_type": "code",
   "execution_count": 19,
   "id": "f89e3779",
   "metadata": {
    "execution": {
     "iopub.execute_input": "2023-06-24T15:21:12.747426Z",
     "iopub.status.busy": "2023-06-24T15:21:12.746811Z",
     "iopub.status.idle": "2023-06-24T15:21:12.755326Z",
     "shell.execute_reply": "2023-06-24T15:21:12.754129Z"
    },
    "papermill": {
     "duration": 0.02918,
     "end_time": "2023-06-24T15:21:12.758332",
     "exception": false,
     "start_time": "2023-06-24T15:21:12.729152",
     "status": "completed"
    },
    "tags": []
   },
   "outputs": [],
   "source": [
    "def before_lowercase(languages):\n",
    "    \n",
    "    languages = re.sub(r\" xho\", \" Isixhosa\", languages)\n",
    "    languages = re.sub(r\" nbl\", \" Ndebele\", languages)\n",
    "    languages = re.sub(r\" ssw\", \" Swati\", languages)\n",
    "    languages = re.sub(r\" ven\", \" Venda\", languages)\n",
    "    languages = re.sub(r\" sot\", \" Sotho\", languages)\n",
    "    languages = re.sub(r\" eng\", \" English\", languages)\n",
    "    languages = re.sub(r\" tsn\", \" Tsonga\", languages)\n",
    "    languages = re.sub(r\" nso\", \" Northern Sotho\", languages)\n",
    "    languages = re.sub(r\" zul\", \" IsiZulu\", languages)\n",
    "    languages = re.sub(r\" afr\", \" Afrikaans\", languages)\n",
    "    languages = re.sub(r\" tws\", \" Tswana\", languages)\n",
    "    return str(languages)\n",
    "        "
   ]
  },
  {
   "cell_type": "code",
   "execution_count": 20,
   "id": "30cd070f",
   "metadata": {
    "execution": {
     "iopub.execute_input": "2023-06-24T15:21:12.793391Z",
     "iopub.status.busy": "2023-06-24T15:21:12.792569Z",
     "iopub.status.idle": "2023-06-24T15:21:13.584970Z",
     "shell.execute_reply": "2023-06-24T15:21:13.583537Z"
    },
    "papermill": {
     "duration": 0.813732,
     "end_time": "2023-06-24T15:21:13.588618",
     "exception": false,
     "start_time": "2023-06-24T15:21:12.774886",
     "status": "completed"
    },
    "tags": []
   },
   "outputs": [
    {
     "data": {
      "text/plain": [
       "0    Mmasepala, fa maemo a a kgethegileng a letlele...\n",
       "1    Uzakwaziswa ngokufaneleko nakungafuneka eminye...\n",
       "2           Tshivhumbeo tshi fana na ngano dza vhathu.\n",
       "3    Kube inja nelikati betingevakala kutsi titsini...\n",
       "4                        Winste op buitelandse valuta.\n",
       "5    Ke feela dilense tše hlakilego, tša pono e tee...\n",
       "6    <fn>(762010101403 AM) 1495 Final Gems Birthing...\n",
       "7    Ntjhafatso ya konteraka ya mosebetsi: Etsa bon...\n",
       "8    u-GEMS uhlinzeka ngezinzuzo zemithi yezifo ezi...\n",
       "9             So, on occasion, are statistics misused.\n",
       "Name: CleanText, dtype: object"
      ]
     },
     "metadata": {},
     "output_type": "display_data"
    }
   ],
   "source": [
    "df['CleanText'] = df['CleanText'].apply(before_lowercase)\n",
    "display(df['CleanText'].head(10))"
   ]
  },
  {
   "cell_type": "markdown",
   "id": "b0ab5b56",
   "metadata": {
    "papermill": {
     "duration": 0.017747,
     "end_time": "2023-06-24T15:21:13.625487",
     "exception": false,
     "start_time": "2023-06-24T15:21:13.607740",
     "status": "completed"
    },
    "tags": []
   },
   "source": [
    "# **Remove URL**"
   ]
  },
  {
   "cell_type": "code",
   "execution_count": 21,
   "id": "b39a0e62",
   "metadata": {
    "execution": {
     "iopub.execute_input": "2023-06-24T15:21:13.662056Z",
     "iopub.status.busy": "2023-06-24T15:21:13.661653Z",
     "iopub.status.idle": "2023-06-24T15:21:14.063344Z",
     "shell.execute_reply": "2023-06-24T15:21:14.062063Z"
    },
    "papermill": {
     "duration": 0.424334,
     "end_time": "2023-06-24T15:21:14.066270",
     "exception": false,
     "start_time": "2023-06-24T15:21:13.641936",
     "status": "completed"
    },
    "tags": []
   },
   "outputs": [],
   "source": [
    "def remove_urls(text):\n",
    "    url_pattern = re.compile(r'https?://\\S+|www\\.\\S+')\n",
    "    return url_pattern.sub(r'link', text)\n",
    "\n",
    "from bs4 import BeautifulSoup\n",
    "#Function for removing html\n",
    "def html(text):\n",
    "    return BeautifulSoup(text, \"lxml\").text"
   ]
  },
  {
   "cell_type": "code",
   "execution_count": 22,
   "id": "a3f98990",
   "metadata": {
    "execution": {
     "iopub.execute_input": "2023-06-24T15:21:14.102274Z",
     "iopub.status.busy": "2023-06-24T15:21:14.101461Z",
     "iopub.status.idle": "2023-06-24T15:21:22.366635Z",
     "shell.execute_reply": "2023-06-24T15:21:22.365227Z"
    },
    "papermill": {
     "duration": 8.286702,
     "end_time": "2023-06-24T15:21:22.369608",
     "exception": false,
     "start_time": "2023-06-24T15:21:14.082906",
     "status": "completed"
    },
    "tags": []
   },
   "outputs": [],
   "source": [
    "df['CleanText'] = df['CleanText'].apply(remove_urls)\n",
    "df['CleanText'] = df['CleanText'].apply(html)"
   ]
  },
  {
   "cell_type": "markdown",
   "id": "7d16db11",
   "metadata": {
    "papermill": {
     "duration": 0.021469,
     "end_time": "2023-06-24T15:21:22.408255",
     "exception": false,
     "start_time": "2023-06-24T15:21:22.386786",
     "status": "completed"
    },
    "tags": []
   },
   "source": [
    "# **Lowercase**"
   ]
  },
  {
   "cell_type": "code",
   "execution_count": 23,
   "id": "6bbef3e0",
   "metadata": {
    "execution": {
     "iopub.execute_input": "2023-06-24T15:21:22.447866Z",
     "iopub.status.busy": "2023-06-24T15:21:22.447186Z",
     "iopub.status.idle": "2023-06-24T15:21:22.519153Z",
     "shell.execute_reply": "2023-06-24T15:21:22.517453Z"
    },
    "papermill": {
     "duration": 0.09619,
     "end_time": "2023-06-24T15:21:22.522650",
     "exception": false,
     "start_time": "2023-06-24T15:21:22.426460",
     "status": "completed"
    },
    "tags": []
   },
   "outputs": [
    {
     "data": {
      "text/plain": [
       "0    mmasepala, fa maemo a a kgethegileng a letlele...\n",
       "1    uzakwaziswa ngokufaneleko nakungafuneka eminye...\n",
       "2           tshivhumbeo tshi fana na ngano dza vhathu.\n",
       "3    kube inja nelikati betingevakala kutsi titsini...\n",
       "4                        winste op buitelandse valuta.\n",
       "5    ke feela dilense tše hlakilego, tša pono e tee...\n",
       "6    (762010101403 am) 1495 final gems birthing opt...\n",
       "7    ntjhafatso ya konteraka ya mosebetsi: etsa bon...\n",
       "8    u-gems uhlinzeka ngezinzuzo zemithi yezifo ezi...\n",
       "9             so, on occasion, are statistics misused.\n",
       "Name: CleanText, dtype: object"
      ]
     },
     "metadata": {},
     "output_type": "display_data"
    }
   ],
   "source": [
    "df['CleanText'] = df['CleanText'].str.lower()\n",
    "display(df['CleanText'].head(10))"
   ]
  },
  {
   "cell_type": "code",
   "execution_count": 24,
   "id": "907461a7",
   "metadata": {
    "execution": {
     "iopub.execute_input": "2023-06-24T15:21:22.565918Z",
     "iopub.status.busy": "2023-06-24T15:21:22.564846Z",
     "iopub.status.idle": "2023-06-24T15:21:23.771966Z",
     "shell.execute_reply": "2023-06-24T15:21:23.770732Z"
    },
    "papermill": {
     "duration": 1.229278,
     "end_time": "2023-06-24T15:21:23.774910",
     "exception": false,
     "start_time": "2023-06-24T15:21:22.545632",
     "status": "completed"
    },
    "tags": []
   },
   "outputs": [
    {
     "data": {
      "text/plain": [
       "0    mmasepala, fa maemo a a kgethegileng a letlele...\n",
       "1    uzakwaziswa ngokufaneleko nakungafuneka eminye...\n",
       "2           tshivhumbeo tshi fana na ngano dza vhathu.\n",
       "3    kube inja nelikati betingevakala kutsi titsini...\n",
       "4                        winste op buitelandse valuta.\n",
       "5    ke feela dilense tše hlakilego, tša pono e tee...\n",
       "6    (762010101403 am) 1495 final gems birthing opt...\n",
       "7    notjhafatso ya konoteraka ya mosebetsi: etsa b...\n",
       "8    u-gems uhlinzeka ngezinzuzo zemithi yezifo ezi...\n",
       "9             so, on occasion, are statistics misused.\n",
       "Name: CleanText, dtype: object"
      ]
     },
     "metadata": {},
     "output_type": "display_data"
    }
   ],
   "source": [
    "char_list = [\"don\", \"ain\", \"ain't\", \"aren\", \"arent\", \"aren't\", \"cannot\", \"cant\", \"can't\", \"couldn\", \"couldnt\", \"couldn't\", \"didn\",\n",
    "               \"didn't\", \"doesn\", \"doesn't\", \"don\", \"don't\", \"hadn\", \"hadn't\", \"hasn\", \"hasnt\", \"hasn't\", \"haven\", \"haven't\", \"mightn\", \"mightn't\",\n",
    "               \"isn\", \"isn't\",  \"mustn\", \"mustn't\", \"needn\", \"needn't\", \"nt\", \"shouldn\", \"shouldn't\",  \"wasn\", \"wasnt\", \"wasn't\", \"don't\"]\n",
    "\n",
    "def before_lowercase(language):\n",
    "    language =  re.sub(r\"|\".join(char_list), \"not\", language) \n",
    "    return str(language)\n",
    "\n",
    "df['CleanText'] = df['CleanText'].apply(before_lowercase)\n",
    "display(df['CleanText'].head(10))"
   ]
  },
  {
   "cell_type": "markdown",
   "id": "a8f6ac89",
   "metadata": {
    "papermill": {
     "duration": 0.016367,
     "end_time": "2023-06-24T15:21:23.808340",
     "exception": false,
     "start_time": "2023-06-24T15:21:23.791973",
     "status": "completed"
    },
    "tags": []
   },
   "source": [
    "# **Stopwords**"
   ]
  },
  {
   "cell_type": "code",
   "execution_count": 25,
   "id": "69788a89",
   "metadata": {
    "execution": {
     "iopub.execute_input": "2023-06-24T15:21:23.845998Z",
     "iopub.status.busy": "2023-06-24T15:21:23.845192Z",
     "iopub.status.idle": "2023-06-24T15:21:23.897690Z",
     "shell.execute_reply": "2023-06-24T15:21:23.896130Z"
    },
    "papermill": {
     "duration": 0.075243,
     "end_time": "2023-06-24T15:21:23.900344",
     "exception": false,
     "start_time": "2023-06-24T15:21:23.825101",
     "status": "completed"
    },
    "tags": []
   },
   "outputs": [
    {
     "name": "stdout",
     "output_type": "stream",
     "text": [
      "1041\n"
     ]
    }
   ],
   "source": [
    "stopwords_List = [\"0o\", \"0s\", \"3a\", \"3b\", \"3d\", \"6b\", \"6o\", \"a\", \"a1\", \"a2\", \"a3\", \"a4\", \"ab\", \"able\", \"about\", \"above\", \"abst\", \"ac\", \"accordance\", \"according\", \"accordingly\", \n",
    "                     \"across\", \"act\", \"actually\", \"ad\", \"added\", \"adj\", \"ae\", \"af\", \"after\", \"afterwards\", \"ag\", \"again\", \"ah\", \"aj\", \"al\", \"all\",\n",
    "                      \"also\", \"although\", \"always\", \"am\", \"among\", \"amongst\", \"amoungst\",  \"an\", \"and\", \"announce\", \n",
    "                      \"ao\", \"ap\", \"apparently\", \"appear\",  \"appropriate\", \"to\",\n",
    "                     \"approximately\", \"ar\", \"are\",  \"arise\", \"around\", \"as\", \"a's\", \"aside\",  \"associated\", \"at\", \"au\", \"auth\", \"av\",  \"aw\", \"away\", \"ax\", \"ay\", \n",
    "                     \"az\", \"b\", \"b1\", \"b2\", \"b3\", \"ba\", \"back\", \"bc\", \"bd\", \"be\", \"became\", \"because\", \"become\", \"becomes\", \"becoming\", \"been\", \"before\", \"beforehand\", \"begin\", \"beginning\",\n",
    "                     \"beginnings\", \"begins\", \"behind\", \"being\",  \"below\", \"beside\", \"besides\", \"between\", \"beyond\", \"bi\", \"bill\", \"biol\", \"bj\", \"bk\", \"bl\", \"bn\", \"both\", \"bottom\", \n",
    "                     \"bp\", \"br\", \"brief\", \"briefly\", \"bs\", \"bt\", \"bu\", \"but\", \"bx\", \"by\", \"c\", \"c1\", \"c2\", \"c3\", \"ca\", \"call\", \"came\",  \"cc\", \"cd\", \"ce\", \n",
    "                      \"cf\", \"cg\", \"ch\", \"ci\", \"cit\", \"cj\", \"cl\", \"cm\", \"c'mon\", \"cn\", \"co\", \"com\", \"come\", \"comes\", \"con\", \"concerning\", \"consequently\",\n",
    "                     \"consider\", \"considering\", \"contain\", \"containing\", \"contains\", \"corresponding\", \"could\", \"course\", \"cp\", \"cq\", \"cr\", \"cry\", \"cs\", \"c's\", \"ct\", \"cu\", \"currently\",\n",
    "                     \"cv\", \"cx\", \"cy\", \"cz\", \"d\", \"d2\", \"da\", \"date\", \"dc\", \"dd\", \"de\", \"definitely\", \"describe\", \"described\", \"despite\", \"detail\", \"df\", \"di\", \"did\",  \"different\", \"dj\",\n",
    "                     \"dk\", \"dl\", \"do\", \"does\", \"doing\", \"downwards\", \"dp\", \"dr\", \"ds\", \"dt\", \"du\", \"due\", \"during\", \"dx\", \"dy\", \"e\", \"e2\", \"e3\", \"ea\", \"each\", \"ec\", \"ed\", \n",
    "                     \"edu\", \"ee\", \"ef\", \"effect\", \"eg\", \"ei\", \"eight\", \"eighty\", \"either\", \"ej\", \"el\", \"eleven\", \"else\", \"elsewhere\", \"em\", \"en\", \"end\", \"ending\", \"entirely\", \"eo\", \"ep\", \"eq\",\n",
    "                     \"er\", \"es\", \"especially\", \"est\", \"et\", \"et-al\", \"etc\", \"eu\", \"ev\", \"every\", \"everybody\", \"everyone\", \"everything\", \"everywhere\", \"ex\", \"exactly\", \"example\", \"ey\", \"f\", \"f2\",\n",
    "                     \"fa\", \"far\", \"fc\", \"few\", \"ff\", \"fi\", \"fifteen\", \"fifth\", \"fify\", \"fill\", \"find\", \"fire\", \"first\", \"five\", \"fix\", \"fj\", \"fl\", \"fn\", \"fo\", \"followed\", \"following\", \"follows\",\n",
    "                     \"for\", \"former\", \"formerly\", \"forth\", \"forty\", \"found\", \"four\", \"fr\", \"from\", \"front\", \"fs\", \"ft\", \"fu\", \"full\", \"further\", \"furthermore\", \"fy\", \"g\", \"ga\", \"gave\", \"ge\", \n",
    "                     \"get\", \"gets\", \"getting\", \"gi\", \"give\", \"given\", \"gives\", \"giving\", \"gj\", \"gl\", \"go\", \"goes\", \"going\", \"gone\", \"got\", \"gotten\", \"gr\", \"greetings\", \"gs\", \"gy\", \"h\", \"h2\", \n",
    "                     \"h3\", \"had\", \"happens\", \"hardly\", \"has\",  \"have\",  \"having\", \"he\", \"hed\", \"he'd\", \"he'll\", \"hello\", \"hence\", \"her\", \"here\", \"hereafter\", \"hereby\", \"herein\", \"heres\",\n",
    "                     \"here's\", \"hereupon\", \"hers\", \"herself\", \"hes\", \"he's\", \"hh\", \"hi\", \"hid\", \"him\", \"himself\", \"his\", \"hither\", \"hj\", \"ho\",  \"hopefully\", \"how\", \"howbeit\", \"however\", \n",
    "                     \"how's\", \"hr\", \"hs\", \"http\", \"hu\", \"hundred\", \"hy\", \"i\", \"i2\", \"i3\", \"i4\", \"i6\", \"i7\", \"i8\", \"ia\", \"ib\", \"ibid\", \"ic\", \"id\", \"i'd\", \"ie\", \"if\", \"ig\",  \"ih\", \"ii\", \"ij\",\n",
    "                     \"il\", \"i'll\", \"im\", \"i'm\", \"in\", \"inasmuch\", \"inc\", \"index\", \"indicate\", \"indicated\", \"indicates\", \"inner\", \"insofar\", \"interest\", \"into\", \"invention\",\n",
    "                     \"inward\", \"io\", \"ip\", \"iq\", \"ir\", \"is\",  \"it\", \"itd\", \"it'd\", \"it'll\", \"its\", \"it's\", \"itself\", \"iv\", \"i've\", \"ix\", \"iy\", \"iz\", \"j\", \"jj\", \"jr\", \"js\", \"jt\", \"ju\", \n",
    "                     \"k\", \"ke\", \"keep\", \"keeps\", \"kept\", \"kg\", \"kj\", \"km\", \"know\", \"known\", \"knows\", \"ko\", \"l\", \"l2\", \"la\", \"largely\",  \"lately\", \"later\", \"latter\", \"latterly\", \"lb\", \"lc\",\n",
    "                     \"le\", \"les\", \"lest\", \"let\", \"lets\", \"let's\", \"lf\", \"line\", \"little\", \"lj\", \"ll\", \"ll\", \"ln\", \"lo\", \"look\", \"looking\", \"looks\", \"los\", \"lr\", \"ls\", \"lt\", \"ltd\",\n",
    "                     \"m\", \"m2\", \"ma\", \"made\", \"mainly\", \"make\", \"makes\", \"me\", \"mean\", \"means\", \"meantime\", \"meanwhile\", \"merely\", \"mg\", \"mill\", \"million\", \"mine\", \n",
    "                     \"ml\", \"mn\", \"mo\", \"more\", \"moreover\", \"move\", \"mr\", \"mrs\", \"ms\", \"mt\", \"mu\", \"mug\",  \"my\", \"myself\", \"n\", \"n2\", \"na\", \"name\", \"namely\", \"nay\", \n",
    "                     \"nc\", \"nd\", \"ne\", \"near\", \"nearly\",\"new\", \"next\", \"ng\", \"ni\", \"nine\", \"ninety\", \"nj\", \"nl\", \"nn\", \"nos\", \"noted\",  \"novel\", \"now\", \"nr\", \"ns\",  \"ny\", \"o\", \"oa\", \"ob\", \n",
    "                     \"obtain\", \"obtained\", \"obviously\", \"oc\", \"od\", \"of\", \"off\", \"often\", \"og\", \"oh\", \"oi\", \"oj\", \"ol\", \"old\", \"om\", \"omitted\", \"on\", \"once\", \"one\", \"ones\",  \"onto\", \n",
    "                     \"oo\", \"op\", \"oq\", \"or\", \"ord\", \"os\", \"ot\", \"other\", \"others\",  \"ou\", \"ought\", \"our\", \"ours\", \"ourselves\",  \"overall\", \"ow\", \"owing\", \"own\", \"ox\", \"oz\", \"p\", \"p1\", \"p2\",\n",
    "                     \"p3\", \"page\", \"pagecount\", \"pages\", \"par\", \"part\", \"particular\", \"particularly\", \"pas\", \"past\", \"pc\", \"pd\", \"pe\", \"per\", \"pf\", \"ph\", \"pi\", \"pj\", \"pk\", \"pl\", \"placed\", \n",
    "                      \"plus\", \"pm\", \"pn\", \"po\", \"pp\", \"pq\", \"pr\", \"predominantly\", \"present\", \"presumably\", \"previously\",  \"promptly\", \"ps\", \"pt\", \"pu\", \"put\", \"py\", \"q\", \"qj\", \"qu\", \"que\",\n",
    "                      \"qv\", \"r\", \"r2\", \"ra\", \"ran\", \"rather\", \"rc\", \"rd\", \"re\", \"readily\",  \"ref\", \"refs\", \"regarding\",  \"related\", \"relatively\", \"research-articl\", \"respectively\",\n",
    "                      \"rf\", \"rh\", \"ri\", \"right\", \"rj\", \"rl\", \"rm\", \"rn\", \"ro\", \"rq\", \"rr\", \"rs\", \"rt\", \"ru\", \"run\", \"rv\", \"ry\", \"s\", \"s2\", \"sa\", \"said\", \"same\", \"saw\", \"say\", \"saying\", \"says\",\n",
    "                     \"sc\", \"sd\", \"se\", \"sec\", \"second\", \"secondly\", \"section\", \"see\", \"seeing\", \"seem\", \"seemed\", \"seeming\", \"seems\", \"seen\", \"self\", \"selves\", \"sensible\", \"sent\", \n",
    "                     \"seven\", \"several\", \"sf\", \"shall\", \"shan\", \"shan't\", \"she\", \"shed\", \"she'd\", \"she'll\", \"shes\", \"she's\", \"should\",  \"should've\",  \"si\", \"side\", \"significant\",\n",
    "                     \"significantly\", \"similar\", \"similarly\", \"since\", \"sincere\", \"six\", \"sixty\", \"sj\", \"sl\", \"slightly\", \"sm\", \"sn\", \"so\", \"some\", \"somebody\", \"somehow\", \"someone\",\n",
    "                     \"somethan\", \"something\", \"sometime\", \"sometimes\", \"somewhat\", \"somewhere\", \"soon\", \"sp\", \"specifically\", \"specified\", \"specify\", \"specifying\", \"sq\", \"sr\", \"ss\", \"st\",\n",
    "                      \"sub\", \"substantially\", \"sup\", \"sy\", \"system\", \"sz\", \"t\", \"t1\", \"t2\", \"t3\", \"take\", \"taken\", \"taking\", \"tb\", \"tc\", \"td\", \"te\", \"tell\", \"ten\", \"tends\", \"tf\", \"th\",  \"that\",\n",
    "                     \"that'll\", \"thats\", \"that's\", \"that've\", \"the\", \"their\", \"theirs\", \"them\", \"themselves\", \"then\", \"thence\", \"there\", \"thereafter\", \"thereby\", \"thered\", \"therefore\", \"therein\",\n",
    "                     \"there'll\", \"thereof\", \"therere\", \"theres\", \"there's\", \"thereto\", \"thereupon\", \"there've\", \"these\", \"they\", \"theyd\", \"they'd\", \"they'll\", \"theyre\", \"they're\", \"they've\",\n",
    "                     \"thickv\", \"thin\", \"think\", \"third\", \"this\", \"thorough\", \"thoroughly\", \"those\", \"thou\", \"though\", \"thoughh\", \"thousand\", \"three\", \"throug\", \"through\", \"throughout\", \"thru\", \n",
    "                     \"thus\", \"ti\", \"til\", \"tip\", \"tj\", \"tl\", \"tm\", \"tn\", \"to\",  \"too\", \"took\", \"top\", \"toward\", \"towards\", \"tp\", \"tq\", \"tr\",  \"ts\", \"t's\", \"tt\", \"tv\", \"twelve\", \"twenty\",\n",
    "                     \"twice\", \"two\", \"tx\", \"u\", \"u201d\", \"ue\", \"ui\", \"uj\", \"uk\", \"um\", \"un\", \"under\", \"unto\", \"uo\", \"up\", \"upon\", \"ups\", \"ur\", \"us\", \"use\", \"used\",  \"uses\", \"using\",\"ut\",\n",
    "                     \"v\", \"va\", \"value\", \"various\", \"vd\", \"ve\", \"ve\",  \"via\", \"viz\", \"vj\", \"vo\", \"vol\", \"vols\", \"volumtype\", \"vq\", \"vs\", \"vt\", \"vu\", \"w\", \"wa\", \"want\", \"wants\", \"was\",  \"way\", \"we\", \n",
    "                     \"wed\", \"we'd\",  \"went\", \"were\", \"we're\",  \"we've\", \"what\", \"whatever\", \"what'll\", \"whats\", \"what's\", \"when\", \"whence\", \"whenever\", \"when's\", \"where\", \"whereafter\",\n",
    "                     \"whereas\", \"whereby\", \"wherein\", \"wheres\", \"where's\", \"whereupon\", \"wherever\", \"whether\", \"which\", \"while\", \"whim\", \"whither\", \"who\", \"whod\", \"whoever\", \"whole\", \"who'll\",\n",
    "                     \"whom\", \"whomever\", \"whos\", \"who's\", \"whose\", \"why\", \"why's\", \"wi\", \"widely\", \"will\", \"willing\", \"with\", \"within\",  \"wo\",  \"words\", \"world\", \"would\",  \"www\", \"x\", \"x1\", \"x2\",\n",
    "                     \"x3\", \"xf\", \"xi\", \"xj\", \"xk\", \"xl\", \"xn\", \"xo\", \"xs\", \"xt\", \"xv\", \"xx\", \"y\", \"y2\", \"yes\", \"yet\", \"yj\", \"yl\", \"you\", \"youd\", \"you'd\", \"you'll\", \"your\", \"youre\", \"you're\", \"yours\",\n",
    "                     \"yourself\", \"yourselves\", \"you've\", \"yr\", \"ys\", \"yt\", \"z\", \"zero\", \"zi\", \"zz\",',', '.', '\"', ':', ')', '(', '!', '?', '|', ';', \"'\", '$', '&','/', '[', ']', '>', '%', '=', '#', '*', '+', \n",
    "                '\\\\', '•',  '~', '@', '£', '·', '_', '{', '}', '©', '^', '®', '`',  '<', '→', '°', '€', '™', '›', '♥', '←', '×', '§', '″', '′', 'Â', '█', '½', 'à', '…', '“', '★', '”', '–', '●', 'â', '►', '−',  \n",
    "                'è', '¸', '¾', 'Ã', '⋅', '‘', '∞', '∙', '）', '↓', '、', '│', '（', '»', \n",
    "                '¹', '≤', '‡', '√', '«', '»', '´', 'º', '¾', '¡', '§', '£', '₤']\n",
    "# for adding multiple words\n",
    "print(len(stopwords_List))"
   ]
  },
  {
   "cell_type": "code",
   "execution_count": 26,
   "id": "a249d48d",
   "metadata": {
    "execution": {
     "iopub.execute_input": "2023-06-24T15:21:23.937156Z",
     "iopub.status.busy": "2023-06-24T15:21:23.936734Z",
     "iopub.status.idle": "2023-06-24T15:21:23.942707Z",
     "shell.execute_reply": "2023-06-24T15:21:23.941453Z"
    },
    "papermill": {
     "duration": 0.026975,
     "end_time": "2023-06-24T15:21:23.945090",
     "exception": false,
     "start_time": "2023-06-24T15:21:23.918115",
     "status": "completed"
    },
    "tags": []
   },
   "outputs": [],
   "source": [
    "def remove_swords(text,s_list):\n",
    "    words=[]\n",
    "    for i in text.split():\n",
    "        if i not in stopwords_List:\n",
    "            words.append(i)\n",
    "    return words"
   ]
  },
  {
   "cell_type": "code",
   "execution_count": 27,
   "id": "426ed86b",
   "metadata": {
    "execution": {
     "iopub.execute_input": "2023-06-24T15:21:23.981235Z",
     "iopub.status.busy": "2023-06-24T15:21:23.980812Z",
     "iopub.status.idle": "2023-06-24T15:21:43.498027Z",
     "shell.execute_reply": "2023-06-24T15:21:43.496348Z"
    },
    "papermill": {
     "duration": 19.538504,
     "end_time": "2023-06-24T15:21:43.500926",
     "exception": false,
     "start_time": "2023-06-24T15:21:23.962422",
     "status": "completed"
    },
    "tags": []
   },
   "outputs": [],
   "source": [
    "wrd=[]\n",
    "for texts in df['CleanText']:\n",
    "    \n",
    "    wrd.append(remove_swords(texts ,stopwords_List))"
   ]
  },
  {
   "cell_type": "code",
   "execution_count": 28,
   "id": "ea8f394b",
   "metadata": {
    "execution": {
     "iopub.execute_input": "2023-06-24T15:21:43.537283Z",
     "iopub.status.busy": "2023-06-24T15:21:43.536222Z",
     "iopub.status.idle": "2023-06-24T15:21:43.561501Z",
     "shell.execute_reply": "2023-06-24T15:21:43.560358Z"
    },
    "papermill": {
     "duration": 0.045942,
     "end_time": "2023-06-24T15:21:43.564023",
     "exception": false,
     "start_time": "2023-06-24T15:21:43.518081",
     "status": "completed"
    },
    "tags": []
   },
   "outputs": [
    {
     "data": {
      "text/plain": [
       "0    [mmasepala,, maemo, kgethegileng, letlelela, k...\n",
       "1    [uzakwaziswa, ngokufaneleko, nakungafuneka, em...\n",
       "2       [tshivhumbeo, tshi, fana, ngano, dza, vhathu.]\n",
       "3    [kube, inja, nelikati, betingevakala, kutsi, t...\n",
       "4                       [winste, buitelandse, valuta.]\n",
       "Name: CleanTexts, dtype: object"
      ]
     },
     "execution_count": 28,
     "metadata": {},
     "output_type": "execute_result"
    }
   ],
   "source": [
    "df['CleanTexts'] = wrd\n",
    "df['CleanTexts'].head()"
   ]
  },
  {
   "cell_type": "code",
   "execution_count": 29,
   "id": "5d9582a7",
   "metadata": {
    "execution": {
     "iopub.execute_input": "2023-06-24T15:21:43.600273Z",
     "iopub.status.busy": "2023-06-24T15:21:43.599838Z",
     "iopub.status.idle": "2023-06-24T15:21:43.699955Z",
     "shell.execute_reply": "2023-06-24T15:21:43.695072Z"
    },
    "papermill": {
     "duration": 0.122866,
     "end_time": "2023-06-24T15:21:43.703715",
     "exception": false,
     "start_time": "2023-06-24T15:21:43.580849",
     "status": "completed"
    },
    "tags": []
   },
   "outputs": [
    {
     "data": {
      "text/plain": [
       "0        mmasepala, maemo kgethegileng letlelela kgato eo.\n",
       "1        uzakwaziswa ngokufaneleko nakungafuneka eminye...\n",
       "2                  tshivhumbeo tshi fana ngano dza vhathu.\n",
       "3        kube inja nelikati betingevakala kutsi titsini...\n",
       "4                               winste buitelandse valuta.\n",
       "                               ...                        \n",
       "32995    popo ya dipolateforomo tse tlisa boeteledipele...\n",
       "32996    modise mosadi notse utlwe hore thabang rata ik...\n",
       "32997    closing submission completed tenders august no...\n",
       "32998    nawuphina umnotu ofunyenwe enetyala phanotsi k...\n",
       "32999    mafapha mang ona lokela etsa ditlaleho tsa ona...\n",
       "Name: CleanText, Length: 38682, dtype: object"
      ]
     },
     "execution_count": 29,
     "metadata": {},
     "output_type": "execute_result"
    }
   ],
   "source": [
    "def combine_text(input):\n",
    "    combined = ' '.join(input)\n",
    "    return combined\n",
    "df['CleanText'] = df['CleanTexts'].apply(combine_text)\n",
    "df['CleanText']"
   ]
  },
  {
   "cell_type": "markdown",
   "id": "d8cf3d2c",
   "metadata": {
    "papermill": {
     "duration": 0.024699,
     "end_time": "2023-06-24T15:21:43.748200",
     "exception": false,
     "start_time": "2023-06-24T15:21:43.723501",
     "status": "completed"
    },
    "tags": []
   },
   "source": [
    "#  **Remove Special Characters**"
   ]
  },
  {
   "cell_type": "code",
   "execution_count": 30,
   "id": "31f7c6f7",
   "metadata": {
    "execution": {
     "iopub.execute_input": "2023-06-24T15:21:43.786447Z",
     "iopub.status.busy": "2023-06-24T15:21:43.785773Z",
     "iopub.status.idle": "2023-06-24T15:21:43.801280Z",
     "shell.execute_reply": "2023-06-24T15:21:43.799983Z"
    },
    "papermill": {
     "duration": 0.038164,
     "end_time": "2023-06-24T15:21:43.804122",
     "exception": false,
     "start_time": "2023-06-24T15:21:43.765958",
     "status": "completed"
    },
    "tags": []
   },
   "outputs": [],
   "source": [
    "def clean(language): \n",
    "            \n",
    "    # Special characters\n",
    "    language = re.sub(r\"\\x89Û_\", \"\", language)\n",
    "    language = re.sub(r\"\\x89ÛÒ\", \"\", language)\n",
    "    language = re.sub(r\"\\x89ÛÓ\", \"\", language)\n",
    "    language = re.sub(r\"\\x89ÛÏWhen\", \"When\", language)\n",
    "    language = re.sub(r\"\\x89ÛÏ\", \"\", language)\n",
    "    language = re.sub(r\"China\\x89Ûªs\", \"China's\", language)\n",
    "    language = re.sub(r\"let\\x89Ûªs\", \"let's\", language)\n",
    "    language = re.sub(r\"\\x89Û÷\", \"\", language)\n",
    "    language = re.sub(r\"\\x89Ûª\", \"\", language)\n",
    "    language = re.sub(r\"\\x89Û\\x9d\", \"\", language)\n",
    "    language = re.sub(r\"å_\", \"\", language)\n",
    "    language = re.sub(r\"\\x89Û¢\", \"\", language)\n",
    "    language = re.sub(r\"\\x89Û¢åÊ\", \"\", language)\n",
    "    language = re.sub(r\"fromåÊwounds\", \"from wounds\", language)\n",
    "    language = re.sub(r\"åÊ\", \"\", language)\n",
    "    language = re.sub(r\"åÈ\", \"\", language)\n",
    "    language = re.sub(r\"Ì©\", \"e\", language)\n",
    "    language = re.sub(r\"å¨\", \"\", language)\n",
    "    language = re.sub(r\"åÇ\", \"\", language)\n",
    "    language = re.sub(r\"åÀ\", \"\", language)\n",
    "    language = re.sub(r'\\b[\\w\\-.]+?@\\w+?\\.\\w{2,4}\\b', 'mentioned', language)\n",
    "    language = re.sub(r'(http[s]?\\S+)|(\\w+\\.[A-Za-z]{2,4}\\S*)', 'referance', language)\n",
    "    language = re.sub(r'£|\\$', 'money', language)\n",
    "    language = re.sub(r'\\b(\\+\\d{1,2}\\s)?\\d?[\\-(.]?\\d{3}\\)?[\\s.-]?\\d{3}[\\s.-]?\\d{4}\\b', ' ', language)\n",
    "    language = re.sub(r'\\d+(\\.\\d+)?', ' ', language)\n",
    "    language = re.sub(r'[^\\w\\d\\s]', ' ', language)\n",
    "    language = re.sub(r'\\s+', ' ', language)\n",
    "    language = re.sub(r'^\\s+|\\s+?$', '', language.lower())\n",
    "    # Urls\n",
    "    language = re.sub(r\"https?:\\/\\/t.co\\/[A-Za-z0-9]+\", \"\", language)\n",
    "        \n",
    "    # Words with punctuations and special characters\n",
    "    punctuations = '@#!?+&*[]-%.:/();$=><|{}^' + \"'`\"\n",
    "    for p in punctuations:\n",
    "        language = language.replace(p, f' {p} ')\n",
    "        \n",
    "    # ... and ..\n",
    "    language = language.replace('...', ' ... ')\n",
    "    if '...' not in language:\n",
    "        language = language.replace('..', ' ... ') \n",
    "        \n",
    "    \n",
    "        \n",
    "        \n",
    "    return str(language)\n",
    "    "
   ]
  },
  {
   "cell_type": "code",
   "execution_count": 31,
   "id": "c0fd80be",
   "metadata": {
    "execution": {
     "iopub.execute_input": "2023-06-24T15:21:43.840228Z",
     "iopub.status.busy": "2023-06-24T15:21:43.839741Z",
     "iopub.status.idle": "2023-06-24T15:21:52.022041Z",
     "shell.execute_reply": "2023-06-24T15:21:52.020946Z"
    },
    "papermill": {
     "duration": 8.203329,
     "end_time": "2023-06-24T15:21:52.024616",
     "exception": false,
     "start_time": "2023-06-24T15:21:43.821287",
     "status": "completed"
    },
    "tags": []
   },
   "outputs": [
    {
     "data": {
      "text/plain": [
       "0       mmasepala maemo kgethegileng letlelela kgato eo\n",
       "1     uzakwaziswa ngokufaneleko nakungafuneka eminye...\n",
       "2                tshivhumbeo tshi fana ngano dza vhathu\n",
       "3     kube inja nelikati betingevakala kutsi titsini...\n",
       "4                             winste buitelandse valuta\n",
       "5     feela dilense tše hlakilego tša pono tee goba ...\n",
       "6                      am final gems birthing referance\n",
       "7     notjhafatso ya konoteraka ya mosebetsi etsa bo...\n",
       "8     u gems uhlinzeka ngezinzuzo zemithi yezifo ezi...\n",
       "9                        so occasion statistics misused\n",
       "10    janewari ngwaga ofe kapa dikholego tša gago tl...\n",
       "11    notirho mfumo ku aka swikolo swo ringana no ny...\n",
       "12    kl emetswe k ya molaotheo tlhabololo borataro ...\n",
       "13    tshabo sireletsehe hoo ile ha baka kganyetso y...\n",
       "14    loko nga notiyiso leswaku xiphiqo xa wena nga ...\n",
       "Name: CleanText, dtype: object"
      ]
     },
     "metadata": {},
     "output_type": "display_data"
    }
   ],
   "source": [
    "df['CleanText'] = df['CleanText'].apply(clean)\n",
    "display(df['CleanText'].head(15))"
   ]
  },
  {
   "cell_type": "markdown",
   "id": "c386e065",
   "metadata": {
    "papermill": {
     "duration": 0.016801,
     "end_time": "2023-06-24T15:21:52.059635",
     "exception": false,
     "start_time": "2023-06-24T15:21:52.042834",
     "status": "completed"
    },
    "tags": []
   },
   "source": [
    "# **Remove Punctuations**"
   ]
  },
  {
   "cell_type": "code",
   "execution_count": 32,
   "id": "077d017f",
   "metadata": {
    "execution": {
     "iopub.execute_input": "2023-06-24T15:21:52.096001Z",
     "iopub.status.busy": "2023-06-24T15:21:52.095373Z",
     "iopub.status.idle": "2023-06-24T15:21:52.104537Z",
     "shell.execute_reply": "2023-06-24T15:21:52.103451Z"
    },
    "papermill": {
     "duration": 0.03023,
     "end_time": "2023-06-24T15:21:52.106938",
     "exception": false,
     "start_time": "2023-06-24T15:21:52.076708",
     "status": "completed"
    },
    "tags": []
   },
   "outputs": [
    {
     "data": {
      "text/plain": [
       "'this is my first hackathon'"
      ]
     },
     "execution_count": 32,
     "metadata": {},
     "output_type": "execute_result"
    }
   ],
   "source": [
    "import string\n",
    "regular_punct = list(string.punctuation)\n",
    "#all_punct = list(set(regular_punct+ my_stopwords ))\n",
    "def remove_punctuation(text,punct_list):\n",
    "    for punc in punct_list:\n",
    "        if punc in text:\n",
    "            text = text.replace(punc, ' ')\n",
    "    return text.strip()\n",
    "text =\" this is my first hackathon..\"\n",
    "remove_punctuation(text ,regular_punct)"
   ]
  },
  {
   "cell_type": "markdown",
   "id": "4d3496a1",
   "metadata": {
    "papermill": {
     "duration": 0.016824,
     "end_time": "2023-06-24T15:21:52.141271",
     "exception": false,
     "start_time": "2023-06-24T15:21:52.124447",
     "status": "completed"
    },
    "tags": []
   },
   "source": [
    "# **Explore the Data**"
   ]
  },
  {
   "cell_type": "code",
   "execution_count": 33,
   "id": "a6a1cbf7",
   "metadata": {
    "execution": {
     "iopub.execute_input": "2023-06-24T15:21:52.177416Z",
     "iopub.status.busy": "2023-06-24T15:21:52.176738Z",
     "iopub.status.idle": "2023-06-24T15:21:58.038099Z",
     "shell.execute_reply": "2023-06-24T15:21:58.036917Z"
    },
    "papermill": {
     "duration": 5.883639,
     "end_time": "2023-06-24T15:21:58.042010",
     "exception": false,
     "start_time": "2023-06-24T15:21:52.158371",
     "status": "completed"
    },
    "tags": []
   },
   "outputs": [
    {
     "data": {
      "text/html": [
       "<div>\n",
       "<style scoped>\n",
       "    .dataframe tbody tr th:only-of-type {\n",
       "        vertical-align: middle;\n",
       "    }\n",
       "\n",
       "    .dataframe tbody tr th {\n",
       "        vertical-align: top;\n",
       "    }\n",
       "\n",
       "    .dataframe thead th {\n",
       "        text-align: right;\n",
       "    }\n",
       "</style>\n",
       "<table border=\"1\" class=\"dataframe\">\n",
       "  <thead>\n",
       "    <tr style=\"text-align: right;\">\n",
       "      <th></th>\n",
       "      <th>lang_id</th>\n",
       "      <th>afr</th>\n",
       "      <th>eng</th>\n",
       "      <th>nbl</th>\n",
       "      <th>nso</th>\n",
       "      <th>sot</th>\n",
       "      <th>ssw</th>\n",
       "      <th>tsn</th>\n",
       "      <th>tso</th>\n",
       "      <th>unknown</th>\n",
       "      <th>ven</th>\n",
       "      <th>xho</th>\n",
       "      <th>zul</th>\n",
       "    </tr>\n",
       "  </thead>\n",
       "  <tbody>\n",
       "    <tr>\n",
       "      <th rowspan=\"4\" valign=\"top\">text</th>\n",
       "      <th>count</th>\n",
       "      <td>3000</td>\n",
       "      <td>3000</td>\n",
       "      <td>3000</td>\n",
       "      <td>3000</td>\n",
       "      <td>3000</td>\n",
       "      <td>3000</td>\n",
       "      <td>3000</td>\n",
       "      <td>3000</td>\n",
       "      <td>5682</td>\n",
       "      <td>3000</td>\n",
       "      <td>3000</td>\n",
       "      <td>3000</td>\n",
       "    </tr>\n",
       "    <tr>\n",
       "      <th>unique</th>\n",
       "      <td>2641</td>\n",
       "      <td>2998</td>\n",
       "      <td>2362</td>\n",
       "      <td>2873</td>\n",
       "      <td>2833</td>\n",
       "      <td>2426</td>\n",
       "      <td>2869</td>\n",
       "      <td>2758</td>\n",
       "      <td>5459</td>\n",
       "      <td>2605</td>\n",
       "      <td>2659</td>\n",
       "      <td>2924</td>\n",
       "    </tr>\n",
       "    <tr>\n",
       "      <th>top</th>\n",
       "      <td>wanvoeding is n ernstige probleem in suid-afri...</td>\n",
       "      <td>provincial revenue includes budgeted equitable...</td>\n",
       "      <td>ngokwesekhtjheni yomthetho ophathelene nalokhu...</td>\n",
       "      <td>bolwetši bo phatlalala ka phetelo ya lerothiny...</td>\n",
       "      <td>tip-offs anonymous ke tshebeletso ya mohala wa...</td>\n",
       "      <td>lesifo sisabalala ngematfonsi ematse k k uma n...</td>\n",
       "      <td>diforomo tsa kopo di ka tsewa gongwe go isiwa ...</td>\n",
       "      <td>ku ya hi xiyenge xa xa nawu u ni mfanelo yo ko...</td>\n",
       "      <td>Hoekom moet Onderhoud Betaal word?</td>\n",
       "      <td>vhabebi vhanu vha tea u ṋekana nga vhuṱanzi ha...</td>\n",
       "      <td>ukuthintelwa kweempawu ezibonisa ukungalungi k...</td>\n",
       "      <td>i-tip-offs anonymous wusizo locingo oluzimele ...</td>\n",
       "    </tr>\n",
       "    <tr>\n",
       "      <th>freq</th>\n",
       "      <td>5</td>\n",
       "      <td>2</td>\n",
       "      <td>17</td>\n",
       "      <td>4</td>\n",
       "      <td>6</td>\n",
       "      <td>5</td>\n",
       "      <td>9</td>\n",
       "      <td>10</td>\n",
       "      <td>6</td>\n",
       "      <td>8</td>\n",
       "      <td>6</td>\n",
       "      <td>5</td>\n",
       "    </tr>\n",
       "    <tr>\n",
       "      <th rowspan=\"4\" valign=\"top\">CleanText</th>\n",
       "      <th>count</th>\n",
       "      <td>3000</td>\n",
       "      <td>3000</td>\n",
       "      <td>3000</td>\n",
       "      <td>3000</td>\n",
       "      <td>3000</td>\n",
       "      <td>3000</td>\n",
       "      <td>3000</td>\n",
       "      <td>3000</td>\n",
       "      <td>5682</td>\n",
       "      <td>3000</td>\n",
       "      <td>3000</td>\n",
       "      <td>3000</td>\n",
       "    </tr>\n",
       "    <tr>\n",
       "      <th>unique</th>\n",
       "      <td>2635</td>\n",
       "      <td>2993</td>\n",
       "      <td>2356</td>\n",
       "      <td>2869</td>\n",
       "      <td>2826</td>\n",
       "      <td>2415</td>\n",
       "      <td>2865</td>\n",
       "      <td>2751</td>\n",
       "      <td>5330</td>\n",
       "      <td>2603</td>\n",
       "      <td>2657</td>\n",
       "      <td>2923</td>\n",
       "    </tr>\n",
       "    <tr>\n",
       "      <th>top</th>\n",
       "      <td>dit waarskynlik meer van toepassing groot onde...</td>\n",
       "      <td>amendmenot amended</td>\n",
       "      <td>ngokwesekhtjheni yomthetho ophathelene nalokhu...</td>\n",
       "      <td>sebopego phethagetšego sengwalwana botelele bj...</td>\n",
       "      <td>tip offs anonymous tshebeletso ya mohala fonof...</td>\n",
       "      <td>lesifo sisabalala ngematfonsi ematse uma ngabe...</td>\n",
       "      <td>diforomo tsa kopo ka tsewa gongwe isiwa kwa yu...</td>\n",
       "      <td>ku ya xiyenge xa xa nawu mfanelo yo kombela ku...</td>\n",
       "      <td>referance</td>\n",
       "      <td>vhabebi vhanu vha tea ṋekana nga vhuṱanzi ha v...</td>\n",
       "      <td>ukuthinotelwa kweempawu ezibonisa ukungalungi ...</td>\n",
       "      <td>i tip offs anonymous wusizo locingo oluzimele ...</td>\n",
       "    </tr>\n",
       "    <tr>\n",
       "      <th>freq</th>\n",
       "      <td>5</td>\n",
       "      <td>3</td>\n",
       "      <td>17</td>\n",
       "      <td>4</td>\n",
       "      <td>6</td>\n",
       "      <td>5</td>\n",
       "      <td>9</td>\n",
       "      <td>10</td>\n",
       "      <td>25</td>\n",
       "      <td>8</td>\n",
       "      <td>6</td>\n",
       "      <td>5</td>\n",
       "    </tr>\n",
       "    <tr>\n",
       "      <th rowspan=\"4\" valign=\"top\">CleanTexts</th>\n",
       "      <th>count</th>\n",
       "      <td>3000</td>\n",
       "      <td>3000</td>\n",
       "      <td>3000</td>\n",
       "      <td>3000</td>\n",
       "      <td>3000</td>\n",
       "      <td>3000</td>\n",
       "      <td>3000</td>\n",
       "      <td>3000</td>\n",
       "      <td>5682</td>\n",
       "      <td>3000</td>\n",
       "      <td>3000</td>\n",
       "      <td>3000</td>\n",
       "    </tr>\n",
       "    <tr>\n",
       "      <th>unique</th>\n",
       "      <td>2636</td>\n",
       "      <td>2993</td>\n",
       "      <td>2357</td>\n",
       "      <td>2869</td>\n",
       "      <td>2826</td>\n",
       "      <td>2421</td>\n",
       "      <td>2865</td>\n",
       "      <td>2752</td>\n",
       "      <td>5442</td>\n",
       "      <td>2603</td>\n",
       "      <td>2658</td>\n",
       "      <td>2923</td>\n",
       "    </tr>\n",
       "    <tr>\n",
       "      <th>top</th>\n",
       "      <td>[wanvoeding, ernstige, probleem, suid-afrika, ...</td>\n",
       "      <td>[amendmenot, amended]</td>\n",
       "      <td>[ngokwesekhtjheni, yomthetho, ophathelene, nal...</td>\n",
       "      <td>[sebopego, phethagetšego, sengwalwana, botelel...</td>\n",
       "      <td>[tip-offs, anonymous, tshebeletso, ya, mohala,...</td>\n",
       "      <td>[lesifo, sisabalala, ngematfonsi, ematse, uma,...</td>\n",
       "      <td>[diforomo, tsa, kopo, ka, tsewa, gongwe, isiwa...</td>\n",
       "      <td>[ku, ya, xiyenge, xa, xa, nawu, mfanelo, yo, k...</td>\n",
       "      <td>[url:, link]</td>\n",
       "      <td>[vhabebi, vhanu, vha, tea, ṋekana, nga, vhuṱan...</td>\n",
       "      <td>[ukuthinotelwa, kweempawu, ezibonisa, ukungalu...</td>\n",
       "      <td>[i-tip-offs, anonymous, wusizo, locingo, oluzi...</td>\n",
       "    </tr>\n",
       "    <tr>\n",
       "      <th>freq</th>\n",
       "      <td>5</td>\n",
       "      <td>3</td>\n",
       "      <td>17</td>\n",
       "      <td>4</td>\n",
       "      <td>6</td>\n",
       "      <td>5</td>\n",
       "      <td>9</td>\n",
       "      <td>10</td>\n",
       "      <td>12</td>\n",
       "      <td>8</td>\n",
       "      <td>6</td>\n",
       "      <td>5</td>\n",
       "    </tr>\n",
       "  </tbody>\n",
       "</table>\n",
       "</div>"
      ],
      "text/plain": [
       "lang_id                                                          afr  \\\n",
       "text       count                                                3000   \n",
       "           unique                                               2641   \n",
       "           top     wanvoeding is n ernstige probleem in suid-afri...   \n",
       "           freq                                                    5   \n",
       "CleanText  count                                                3000   \n",
       "           unique                                               2635   \n",
       "           top     dit waarskynlik meer van toepassing groot onde...   \n",
       "           freq                                                    5   \n",
       "CleanTexts count                                                3000   \n",
       "           unique                                               2636   \n",
       "           top     [wanvoeding, ernstige, probleem, suid-afrika, ...   \n",
       "           freq                                                    5   \n",
       "\n",
       "lang_id                                                          eng  \\\n",
       "text       count                                                3000   \n",
       "           unique                                               2998   \n",
       "           top     provincial revenue includes budgeted equitable...   \n",
       "           freq                                                    2   \n",
       "CleanText  count                                                3000   \n",
       "           unique                                               2993   \n",
       "           top                                    amendmenot amended   \n",
       "           freq                                                    3   \n",
       "CleanTexts count                                                3000   \n",
       "           unique                                               2993   \n",
       "           top                                 [amendmenot, amended]   \n",
       "           freq                                                    3   \n",
       "\n",
       "lang_id                                                          nbl  \\\n",
       "text       count                                                3000   \n",
       "           unique                                               2362   \n",
       "           top     ngokwesekhtjheni yomthetho ophathelene nalokhu...   \n",
       "           freq                                                   17   \n",
       "CleanText  count                                                3000   \n",
       "           unique                                               2356   \n",
       "           top     ngokwesekhtjheni yomthetho ophathelene nalokhu...   \n",
       "           freq                                                   17   \n",
       "CleanTexts count                                                3000   \n",
       "           unique                                               2357   \n",
       "           top     [ngokwesekhtjheni, yomthetho, ophathelene, nal...   \n",
       "           freq                                                   17   \n",
       "\n",
       "lang_id                                                          nso  \\\n",
       "text       count                                                3000   \n",
       "           unique                                               2873   \n",
       "           top     bolwetši bo phatlalala ka phetelo ya lerothiny...   \n",
       "           freq                                                    4   \n",
       "CleanText  count                                                3000   \n",
       "           unique                                               2869   \n",
       "           top     sebopego phethagetšego sengwalwana botelele bj...   \n",
       "           freq                                                    4   \n",
       "CleanTexts count                                                3000   \n",
       "           unique                                               2869   \n",
       "           top     [sebopego, phethagetšego, sengwalwana, botelel...   \n",
       "           freq                                                    4   \n",
       "\n",
       "lang_id                                                          sot  \\\n",
       "text       count                                                3000   \n",
       "           unique                                               2833   \n",
       "           top     tip-offs anonymous ke tshebeletso ya mohala wa...   \n",
       "           freq                                                    6   \n",
       "CleanText  count                                                3000   \n",
       "           unique                                               2826   \n",
       "           top     tip offs anonymous tshebeletso ya mohala fonof...   \n",
       "           freq                                                    6   \n",
       "CleanTexts count                                                3000   \n",
       "           unique                                               2826   \n",
       "           top     [tip-offs, anonymous, tshebeletso, ya, mohala,...   \n",
       "           freq                                                    6   \n",
       "\n",
       "lang_id                                                          ssw  \\\n",
       "text       count                                                3000   \n",
       "           unique                                               2426   \n",
       "           top     lesifo sisabalala ngematfonsi ematse k k uma n...   \n",
       "           freq                                                    5   \n",
       "CleanText  count                                                3000   \n",
       "           unique                                               2415   \n",
       "           top     lesifo sisabalala ngematfonsi ematse uma ngabe...   \n",
       "           freq                                                    5   \n",
       "CleanTexts count                                                3000   \n",
       "           unique                                               2421   \n",
       "           top     [lesifo, sisabalala, ngematfonsi, ematse, uma,...   \n",
       "           freq                                                    5   \n",
       "\n",
       "lang_id                                                          tsn  \\\n",
       "text       count                                                3000   \n",
       "           unique                                               2869   \n",
       "           top     diforomo tsa kopo di ka tsewa gongwe go isiwa ...   \n",
       "           freq                                                    9   \n",
       "CleanText  count                                                3000   \n",
       "           unique                                               2865   \n",
       "           top     diforomo tsa kopo ka tsewa gongwe isiwa kwa yu...   \n",
       "           freq                                                    9   \n",
       "CleanTexts count                                                3000   \n",
       "           unique                                               2865   \n",
       "           top     [diforomo, tsa, kopo, ka, tsewa, gongwe, isiwa...   \n",
       "           freq                                                    9   \n",
       "\n",
       "lang_id                                                          tso  \\\n",
       "text       count                                                3000   \n",
       "           unique                                               2758   \n",
       "           top     ku ya hi xiyenge xa xa nawu u ni mfanelo yo ko...   \n",
       "           freq                                                   10   \n",
       "CleanText  count                                                3000   \n",
       "           unique                                               2751   \n",
       "           top     ku ya xiyenge xa xa nawu mfanelo yo kombela ku...   \n",
       "           freq                                                   10   \n",
       "CleanTexts count                                                3000   \n",
       "           unique                                               2752   \n",
       "           top     [ku, ya, xiyenge, xa, xa, nawu, mfanelo, yo, k...   \n",
       "           freq                                                   10   \n",
       "\n",
       "lang_id                                       unknown  \\\n",
       "text       count                                 5682   \n",
       "           unique                                5459   \n",
       "           top     Hoekom moet Onderhoud Betaal word?   \n",
       "           freq                                     6   \n",
       "CleanText  count                                 5682   \n",
       "           unique                                5330   \n",
       "           top                              referance   \n",
       "           freq                                    25   \n",
       "CleanTexts count                                 5682   \n",
       "           unique                                5442   \n",
       "           top                           [url:, link]   \n",
       "           freq                                    12   \n",
       "\n",
       "lang_id                                                          ven  \\\n",
       "text       count                                                3000   \n",
       "           unique                                               2605   \n",
       "           top     vhabebi vhanu vha tea u ṋekana nga vhuṱanzi ha...   \n",
       "           freq                                                    8   \n",
       "CleanText  count                                                3000   \n",
       "           unique                                               2603   \n",
       "           top     vhabebi vhanu vha tea ṋekana nga vhuṱanzi ha v...   \n",
       "           freq                                                    8   \n",
       "CleanTexts count                                                3000   \n",
       "           unique                                               2603   \n",
       "           top     [vhabebi, vhanu, vha, tea, ṋekana, nga, vhuṱan...   \n",
       "           freq                                                    8   \n",
       "\n",
       "lang_id                                                          xho  \\\n",
       "text       count                                                3000   \n",
       "           unique                                               2659   \n",
       "           top     ukuthintelwa kweempawu ezibonisa ukungalungi k...   \n",
       "           freq                                                    6   \n",
       "CleanText  count                                                3000   \n",
       "           unique                                               2657   \n",
       "           top     ukuthinotelwa kweempawu ezibonisa ukungalungi ...   \n",
       "           freq                                                    6   \n",
       "CleanTexts count                                                3000   \n",
       "           unique                                               2658   \n",
       "           top     [ukuthinotelwa, kweempawu, ezibonisa, ukungalu...   \n",
       "           freq                                                    6   \n",
       "\n",
       "lang_id                                                          zul  \n",
       "text       count                                                3000  \n",
       "           unique                                               2924  \n",
       "           top     i-tip-offs anonymous wusizo locingo oluzimele ...  \n",
       "           freq                                                    5  \n",
       "CleanText  count                                                3000  \n",
       "           unique                                               2923  \n",
       "           top     i tip offs anonymous wusizo locingo oluzimele ...  \n",
       "           freq                                                    5  \n",
       "CleanTexts count                                                3000  \n",
       "           unique                                               2923  \n",
       "           top     [i-tip-offs, anonymous, wusizo, locingo, oluzi...  \n",
       "           freq                                                    5  "
      ]
     },
     "execution_count": 33,
     "metadata": {},
     "output_type": "execute_result"
    }
   ],
   "source": [
    "df.groupby('lang_id').describe(include=['O']).T"
   ]
  }
 ],
 "metadata": {
  "kernelspec": {
   "display_name": "Python 3",
   "language": "python",
   "name": "python3"
  },
  "language_info": {
   "codemirror_mode": {
    "name": "ipython",
    "version": 3
   },
   "file_extension": ".py",
   "mimetype": "text/x-python",
   "name": "python",
   "nbconvert_exporter": "python",
   "pygments_lexer": "ipython3",
   "version": "3.10.10"
  },
  "papermill": {
   "default_parameters": {},
   "duration": 64.435528,
   "end_time": "2023-06-24T15:21:59.284627",
   "environment_variables": {},
   "exception": null,
   "input_path": "__notebook__.ipynb",
   "output_path": "__notebook__.ipynb",
   "parameters": {},
   "start_time": "2023-06-24T15:20:54.849099",
   "version": "2.4.0"
  }
 },
 "nbformat": 4,
 "nbformat_minor": 5
}
